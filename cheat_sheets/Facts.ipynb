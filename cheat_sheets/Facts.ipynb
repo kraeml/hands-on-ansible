{
 "cells": [
  {
   "cell_type": "markdown",
   "metadata": {},
   "source": [
    "# Facts\n",
    "\n",
    "Facts: information about hosts in your inventory that’s gathered by Ansible when it connects to a host.\n",
    "\n",
    "You can use these facts in your plays – they are represented as variables stored in a dictionary.\n",
    "\n",
    "\n",
    "Run the setup module to see facts.\n",
    "\n",
    "\tansible 10.0.3.41 -m setup -u root\n",
    "\n",
    "\n",
    "\n",
    "## Disable Fact Gathering\n",
    "\n",
    "In some cases you do *not* want Ansible to automatically gather facts when it connects to a target machine. For example, this is often true when you manage system facts outside of Ansible, or when you are preparing a host that doesn't have Python installed.\n",
    "\n",
    "You can disable fact gathering by setting ‘gather_facts: False’ at the playbook level (e.g. prepare_ansible_target.yml).\n",
    "\n",
    "\n",
    "\n",
    "## Access Facts\n",
    "\n",
    "Gathered facts are added to the Host variable scope. You can access them through the 'hostvars' dictionary.\n",
    "\n",
    "\t{{ hostvars[host]['fact_name'] }}\n",
    "\n",
    "\n",
    "\n",
    "## Fact-testing tasks\n",
    "Try running the following tasks on a host:\n",
    "\n",
    "\t- name: All the things\n",
    "\t  debug: msg={{ hostvars[inventory_hostname] }}\n",
    "\n",
    "\t- name: However this machine is listed in the inventory\n",
    "\t  debug: msg={{ inventory_hostname }}\n",
    "\n",
    "\t- name: Just the hostname\n",
    "\t  debug: msg={{ ansible_hostname }}\n",
    "\n",
    "\t- name: Just the primary IPv4 address\n",
    "\t  debug: msg={{ hostvars[inventory_hostname]['ansible_default_ipv4']['address'] }}"
   ]
  },
  {
   "cell_type": "code",
   "execution_count": null,
   "metadata": {},
   "outputs": [],
   "source": []
  }
 ],
 "metadata": {
  "kernelspec": {
   "display_name": "Bash",
   "language": "bash",
   "name": "bash"
  },
  "language_info": {
   "codemirror_mode": "shell",
   "file_extension": ".sh",
   "mimetype": "text/x-sh",
   "name": "bash"
  },
  "toc": {
   "nav_menu": {},
   "number_sections": true,
   "sideBar": true,
   "skip_h1_title": false,
   "title_cell": "Table of Contents",
   "title_sidebar": "Contents",
   "toc_cell": false,
   "toc_position": {},
   "toc_section_display": true,
   "toc_window_display": false
  }
 },
 "nbformat": 4,
 "nbformat_minor": 2
}
