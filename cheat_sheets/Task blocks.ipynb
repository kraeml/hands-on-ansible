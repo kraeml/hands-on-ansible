{
 "cells": [
  {
   "cell_type": "markdown",
   "metadata": {},
   "source": [
    "# Task Blocks in Ansible\n",
    "\n",
    "Blocks can be used for batching tasks together for easier and cleaner control flow, error handling, and cleanup.\n",
    "\n",
    "A block starts with a \"block:\" statement, and can have (optional) \"rescue\" and \"always\" elements.\n",
    "\n",
    "    block:\n",
    "      - name: First item\n",
    "        command: \"ls /somedir\"\n",
    "        \n",
    "        rescue:\n",
    "          - name: Only run when a task inside the block throws an error.\n",
    "            debug: msg=\"Something went wrong.\"\n",
    "        always:\n",
    "          - name: Always run.\n",
    "            debug: msg=\"Regardless of what happened above, we're done with this block!\"\n",
    "\n",
    "\n",
    "A common use is to run an application download/unzip/install in the main task list of the block, put debugging output into the \"rescue\" tasklist, and then do cleanup in the \"always\" tasklist."
   ]
  }
 ],
 "metadata": {
  "kernelspec": {
   "display_name": "Bash",
   "language": "bash",
   "name": "bash"
  },
  "language_info": {
   "codemirror_mode": "shell",
   "file_extension": ".sh",
   "mimetype": "text/x-sh",
   "name": "bash"
  },
  "toc": {
   "nav_menu": {},
   "number_sections": true,
   "sideBar": true,
   "skip_h1_title": false,
   "title_cell": "Table of Contents",
   "title_sidebar": "Contents",
   "toc_cell": false,
   "toc_position": {},
   "toc_section_display": true,
   "toc_window_display": false
  }
 },
 "nbformat": 4,
 "nbformat_minor": 2
}
