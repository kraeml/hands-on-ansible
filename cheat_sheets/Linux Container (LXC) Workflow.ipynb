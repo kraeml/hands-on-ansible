{
 "cells": [
  {
   "cell_type": "markdown",
   "metadata": {},
   "source": [
    "# Linux Container (LXC) Workflow\n",
    "\n",
    "### Create a fresh Linux container\n",
    "    lxc-create -t ubuntu -n mycontainername\n",
    "\n",
    "### Start a container (daemonized, i.e. *not* attached to your current shell)\n",
    "    lxc-start -n mycontainername -d\n",
    "\n",
    "### Attach to a running container\n",
    "    lxc-attach -n mycontainername\n",
    "\n",
    "### Disconnecting from a container to which you've attached\n",
    "Just run `logout`, `exit`, or type in Ctrl-d to detach from the container.\n",
    "\n",
    "### Delete a container\n",
    "    lxc-destroy -n mycontainername\n",
    "\n",
    "\n",
    "## Prepping a (running) default `ubuntu` container for the first ansible run\n",
    "To manually prep a container for the first ansible run, you'll need to install python and add your SSH key so that you can log in without a password.\n",
    "\n",
    "* Check your container's IP address with `lxc-ls --fancy`\n",
    "* Attach to your container with `lxc-attach -n mycontainername`\n",
    "* Install Python 2 with `apt-get install python`\n",
    "* In another shell, grab the SSH pubkey from the keypair you want to connect with (e.g. `cat ~/.ssh/id_rsa.pub`)\n",
    "* In your container, create the SSH directory for the `ubuntu` user and add your key to allow login:\n",
    "    mkdir /root/.ssh\n",
    "    chmod 0700 /root/.ssh\n",
    "    vi /root/.ssh/authorized_keys\n",
    "    # in the vi editor, hit 'i' to enter insertmode , and then Ctrl(hold)-Shift(hold)-v(release) to paste your previously copied SSH pubkey\n",
    "    \n",
    "    # to save the file in vi, hit the 'esc' key and type ':wq' (no quotes) before hitting ENTER.\n",
    "    # to quit without saving, hit the 'esc' key and type ':q!'\n",
    "    # don't be scared, vi doesn't bite and it's no big deal if you screw something up at this point.\n",
    "* Disconnect from the container with `Ctrl-d`\n",
    "* Connect via SSH to the container for the first time, e.g. `ssh root@CONTAINER_IP`\n",
    "\n",
    "\n",
    "\n",
    "## Running an Ansible playbook on a running container\n",
    "\n",
    "* make sure the container's current IP is in your /etc/ansible/hosts file (or a local hosts file that you pass to ansible using the `-i` command-line option).\n",
    "* `ansible-playbook playbookname.yml -u login_user`\n",
    "\n",
    "For example, to run an nginx setup playbook stored in a file called nginx.yml, I'd run:\n",
    "`ansible-playbook nginx.yml -u root`\n",
    "\n",
    "There are many other options/arguments which you can add to this ansible-playbook command as well. Check the official Ansible documentation for details.\n"
   ]
  },
  {
   "cell_type": "code",
   "execution_count": null,
   "metadata": {},
   "outputs": [],
   "source": []
  }
 ],
 "metadata": {
  "kernelspec": {
   "display_name": "Bash",
   "language": "bash",
   "name": "bash"
  },
  "language_info": {
   "codemirror_mode": "shell",
   "file_extension": ".sh",
   "mimetype": "text/x-sh",
   "name": "bash"
  },
  "toc": {
   "nav_menu": {},
   "number_sections": true,
   "sideBar": true,
   "skip_h1_title": false,
   "title_cell": "Table of Contents",
   "title_sidebar": "Contents",
   "toc_cell": false,
   "toc_position": {},
   "toc_section_display": true,
   "toc_window_display": false
  }
 },
 "nbformat": 4,
 "nbformat_minor": 2
}
