{
 "cells": [
  {
   "cell_type": "markdown",
   "metadata": {
    "slideshow": {
     "slide_type": "slide"
    }
   },
   "source": [
    "# Control Flow and Conditionals in Ansible\n",
    "\n",
    "Official documentation here: http://docs.ansible.com/ansible/playbooks_loops.html"
   ]
  },
  {
   "cell_type": "markdown",
   "metadata": {
    "slideshow": {
     "slide_type": "slide"
    }
   },
   "source": [
    "## when\n",
    "\n",
    "The basic conditional. The task runs if the \"when\" clause evaluates to \"True\".\n",
    "\n",
    "    - name: If we're running systemd, create systemd unit file\n",
    "      template: src=mattermost.service dest=/etc/systemd/system/mattermost.service\n",
    "      when: systemd_installed.stat.exists\n",
    "\n",
    "\n",
    "    - command: /bin/emergencyshutoff\n",
    "      when: result|failed\n",
    "      # when: result|{succeeded,skipped}"
   ]
  },
  {
   "cell_type": "markdown",
   "metadata": {
    "slideshow": {
     "slide_type": "slide"
    }
   },
   "source": [
    "## register\n",
    "\n",
    "Register stores the output and state of a task in a variable.\n",
    "\n",
    "    - stat: path={{ mattermost_directory }}\n",
    "      register: mattermost_install\n",
    "\n",
    "    - shell: whoami\n",
    "      register: user_name\n",
    "\n",
    "Registered variables can be used with the familiar curly-brace syntax:\n",
    "\n",
    "    {{ user_name.stdout }}\n",
    "    {{ user_name.stderr }}\n",
    "    {{ mattermost_install.stat.exists == False }}"
   ]
  },
  {
   "cell_type": "markdown",
   "metadata": {
    "slideshow": {
     "slide_type": "slide"
    }
   },
   "source": [
    "## Iteration\n",
    "\n",
    "When iterators are used together with a `when`, the `when` is evaluated for *each* item. Careful, this means you can accidentally skip list items if you're making decisions based on them.\n",
    "On the other hand, it allows you to sort or select only matching items, which can be useful."
   ]
  },
  {
   "cell_type": "markdown",
   "metadata": {
    "slideshow": {
     "slide_type": "subslide"
    }
   },
   "source": [
    "### with_items\n",
    "\n",
    "Iterates over a list:\n",
    "\n",
    "    - name: COMMON | Install basic packages\n",
    "      package: name={{ item }} state=present\n",
    "      with_items:\n",
    "        - wget\n",
    "        - vim\n",
    "        - nano\n",
    "        - curl\n",
    "\n",
    "If you've got a variable that points to a list, you can use that:\n",
    "\n",
    "    with_items: \"{{ my_wonderful_list }}\""
   ]
  },
  {
   "cell_type": "markdown",
   "metadata": {
    "slideshow": {
     "slide_type": "subslide"
    }
   },
   "source": [
    "### with_dict\n",
    "\n",
    "You've defined a dictionary (YAML hash) like this:\n",
    "\n",
    "    ---\n",
    "    foods:\n",
    "      pizza:\n",
    "        woah: 3\n",
    "        yum: 10\n",
    "      curry:\n",
    "        woah: 7\n",
    "        yum: 10\n",
    "      durian:\n",
    "        woah: 11\n",
    "        yum: 1\n",
    "  \n",
    "You can iterate over it like so:\n",
    "\n",
    "    - name: Ruminate About Foods\n",
    "      debug: msg=\"{{ item.key }} has an awesomeness of {{ item.value.woah }} and a deliciousness of {{ item.value.yum }}.\"\n",
    "      with_dict: \"{{ foods }}\"\n"
   ]
  },
  {
   "cell_type": "markdown",
   "metadata": {
    "slideshow": {
     "slide_type": "subslide"
    }
   },
   "source": [
    "### with_nested\n",
    "\n",
    "Nested loops! I've stolen the following from the official docs, since it's a great example:\n",
    "\n",
    "    - name: Give users access to multiple databases\n",
    "      mysql_user: name={{ item[0] }} priv={{ item[1] }}.*:ALL append_privs=yes password=foo\n",
    "      with_nested:\n",
    "        - [ 'alice', 'bob', 'dave' ]\n",
    "        - [ 'clientdb', 'employeedb', 'providerdb', 'testdb' ]"
   ]
  },
  {
   "cell_type": "markdown",
   "metadata": {
    "slideshow": {
     "slide_type": "slide"
    }
   },
   "source": [
    "## changed_when\n",
    "\n",
    "Control when your task reports a change. This can be useful for things like \"raw\" or \"shell\" that always report a change (since Ansible can't know when they produce side effects on the target system).\n",
    "\n",
    "e.g.\n",
    "\n",
    "    - command: \"apt-get upgrade -y\"\n",
    "      register: apt_upgrade\n",
    "      changed_when: \"'0 upgraded, 0 newly installed' not in apt_upgrade.stdout\"\n",
    "      # or\n",
    "      # changed_when: \"'Processing' in apt_upgrade.stdout\""
   ]
  },
  {
   "cell_type": "markdown",
   "metadata": {
    "slideshow": {
     "slide_type": "slide"
    }
   },
   "source": [
    "## failed_when\n",
    "\n",
    "    - command: \"ls /some/nonexistent/dir\"\n",
    "      register: mylisting\n",
    "      failed_when: \"'foo' not in mylisting.stderr\"\n",
    "      ignore_errors: yes"
   ]
  },
  {
   "cell_type": "markdown",
   "metadata": {
    "slideshow": {
     "slide_type": "slide"
    }
   },
   "source": [
    "## ignore_errors\n",
    "\n",
    "When a task is likely to produce errors in STDERR, you can ignore them with ignore_errors."
   ]
  },
  {
   "cell_type": "markdown",
   "metadata": {
    "slideshow": {
     "slide_type": "slide"
    }
   },
   "source": [
    "## Is something defined?\n",
    "\n",
    "    - name: Check if a variable is defined\n",
    "      debug: msg=\"Yes, myvariable is defined.\"\n",
    "      when: myvariable is defined"
   ]
  }
 ],
 "metadata": {
  "celltoolbar": "Slideshow",
  "kernelspec": {
   "display_name": "Bash",
   "language": "bash",
   "name": "bash"
  },
  "language_info": {
   "codemirror_mode": "shell",
   "file_extension": ".sh",
   "mimetype": "text/x-sh",
   "name": "bash"
  },
  "toc": {
   "nav_menu": {},
   "number_sections": true,
   "sideBar": true,
   "skip_h1_title": false,
   "title_cell": "Table of Contents",
   "title_sidebar": "Contents",
   "toc_cell": false,
   "toc_position": {},
   "toc_section_display": true,
   "toc_window_display": false
  }
 },
 "nbformat": 4,
 "nbformat_minor": 2
}
