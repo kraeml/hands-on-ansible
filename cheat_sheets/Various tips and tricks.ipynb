{
 "cells": [
  {
   "cell_type": "markdown",
   "metadata": {},
   "source": [
    "# Various tips and tricks\n",
    "\n",
    "## Waiting before starting a task\n",
    "\n",
    "Sometimes you need to wait for something to happen. For example, when you wait for a third party (e.g. AWS) to finish provisioning something.\n",
    "\n",
    "    - name: Wait for SSH to come up\n",
    "      wait_for: host={{ item.public_dns_name }} port=22 delay=60 timeout=320 state=started\n",
    "      with_items: '{{ ec2.instances }}'\n",
    "\n",
    "\n",
    "Other examples:\n",
    "\n",
    "    wait: yes\n",
    "    wait_for: state=started host={{ myhost }} port=1234 delay=60 timeout=320\n",
    "    wait_for: host=\"{{ myamazonhost['instance'].status == 'available' }}\" port=1234 delay=60 timeout=320 state=started\n",
    "    wait_timeout: 600\n",
    "\n",
    "\n",
    "\n",
    "## Running ansible tasks on your local machine\n",
    "\n",
    "Run from the command line with --connection=local. For example:\n",
    "\n",
    "    ansible-playbook do_local_stuff.yml --connection=local"
   ]
  },
  {
   "cell_type": "code",
   "execution_count": null,
   "metadata": {},
   "outputs": [],
   "source": []
  }
 ],
 "metadata": {
  "kernelspec": {
   "display_name": "Bash",
   "language": "bash",
   "name": "bash"
  },
  "language_info": {
   "codemirror_mode": "shell",
   "file_extension": ".sh",
   "mimetype": "text/x-sh",
   "name": "bash"
  },
  "toc": {
   "nav_menu": {},
   "number_sections": true,
   "sideBar": true,
   "skip_h1_title": false,
   "title_cell": "Table of Contents",
   "title_sidebar": "Contents",
   "toc_cell": false,
   "toc_position": {},
   "toc_section_display": true,
   "toc_window_display": false
  }
 },
 "nbformat": 4,
 "nbformat_minor": 2
}
