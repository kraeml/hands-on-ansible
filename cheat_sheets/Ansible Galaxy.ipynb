{
 "cells": [
  {
   "cell_type": "markdown",
   "metadata": {},
   "source": [
    "# Ansible Galaxy\n",
    "\n",
    "\n",
    "    ansible-galaxy install username.role_name\n",
    "    ansible-galaxy install tutorialinux.nginx,v1.8.24\n",
    "    ansible-galaxy install git+https://github.com/groovemonkey/nginx.git\n",
    "    ansible-galaxy install -r requirements.yml (roles file)\n",
    "    sudo ansible-galaxy remove some.role\n",
    "\n",
    "Roles are installed in /etc/ansible/roles/ by default. You can configure this in /etc/ansible/ansible.cfg or with the --roles-path argument.\n",
    "\n",
    "    ansible-galaxy install --roles-path . jeqo.nginx\n",
    "\n",
    "\n",
    "\n",
    "## Practical\n",
    "\n",
    "### Download a role\n",
    "\n",
    "    sudo ansible-galaxy install jeqo.nginx\n",
    "    ansible-galaxy list\n",
    "\n",
    "\n",
    "### Create a playbook that uses this role\n",
    "\n",
    "nano test.yml\n",
    "\n",
    "    - hosts: all\n",
    "      roles:\n",
    "      - { role: jeqo.nginx }\n",
    "\n",
    "\n",
    "ansible-playbook test.yml -i hosts -u ubuntu -k --ask-sudo-pass"
   ]
  },
  {
   "cell_type": "code",
   "execution_count": null,
   "metadata": {},
   "outputs": [],
   "source": []
  }
 ],
 "metadata": {
  "kernelspec": {
   "display_name": "Bash",
   "language": "bash",
   "name": "bash"
  },
  "language_info": {
   "codemirror_mode": "shell",
   "file_extension": ".sh",
   "mimetype": "text/x-sh",
   "name": "bash"
  },
  "toc": {
   "nav_menu": {},
   "number_sections": true,
   "sideBar": true,
   "skip_h1_title": false,
   "title_cell": "Table of Contents",
   "title_sidebar": "Contents",
   "toc_cell": false,
   "toc_position": {},
   "toc_section_display": true,
   "toc_window_display": false
  }
 },
 "nbformat": 4,
 "nbformat_minor": 2
}
