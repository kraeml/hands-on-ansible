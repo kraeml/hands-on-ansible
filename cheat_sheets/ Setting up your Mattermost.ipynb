{
 "cells": [
  {
   "cell_type": "markdown",
   "metadata": {},
   "source": [
    "# Setting up your Mattermost machine(s)\n",
    "\n",
    "## Create Containers\n",
    "You'll need to create these one at a time.\n",
    "\n",
    "\tsudo lxc-create -n mattermost -t ubuntu\n",
    "\tsudo lxc-create -n matterweb -t ubuntu\n",
    "\tsudo lxc-create -n matterdb -t ubuntu\n",
    "\n",
    "\n",
    "### Start the Containers\n",
    "\n",
    "\tsudo lxc-start -n mattermost -d\n",
    "\tsudo lxc-start -n matterweb -d\n",
    "\tsudo lxc-start -n matterdb -d\n",
    "\tsudo lxc-ls -f\n",
    "\n",
    "\n",
    "## Prep machines\n",
    "\n",
    "You may have to ssh to each host first, if the ansible 2.2 regression is not fixed yet. Just add each host to your known_hosts by typing 'yes' and you'll be ready to go. Ansible version that have this bug fixed will not have to do this step first, and can directly run the commands below.\n",
    "\n",
    "\tcd /home/dave/code/hands-on-ansible/02-playbooks/00-simple-playbook-examples\n",
    "\tvim inv\n",
    "\tansible-playbook prepare_ansible_target.yml -k --ask-sudo-pass -i inv\n",
    "\n",
    "\n",
    "## Install Mattermost\n",
    "\n",
    "\tcd /home/dave/code/hands-on-ansible/02-playbooks/02-install-mattermost/install_mattermost\n",
    "\tvim hosts\n",
    "\tansible-playbook install-mattermost.yml -i hosts"
   ]
  },
  {
   "cell_type": "code",
   "execution_count": null,
   "metadata": {},
   "outputs": [],
   "source": []
  }
 ],
 "metadata": {
  "kernelspec": {
   "display_name": "Bash",
   "language": "bash",
   "name": "bash"
  },
  "language_info": {
   "codemirror_mode": "shell",
   "file_extension": ".sh",
   "mimetype": "text/x-sh",
   "name": "bash"
  },
  "toc": {
   "nav_menu": {},
   "number_sections": true,
   "sideBar": true,
   "skip_h1_title": false,
   "title_cell": "Table of Contents",
   "title_sidebar": "Contents",
   "toc_cell": false,
   "toc_position": {},
   "toc_section_display": true,
   "toc_window_display": false
  }
 },
 "nbformat": 4,
 "nbformat_minor": 2
}
