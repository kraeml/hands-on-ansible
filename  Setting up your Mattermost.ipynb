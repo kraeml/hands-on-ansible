{
 "cells": [
  {
   "cell_type": "markdown",
   "metadata": {},
   "source": [
    "# Setting up your Mattermost machine(s)"
   ]
  },
  {
   "cell_type": "markdown",
   "metadata": {},
   "source": [
    "## Create Containers\n",
    "You'll need to create these one at a time.\n",
    "\n",
    "\tsudo lxc-create -n mattermost -t ubuntu\n",
    "\tsudo lxc-create -n matterweb -t ubuntu\n",
    "\tsudo lxc-create -n matterdb -t ubuntu"
   ]
  },
  {
   "cell_type": "code",
   "execution_count": 1,
   "metadata": {
    "ExecuteTime": {
     "end_time": "2018-03-06T13:48:17.775721Z",
     "start_time": "2018-03-06T13:48:17.667163Z"
    }
   },
   "outputs": [
    {
     "name": "stdout",
     "output_type": "stream",
     "text": [
      "/home/vagrant/rdf/ais/hands-on-ansible\n"
     ]
    }
   ],
   "source": [
    "pwd"
   ]
  },
  {
   "cell_type": "code",
   "execution_count": 2,
   "metadata": {
    "ExecuteTime": {
     "end_time": "2018-03-06T13:49:17.894546Z",
     "start_time": "2018-03-06T13:48:36.342564Z"
    },
    "collapsed": true
   },
   "outputs": [
    {
     "name": "stdout",
     "output_type": "stream",
     "text": [
      "Checking cache download in /var/cache/lxc/xenial/rootfs-amd64 ... \n",
      "Copy /var/cache/lxc/xenial/rootfs-amd64 to /var/lib/lxc/mattermost/rootfs ... \n",
      "Copying rootfs to /var/lib/lxc/mattermost/rootfs ...\n",
      "Generating locales (this might take a while)...\n",
      "  de_DE.UTF-8... done\n",
      "Generation complete.\n",
      "debconf: kann Oberfläche nicht initialisieren: Dialog\n",
      "debconf: (Die Dialog-Oberfläche funktioniert nicht auf einem Dumb-Terminal, einem Emacs-Shellbuffer oder ohne ein steuerndes Terminal.)\n",
      "debconf: greife zurück auf die Oberfläche: Readline\n",
      "debconf: kann Oberfläche nicht initialisieren: Readline\n",
      "debconf: (Can't locate Term/ReadLine.pm in @INC (you may need to install the Term::ReadLine module) (@INC contains: /etc/perl /usr/local/lib/x86_64-linux-gnu/perl/5.22.1 /usr/local/share/perl/5.22.1 /usr/lib/x86_64-linux-gnu/perl5/5.22 /usr/share/perl5 /usr/lib/x86_64-linux-gnu/perl/5.22 /usr/share/perl/5.22 /usr/local/lib/site_perl /usr/lib/x86_64-linux-gnu/perl-base .) at /usr/share/perl5/Debconf/FrontEnd/Readline.pm line 7.)\n",
      "debconf: greife zurück auf die Oberfläche: Teletype\n",
      "Creating SSH2 RSA key; this may take some time ...\n",
      "2048 SHA256:WimAAzqqb/YmMdwLzjIzuNIpa3so01z9GaYbFwMhECM root@rdf-dev (RSA)\n",
      "Creating SSH2 DSA key; this may take some time ...\n",
      "1024 SHA256:uERgW7ZDqFWtvc+t90QMHOd+gdCQNflxyESo8yf6xKs root@rdf-dev (DSA)\n",
      "Creating SSH2 ECDSA key; this may take some time ...\n",
      "256 SHA256:+69Rav8a7KF8Nly6yx7bINkEg72fRjAoBo8iDRscHfM root@rdf-dev (ECDSA)\n",
      "Creating SSH2 ED25519 key; this may take some time ...\n",
      "256 SHA256:Y85DrKDUtH+O2K7qBnMvI8Umcrfb87YIjF5ILaqxGWw root@rdf-dev (ED25519)\n",
      "invoke-rc.d: could not determine current runlevel\n",
      "invoke-rc.d: policy-rc.d denied execution of start.\n",
      "\n",
      "Current default time zone: 'Etc/UTC'\n",
      "Local time is now:      Tue Mar  6 13:49:01 UTC 2018.\n",
      "Universal Time is now:  Tue Mar  6 13:49:01 UTC 2018.\n",
      "\n",
      "\n",
      "##\n",
      "# The default user is 'ubuntu' with password 'ubuntu'!\n",
      "# Use the 'sudo' command to run tasks as root in the container.\n",
      "##\n",
      "\n",
      "Checking cache download in /var/cache/lxc/xenial/rootfs-amd64 ... \n",
      "Copy /var/cache/lxc/xenial/rootfs-amd64 to /var/lib/lxc/matterweb/rootfs ... \n",
      "Copying rootfs to /var/lib/lxc/matterweb/rootfs ...\n",
      "Generating locales (this might take a while)...\n",
      "  de_DE.UTF-8... done\n",
      "Generation complete.\n",
      "debconf: kann Oberfläche nicht initialisieren: Dialog\n",
      "debconf: (Die Dialog-Oberfläche funktioniert nicht auf einem Dumb-Terminal, einem Emacs-Shellbuffer oder ohne ein steuerndes Terminal.)\n",
      "debconf: greife zurück auf die Oberfläche: Readline\n",
      "debconf: kann Oberfläche nicht initialisieren: Readline\n",
      "debconf: (Can't locate Term/ReadLine.pm in @INC (you may need to install the Term::ReadLine module) (@INC contains: /etc/perl /usr/local/lib/x86_64-linux-gnu/perl/5.22.1 /usr/local/share/perl/5.22.1 /usr/lib/x86_64-linux-gnu/perl5/5.22 /usr/share/perl5 /usr/lib/x86_64-linux-gnu/perl/5.22 /usr/share/perl/5.22 /usr/local/lib/site_perl /usr/lib/x86_64-linux-gnu/perl-base .) at /usr/share/perl5/Debconf/FrontEnd/Readline.pm line 7.)\n",
      "debconf: greife zurück auf die Oberfläche: Teletype\n",
      "Creating SSH2 RSA key; this may take some time ...\n",
      "2048 SHA256:i/xkO5vl62wRVtZ7qu+OqFCjQTxZ2hLef3RO5hnZiJQ root@rdf-dev (RSA)\n",
      "Creating SSH2 DSA key; this may take some time ...\n",
      "1024 SHA256:0iNQ5Y8aszx2Ugab3+jWxxiyfK4lJx8AQUjlKCujLP8 root@rdf-dev (DSA)\n",
      "Creating SSH2 ECDSA key; this may take some time ...\n",
      "256 SHA256:PNv0yblg5NEo2b8v/96iAxSg5gezpiElurr49/tYSAE root@rdf-dev (ECDSA)\n",
      "Creating SSH2 ED25519 key; this may take some time ...\n",
      "256 SHA256:x8JP/0Op7DQgWR5kBU5u8CeqE/UB4FneB418kaf47ps root@rdf-dev (ED25519)\n",
      "invoke-rc.d: could not determine current runlevel\n",
      "invoke-rc.d: policy-rc.d denied execution of start.\n",
      "\n",
      "Current default time zone: 'Etc/UTC'\n",
      "Local time is now:      Tue Mar  6 13:49:09 UTC 2018.\n",
      "Universal Time is now:  Tue Mar  6 13:49:09 UTC 2018.\n",
      "\n",
      "\n",
      "##\n",
      "# The default user is 'ubuntu' with password 'ubuntu'!\n",
      "# Use the 'sudo' command to run tasks as root in the container.\n",
      "##\n",
      "\n",
      "Checking cache download in /var/cache/lxc/xenial/rootfs-amd64 ... \n",
      "Copy /var/cache/lxc/xenial/rootfs-amd64 to /var/lib/lxc/matterdb/rootfs ... \n",
      "Copying rootfs to /var/lib/lxc/matterdb/rootfs ...\n",
      "Generating locales (this might take a while)...\n",
      "  de_DE.UTF-8... done\n",
      "Generation complete.\n",
      "debconf: kann Oberfläche nicht initialisieren: Dialog\n",
      "debconf: (Die Dialog-Oberfläche funktioniert nicht auf einem Dumb-Terminal, einem Emacs-Shellbuffer oder ohne ein steuerndes Terminal.)\n",
      "debconf: greife zurück auf die Oberfläche: Readline\n",
      "debconf: kann Oberfläche nicht initialisieren: Readline\n",
      "debconf: (Can't locate Term/ReadLine.pm in @INC (you may need to install the Term::ReadLine module) (@INC contains: /etc/perl /usr/local/lib/x86_64-linux-gnu/perl/5.22.1 /usr/local/share/perl/5.22.1 /usr/lib/x86_64-linux-gnu/perl5/5.22 /usr/share/perl5 /usr/lib/x86_64-linux-gnu/perl/5.22 /usr/share/perl/5.22 /usr/local/lib/site_perl /usr/lib/x86_64-linux-gnu/perl-base .) at /usr/share/perl5/Debconf/FrontEnd/Readline.pm line 7.)\n",
      "debconf: greife zurück auf die Oberfläche: Teletype\n",
      "Creating SSH2 RSA key; this may take some time ...\n",
      "2048 SHA256:FAyWdX/ZsOARuCQRIoYJokqQJHQHFR1gvpd+HUOTsIE root@rdf-dev (RSA)\n",
      "Creating SSH2 DSA key; this may take some time ...\n",
      "1024 SHA256:Ja5H3UiAcBaQgHfHvvrTng5Y4b8vmzwICVIoT/a1pZQ root@rdf-dev (DSA)\n",
      "Creating SSH2 ECDSA key; this may take some time ...\n",
      "256 SHA256:V29UrwSW79zZpPOgEzgRr6fLltk6tkcEUWloUZjLfaU root@rdf-dev (ECDSA)\n",
      "Creating SSH2 ED25519 key; this may take some time ...\n",
      "256 SHA256:cwl19LJH3AI4xJLAe6f/AIaTjuQaRwis+GmaXZmwZ/k root@rdf-dev (ED25519)\n",
      "invoke-rc.d: could not determine current runlevel\n",
      "invoke-rc.d: policy-rc.d denied execution of start.\n",
      "\n",
      "Current default time zone: 'Etc/UTC'\n",
      "Local time is now:      Tue Mar  6 13:49:17 UTC 2018.\n",
      "Universal Time is now:  Tue Mar  6 13:49:17 UTC 2018.\n",
      "\n",
      "\n",
      "##\n",
      "# The default user is 'ubuntu' with password 'ubuntu'!\n",
      "# Use the 'sudo' command to run tasks as root in the container.\n",
      "##\n",
      "\n"
     ]
    }
   ],
   "source": [
    "sudo lxc-create -n mattermost -t ubuntu\n",
    "sudo lxc-create -n matterweb -t ubuntu\n",
    "sudo lxc-create -n matterdb -t ubuntu"
   ]
  },
  {
   "cell_type": "markdown",
   "metadata": {},
   "source": [
    "### Start the Containers\n",
    "\n",
    "\tsudo lxc-start -n mattermost -d\n",
    "\tsudo lxc-start -n matterweb -d\n",
    "\tsudo lxc-start -n matterdb -d\n",
    "\tsudo lxc-ls -f"
   ]
  },
  {
   "cell_type": "code",
   "execution_count": 3,
   "metadata": {
    "ExecuteTime": {
     "end_time": "2018-03-06T13:49:52.383303Z",
     "start_time": "2018-03-06T13:49:43.408221Z"
    }
   },
   "outputs": [
    {
     "name": "stdout",
     "output_type": "stream",
     "text": [
      "The configuration file contains legacy configuration keys.\n",
      "Please update your configuration file!\n",
      "The configuration file contains legacy configuration keys.\n",
      "Please update your configuration file!\n",
      "The configuration file contains legacy configuration keys.\n",
      "Please update your configuration file!\n",
      "NAME          STATE   AUTOSTART GROUPS IPV4 IPV6 \n",
      "bsa-bashy     STOPPED 0         -      -    -    \n",
      "bsa-testing   STOPPED 0         -      -    -    \n",
      "lvm_container STOPPED 0         -      -    -    \n",
      "matterdb      RUNNING 0         -      -    -    \n",
      "mattermost    RUNNING 0         -      -    -    \n",
      "matterweb     RUNNING 0         -      -    -    \n"
     ]
    }
   ],
   "source": [
    "sudo lxc-start -n mattermost -d\n",
    "sudo lxc-start -n matterweb -d\n",
    "sudo lxc-start -n matterdb -d\n",
    "sleep 15\n",
    "sudo lxc-ls -f"
   ]
  },
  {
   "cell_type": "code",
   "execution_count": 4,
   "metadata": {
    "ExecuteTime": {
     "end_time": "2018-03-06T13:50:39.235332Z",
     "start_time": "2018-03-06T13:50:39.086753Z"
    }
   },
   "outputs": [
    {
     "name": "stdout",
     "output_type": "stream",
     "text": [
      "The configuration file contains legacy configuration keys.\n",
      "Please update your configuration file!\n",
      "The configuration file contains legacy configuration keys.\n",
      "Please update your configuration file!\n",
      "The configuration file contains legacy configuration keys.\n",
      "Please update your configuration file!\n",
      "NAME          STATE   AUTOSTART GROUPS IPV4       IPV6 \n",
      "bsa-bashy     STOPPED 0         -      -          -    \n",
      "bsa-testing   STOPPED 0         -      -          -    \n",
      "lvm_container STOPPED 0         -      -          -    \n",
      "matterdb      RUNNING 0         -      10.0.3.172 -    \n",
      "mattermost    RUNNING 0         -      10.0.3.207 -    \n",
      "matterweb     RUNNING 0         -      10.0.3.194 -    \n"
     ]
    }
   ],
   "source": [
    "sudo lxc-ls -f"
   ]
  },
  {
   "cell_type": "markdown",
   "metadata": {},
   "source": [
    "## Prep machines\n",
    "\n",
    "You may have to ssh to each host first, if the ansible 2.2 regression is not fixed yet. Just add each host to your known_hosts by typing 'yes' and you'll be ready to go. Ansible version that have this bug fixed will not have to do this step first, and can directly run the commands below.\n",
    "\n",
    "\tcd /home/dave/code/hands-on-ansible/02-playbooks/00-simple-playbook-examples\n",
    "\tvim inv\n",
    "\tansible-playbook prepare_ansible_target.yml -k --ask-sudo-pass -i inv"
   ]
  },
  {
   "cell_type": "code",
   "execution_count": 5,
   "metadata": {
    "ExecuteTime": {
     "end_time": "2018-03-06T13:51:59.209878Z",
     "start_time": "2018-03-06T13:51:59.105255Z"
    }
   },
   "outputs": [],
   "source": [
    "cd 02-playbooks/00-simple-playbook-examples"
   ]
  },
  {
   "cell_type": "code",
   "execution_count": 14,
   "metadata": {
    "ExecuteTime": {
     "end_time": "2018-03-06T13:58:49.595935Z",
     "start_time": "2018-03-06T13:58:49.430062Z"
    }
   },
   "outputs": [],
   "source": [
    "sudo lxc-ls --filter=matter --fancy --fancy-format IPV4 | grep -v IPV4 > inv"
   ]
  },
  {
   "cell_type": "markdown",
   "metadata": {},
   "source": [
    "To on terminal."
   ]
  },
  {
   "cell_type": "markdown",
   "metadata": {},
   "source": [
    "## Install Mattermost\n",
    "\n",
    "\tcd /home/dave/code/hands-on-ansible/02-playbooks/02-install-mattermost/install_mattermost\n",
    "\tvim hosts\n",
    "\tansible-playbook install-mattermost.yml -i hosts"
   ]
  },
  {
   "cell_type": "code",
   "execution_count": 15,
   "metadata": {
    "ExecuteTime": {
     "end_time": "2018-03-06T14:02:03.687155Z",
     "start_time": "2018-03-06T14:02:03.582598Z"
    }
   },
   "outputs": [
    {
     "name": "stdout",
     "output_type": "stream",
     "text": [
      "/home/vagrant/rdf/ais/hands-on-ansible/02-playbooks/00-simple-playbook-examples\n"
     ]
    }
   ],
   "source": [
    "pwd"
   ]
  },
  {
   "cell_type": "code",
   "execution_count": 16,
   "metadata": {
    "ExecuteTime": {
     "end_time": "2018-03-06T14:02:29.659160Z",
     "start_time": "2018-03-06T14:02:29.549756Z"
    }
   },
   "outputs": [],
   "source": [
    "cd ../02-install-mattermost/install_mattermost"
   ]
  },
  {
   "cell_type": "code",
   "execution_count": 21,
   "metadata": {
    "ExecuteTime": {
     "end_time": "2018-03-06T14:05:30.789649Z",
     "start_time": "2018-03-06T14:05:30.629740Z"
    }
   },
   "outputs": [
    {
     "name": "stdout",
     "output_type": "stream",
     "text": [
      "---\n",
      "- name: Database Setup\n",
      "  hosts: dbservers\n",
      "  remote_user: root\n",
      "  roles:\n",
      "    - common\n",
      "    - database\n",
      "\n",
      "- name: Webserver Setup\n",
      "  hosts: webservers\n",
      "  remote_user: root\n",
      "  roles:\n",
      "    - common\n",
      "    - web\n"
     ]
    }
   ],
   "source": [
    "cat install-mattermost.yml"
   ]
  },
  {
   "cell_type": "code",
   "execution_count": 36,
   "metadata": {
    "ExecuteTime": {
     "end_time": "2018-03-06T14:10:45.046585Z",
     "start_time": "2018-03-06T14:10:44.911111Z"
    }
   },
   "outputs": [
    {
     "name": "stdout",
     "output_type": "stream",
     "text": [
      "matterdb   mattermost matterweb  \n"
     ]
    }
   ],
   "source": [
    "sudo lxc-ls --filter 'matter'"
   ]
  },
  {
   "cell_type": "code",
   "execution_count": 37,
   "metadata": {
    "ExecuteTime": {
     "end_time": "2018-03-06T14:12:02.744242Z",
     "start_time": "2018-03-06T14:12:02.251135Z"
    }
   },
   "outputs": [],
   "source": [
    "echo \"[dbservers]\" > hosts\n",
    "sudo lxc-ls --filter=matterdb --fancy --fancy-format=IPV4 | grep -v IPV4 >> hosts\n",
    "echo \"[webservers]\" >> hosts\n",
    "sudo lxc-ls --filter=matterm --fancy --fancy-format=IPV4 | grep -v IPV4 >> hosts\n",
    "sudo lxc-ls --filter=matterw --fancy --fancy-format=IPV4 | grep -v IPV4 >> hosts\n"
   ]
  },
  {
   "cell_type": "code",
   "execution_count": 38,
   "metadata": {
    "ExecuteTime": {
     "end_time": "2018-03-06T14:12:03.100745Z",
     "start_time": "2018-03-06T14:12:02.991942Z"
    }
   },
   "outputs": [
    {
     "name": "stdout",
     "output_type": "stream",
     "text": [
      "[dbservers]\n",
      "10.0.3.172 \n",
      "[webservers]\n",
      "10.0.3.207 \n",
      "10.0.3.194 \n"
     ]
    }
   ],
   "source": [
    "cat hosts"
   ]
  },
  {
   "cell_type": "code",
   "execution_count": null,
   "metadata": {},
   "outputs": [],
   "source": []
  }
 ],
 "metadata": {
  "kernelspec": {
   "display_name": "Bash",
   "language": "bash",
   "name": "bash"
  },
  "language_info": {
   "codemirror_mode": "shell",
   "file_extension": ".sh",
   "mimetype": "text/x-sh",
   "name": "bash"
  },
  "toc": {
   "nav_menu": {},
   "number_sections": true,
   "sideBar": true,
   "skip_h1_title": false,
   "title_cell": "Table of Contents",
   "title_sidebar": "Contents",
   "toc_cell": false,
   "toc_position": {},
   "toc_section_display": true,
   "toc_window_display": false
  }
 },
 "nbformat": 4,
 "nbformat_minor": 2
}
