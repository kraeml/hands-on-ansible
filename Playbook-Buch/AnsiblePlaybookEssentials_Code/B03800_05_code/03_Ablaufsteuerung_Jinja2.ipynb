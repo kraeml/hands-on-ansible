{
 "cells": [
  {
   "cell_type": "markdown",
   "metadata": {},
   "source": [
    "# Ablaufsteuerung\n",
    "\n",
    "Flussablauf Ansible\n",
    "\n",
    "* Bedingungen\n",
    "  * `when`\n",
    "* Iterativ\n",
    "  * `with_*`\n",
    "\n",
    "* Verwendung von Bedingungen mit den `with_*` Statement\n",
    "* Verwendung von Variablen und `facts` um Subroutinen zu überspringen\n",
    "* Selektiver Anwendung von Rollen\n",
    "* Bedingungen in Jinja2-Vorlagen"
   ]
  },
  {
   "cell_type": "markdown",
   "metadata": {},
   "source": [
    "## Bedingungen\n",
    "\n",
    "When-Satement:\n",
    "\n",
    "* Ob eine Variable definiert ist\n",
    "* Ob ein vorheriges Kommando erfolgreich abgelaufen ist\n",
    "* Ob ein Task abgelaufen ist\n",
    "* Ob die Zielplatform entsprechend der unterstützten Plattformen entspricht\n",
    "* Ob eine bestimmte Datei vorhanden ist\n",
    "\n",
    "```yaml\n",
    "- name: download wordpress\n",
    "  ...\n",
    "  register: wp_download\n",
    "- name: extract wordpress\n",
    "  ...\n",
    "  when: wp_download.rc == 0\n",
    "```\n",
    "\n",
    "oder\n",
    "\n",
    "```yaml\n",
    "- name: extract wordpress\n",
    "  ...\n",
    "  when: wp_download|success\n",
    "- name: notify devops engineers\n",
    "  ...\n",
    "  when: wp_download|failed\n",
    "```\n",
    "\n",
    "Falls ein Kommando scheitern muss/darf verwendet man:\n",
    "\n",
    "```yaml\n",
    "- name: To something\n",
    "  ...\n",
    "  ignore_errors: True\n",
    "```"
   ]
  },
  {
   "cell_type": "markdown",
   "metadata": {},
   "source": [
    "# Facts als Grundlage von Entscheidungen\n",
    "\n",
    "Abhängig vom Zielsystem können Entscheidungen getroffen werden.\n",
    "\n",
    "* Entscheidung ob ein task ausgeführt werden darf\n",
    "* Entscheidung ob eine Datei inkludiert wird\n",
    "* Entscheidung ob eine Datei importiert wird\n",
    "* Entscheidung ob eine Rolle auf einem Zielsystem ausgeführt wird\n",
    "\n",
    "Beispiel:\n",
    "\n",
    "```yaml\n",
    "when: ansible_os_family == \"debian\"\n",
    "```"
   ]
  },
  {
   "cell_type": "markdown",
   "metadata": {
    "variables": {
     " mysql['pkg']['client'] ": "<p><strong>NameError</strong>: name &#39;mysql&#39; is not defined</p>\n",
     " mysql['pkg']['server'] ": "<p><strong>NameError</strong>: name &#39;mysql&#39; is not defined</p>\n"
    }
   },
   "source": [
    "# Refactoring mysql-Rolle\n",
    "\n",
    "Um auf eine MySQL-DB zuzugreifen, wird der mysql-client benötigt. Diese sollen nicht nur auf die Gruppe `db` sondern auch auf die Gruppe `webserver` installiert werden.\n",
    "\n",
    "Hier der Hash (Dictionary) mysql:\n",
    "\n",
    "```yaml\n",
    "mysql:\n",
    "  config:\n",
    "    user: mysql\n",
    "    port: 3306\n",
    "    datadir: /var/lib/mysql\n",
    "    bind: 127.0.0.1\n",
    "    pid: /var/run/mysqld/mysqld.pid\n",
    "    socket: /var/run/mysqld/mysqld.sock\n",
    "    cnfpath: /etc/mysql/my.cnf\n",
    "  service: mysql\n",
    "  pkg:\n",
    "    server: mysql-server\n",
    "    client: mysql-client\n",
    "    python: python-mysqldb\n",
    "  server: false\n",
    "```\n",
    "\n",
    "Zugriff:\n",
    "\n",
    "```yaml\n",
    "#file: roles/mysql/tasks/main.yml\n",
    "- include: configure.yml\n",
    "  when: mysql.server\n",
    "- include: service.yml\n",
    "  when: mysql.server\n",
    "```\n",
    "\n",
    "oder\n",
    "\n",
    "```yaml\n",
    "---\n",
    "# filename: roles/mysql/tasks/install_Debian.yml\n",
    "- name: install mysql client\n",
    "  apt:\n",
    "    name: \"{{ mysql['pkg']['client'] }}\"\n",
    "    update_cache: yes\n",
    "- name: install mysql server\n",
    "  apt:\n",
    "    name: \"{{ mysql['pkg']['server'] }}\"\n",
    "    update_cache: yes\n",
    "    when: mysql.server\n",
    "```"
   ]
  },
  {
   "cell_type": "markdown",
   "metadata": {},
   "source": [
    "## Zusammenfügen von Hashes\n",
    "\n",
    "In der Ansible-Konfigaration:\n",
    "\n",
    "```ini\n",
    "# ansible.cfg\n",
    "# http://docs.ansible.com/ansible/intro_configuration.html#hash-behaviour\n",
    "hash_behaviour=merge\n",
    "```\n",
    "\n",
    "Somit kann in `db.yaml` folgendes stehen:\n",
    "\n",
    "```yaml\n",
    "vars:\n",
    "  mysql:\n",
    "    server: true\n",
    "    config:\n",
    "      bind: \"{\\{ ansible_eth1.ipv4.address }}\"\n",
    "```"
   ]
  },
  {
   "cell_type": "markdown",
   "metadata": {
    "variables": {
     "</span><span class=\"cm-variable\"> </span><span class=\"cm-variable\">m</span><span class=\"cm-variable\">y</span><span class=\"cm-variable\">s</span><span class=\"cm-variable\">q</span><span class=\"cm-variable\">l</span><span class=\"cm-variable\">[</span><span class=\"cm-string\">'</span><span class=\"cm-string\">c</span><span class=\"cm-string\">o</span><span class=\"cm-string\">n</span><span class=\"cm-string\">f</span><span class=\"cm-string\">i</span><span class=\"cm-string\">g</span><span class=\"cm-string\">'</span><span class=\"cm-variable\">]</span><span class=\"cm-variable\">[</span><span class=\"cm-string\">'</span><span class=\"cm-string\">b</span><span class=\"cm-string\">i</span><span class=\"cm-string\">n</span><span class=\"cm-string\">d</span><span class=\"cm-string\">'</span><span class=\"cm-variable\">]</span><span class=\"cm-variable\"> </span><span class=\"cm-tag\">": "<p><strong>SyntaxError</strong>: invalid syntax (<ipython-input-1-27f190720595>, line 1)</p>\n",
     "</span><span class=\"cm-variable\"> </span><span class=\"cm-variable\">m</span><span class=\"cm-variable\">y</span><span class=\"cm-variable\">s</span><span class=\"cm-variable\">q</span><span class=\"cm-variable\">l</span><span class=\"cm-variable\">[</span><span class=\"cm-string\">'</span><span class=\"cm-string\">c</span><span class=\"cm-string\">o</span><span class=\"cm-string\">n</span><span class=\"cm-string\">f</span><span class=\"cm-string\">i</span><span class=\"cm-string\">g</span><span class=\"cm-string\">'</span><span class=\"cm-variable\">]</span><span class=\"cm-variable\">[</span><span class=\"cm-string\">'</span><span class=\"cm-string\">d</span><span class=\"cm-string\">a</span><span class=\"cm-string\">t</span><span class=\"cm-string\">a</span><span class=\"cm-string\">d</span><span class=\"cm-string\">i</span><span class=\"cm-string\">r</span><span class=\"cm-string\">'</span><span class=\"cm-variable\">]</span><span class=\"cm-variable\"> </span><span class=\"cm-tag\">": "<p><strong>SyntaxError</strong>: invalid syntax (<ipython-input-1-b3261ba01eda>, line 1)</p>\n",
     "</span><span class=\"cm-variable\"> </span><span class=\"cm-variable\">m</span><span class=\"cm-variable\">y</span><span class=\"cm-variable\">s</span><span class=\"cm-variable\">q</span><span class=\"cm-variable\">l</span><span class=\"cm-variable\">[</span><span class=\"cm-string\">'</span><span class=\"cm-string\">c</span><span class=\"cm-string\">o</span><span class=\"cm-string\">n</span><span class=\"cm-string\">f</span><span class=\"cm-string\">i</span><span class=\"cm-string\">g</span><span class=\"cm-string\">'</span><span class=\"cm-variable\">]</span><span class=\"cm-variable\">[</span><span class=\"cm-string\">'</span><span class=\"cm-string\">p</span><span class=\"cm-string\">i</span><span class=\"cm-string\">d</span><span class=\"cm-string\">'</span><span class=\"cm-variable\">]</span><span class=\"cm-variable\"> </span><span class=\"cm-tag\">": "<p><strong>SyntaxError</strong>: invalid syntax (<ipython-input-1-de06f1dfca34>, line 1)</p>\n",
     "</span><span class=\"cm-variable\"> </span><span class=\"cm-variable\">m</span><span class=\"cm-variable\">y</span><span class=\"cm-variable\">s</span><span class=\"cm-variable\">q</span><span class=\"cm-variable\">l</span><span class=\"cm-variable\">[</span><span class=\"cm-string\">'</span><span class=\"cm-string\">c</span><span class=\"cm-string\">o</span><span class=\"cm-string\">n</span><span class=\"cm-string\">f</span><span class=\"cm-string\">i</span><span class=\"cm-string\">g</span><span class=\"cm-string\">'</span><span class=\"cm-variable\">]</span><span class=\"cm-variable\">[</span><span class=\"cm-string\">'</span><span class=\"cm-string\">p</span><span class=\"cm-string\">o</span><span class=\"cm-string\">r</span><span class=\"cm-string\">t</span><span class=\"cm-string\">'</span><span class=\"cm-variable\">]</span><span class=\"cm-variable\"> </span><span class=\"cm-tag\">": "<p><strong>SyntaxError</strong>: invalid syntax (<ipython-input-1-912ef56b036e>, line 1)</p>\n",
     "</span><span class=\"cm-variable\"> </span><span class=\"cm-variable\">m</span><span class=\"cm-variable\">y</span><span class=\"cm-variable\">s</span><span class=\"cm-variable\">q</span><span class=\"cm-variable\">l</span><span class=\"cm-variable\">[</span><span class=\"cm-string\">'</span><span class=\"cm-string\">c</span><span class=\"cm-string\">o</span><span class=\"cm-string\">n</span><span class=\"cm-string\">f</span><span class=\"cm-string\">i</span><span class=\"cm-string\">g</span><span class=\"cm-string\">'</span><span class=\"cm-variable\">]</span><span class=\"cm-variable\">[</span><span class=\"cm-string\">'</span><span class=\"cm-string\">s</span><span class=\"cm-string\">o</span><span class=\"cm-string\">c</span><span class=\"cm-string\">k</span><span class=\"cm-string\">e</span><span class=\"cm-string\">t</span><span class=\"cm-string\">'</span><span class=\"cm-variable\">]</span><span class=\"cm-variable\"> </span><span class=\"cm-tag\">": "<p><strong>SyntaxError</strong>: invalid syntax (<ipython-input-1-05b0ddbb131d>, line 1)</p>\n",
     "</span><span class=\"cm-variable\"> </span><span class=\"cm-variable\">m</span><span class=\"cm-variable\">y</span><span class=\"cm-variable\">s</span><span class=\"cm-variable\">q</span><span class=\"cm-variable\">l</span><span class=\"cm-variable\">[</span><span class=\"cm-string\">'</span><span class=\"cm-string\">c</span><span class=\"cm-string\">o</span><span class=\"cm-string\">n</span><span class=\"cm-string\">f</span><span class=\"cm-string\">i</span><span class=\"cm-string\">g</span><span class=\"cm-string\">'</span><span class=\"cm-variable\">]</span><span class=\"cm-variable\">[</span><span class=\"cm-string\">'</span><span class=\"cm-string\">u</span><span class=\"cm-string\">s</span><span class=\"cm-string\">e</span><span class=\"cm-string\">r</span><span class=\"cm-string\">'</span><span class=\"cm-variable\">]</span><span class=\"cm-variable\"> </span><span class=\"cm-operator\">|</span><span class=\"cm-variable\"> </span><span class=\"cm-variable\">d</span><span class=\"cm-variable\">e</span><span class=\"cm-variable\">f</span><span class=\"cm-variable\">a</span><span class=\"cm-variable\">u</span><span class=\"cm-variable\">l</span><span class=\"cm-variable\">t</span><span class=\"cm-variable\">(</span><span class=\"cm-string\">\"</span><span class=\"cm-string\">m</span><span class=\"cm-string\">y</span><span class=\"cm-string\">s</span><span class=\"cm-string\">q</span><span class=\"cm-string\">l</span><span class=\"cm-string\">\"</span><span class=\"cm-variable\">)</span><span class=\"cm-variable\"> </span><span class=\"cm-tag\">": "<p><strong>SyntaxError</strong>: invalid syntax (<ipython-input-1-cba6dbc49232>, line 1)</p>\n"
    }
   },
   "source": [
    "## Bedingungen in Vorlagen\n",
    "\n",
    "Beispiel:\n",
    "\n",
    "```jinja2\n",
    "{% if condition %}\n",
    "do_some_thing\n",
    "{% elif condition2 %}\n",
    "do_another_thing\n",
    "{% else %}\n",
    "do_something_else\n",
    "{% endif %}\n",
    "```\n",
    "\n",
    "```jinja2\n",
    "user = {{ mysql['config']['user'] | default(\"mysql\") }}\n",
    "{% if mysql.config.pid is defined %}  \n",
    "  pid-file\t = {{ mysql['config']['pid'] }}\n",
    "{% endif %}\n",
    "{% if mysql.config.pid is defined %}  \n",
    "  socket\t\t = {{ mysql['config']['socket'] }}\n",
    "{% endif %}\n",
    "{% if mysql.config.pid is defined %}  \n",
    "  port\t\t = {{ mysql['config']['port'] }}\n",
    "{% endif %}\n",
    "{% if mysql.config.pid is defined %}  \n",
    "  datadir\t\t = {{ mysql['config']['datadir'] }}\n",
    "{% endif %}\n",
    "{% if mysql.config.pid is defined %}  \n",
    "  bind-address = {{ mysql['config']['bind'] }}\n",
    "{% endif %}\n",
    "```\n",
    "\n",
    "## Einen Task einmalig laufen lassen\n",
    "\n",
    "Zum Beispiel einmalig die Datenbank einzurichten.\n",
    "\n",
    "`run_once: true`\n"
   ]
  }
 ],
 "metadata": {
  "kernelspec": {
   "display_name": "Python 3",
   "language": "python",
   "name": "python3"
  },
  "language_info": {
   "codemirror_mode": {
    "name": "ipython",
    "version": 3
   },
   "file_extension": ".py",
   "mimetype": "text/x-python",
   "name": "python",
   "nbconvert_exporter": "python",
   "pygments_lexer": "ipython3",
   "version": "3.5.2"
  },
  "toc": {
   "nav_menu": {},
   "number_sections": true,
   "sideBar": true,
   "skip_h1_title": false,
   "title_cell": "Table of Contents",
   "title_sidebar": "Contents",
   "toc_cell": false,
   "toc_position": {},
   "toc_section_display": true,
   "toc_window_display": false
  },
  "varInspector": {
   "cols": {
    "lenName": 16,
    "lenType": 16,
    "lenVar": 40
   },
   "kernels_config": {
    "python": {
     "delete_cmd_postfix": "",
     "delete_cmd_prefix": "del ",
     "library": "var_list.py",
     "varRefreshCmd": "print(var_dic_list())"
    },
    "r": {
     "delete_cmd_postfix": ") ",
     "delete_cmd_prefix": "rm(",
     "library": "var_list.r",
     "varRefreshCmd": "cat(var_dic_list()) "
    }
   },
   "types_to_exclude": [
    "module",
    "function",
    "builtin_function_or_method",
    "instance",
    "_Feature"
   ],
   "window_display": false
  }
 },
 "nbformat": 4,
 "nbformat_minor": 2
}
