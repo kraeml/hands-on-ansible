{
 "cells": [
  {
   "cell_type": "markdown",
   "metadata": {},
   "source": [
    "# Rolle lxc-net\n",
    "\n",
    "Hier soll eine Rolle zur Erstellung eines lxc-net für Ansible erstellt werden."
   ]
  },
  {
   "cell_type": "code",
   "execution_count": 9,
   "metadata": {
    "ExecuteTime": {
     "end_time": "2018-04-10T12:01:42.073486Z",
     "start_time": "2018-04-10T12:01:41.968633Z"
    }
   },
   "outputs": [],
   "source": [
    "mkdir roles"
   ]
  },
  {
   "cell_type": "code",
   "execution_count": 10,
   "metadata": {
    "ExecuteTime": {
     "end_time": "2018-04-10T12:01:45.993733Z",
     "start_time": "2018-04-10T12:01:45.466606Z"
    }
   },
   "outputs": [
    {
     "name": "stdout",
     "output_type": "stream",
     "text": [
      "Usage: ansible-galaxy [delete|import|info|init|install|list|login|remove|search|setup] [--help] [options] ...\n",
      "\n",
      "Options:\n",
      "  -h, --help            show this help message and exit\n",
      "  -c, --ignore-certs    Ignore SSL certificate validation errors.\n",
      "  -s API_SERVER, --server=API_SERVER\n",
      "                        The API server destination\n",
      "  -v, --verbose         verbose mode (-vvv for more, -vvvv to enable\n",
      "                        connection debugging)\n",
      "  --version             show program's version number and exit\n",
      "\n",
      " See 'ansible-galaxy <command> --help' for more information on a specific\n",
      "command.\n"
     ]
    }
   ],
   "source": [
    "ansible-galaxy --help"
   ]
  },
  {
   "cell_type": "code",
   "execution_count": 8,
   "metadata": {
    "ExecuteTime": {
     "end_time": "2018-04-10T12:01:05.713646Z",
     "start_time": "2018-04-10T12:01:05.171404Z"
    }
   },
   "outputs": [
    {
     "name": "stdout",
     "output_type": "stream",
     "text": [
      "Usage: ansible-galaxy init [options] role_name\n",
      "\n",
      "Options:\n",
      "  --container-enabled   Initialize the skeleton role with default contents for\n",
      "                        a Container Enabled role.\n",
      "  -f, --force           Force overwriting an existing role\n",
      "  -h, --help            show this help message and exit\n",
      "  -c, --ignore-certs    Ignore SSL certificate validation errors.\n",
      "  --init-path=INIT_PATH\n",
      "                        The path in which the skeleton role will be created.\n",
      "                        The default is the current working directory.\n",
      "  --offline             Don't query the galaxy API when creating roles\n",
      "  --role-skeleton=ROLE_SKELETON\n",
      "                        The path to a role skeleton that the new role should\n",
      "                        be based upon.\n",
      "  -s API_SERVER, --server=API_SERVER\n",
      "                        The API server destination\n",
      "  -v, --verbose         verbose mode (-vvv for more, -vvvv to enable\n",
      "                        connection debugging)\n",
      "  --version             show program's version number and exit\n",
      "\n",
      " See 'ansible-galaxy <command> --help' for more information on a specific\n",
      "command.\n"
     ]
    }
   ],
   "source": [
    "ansible-galaxy init --help"
   ]
  },
  {
   "cell_type": "code",
   "execution_count": 11,
   "metadata": {
    "ExecuteTime": {
     "end_time": "2018-04-10T12:02:28.906949Z",
     "start_time": "2018-04-10T12:02:28.321663Z"
    }
   },
   "outputs": [
    {
     "name": "stdout",
     "output_type": "stream",
     "text": [
      "- ansible-lxc-net was created successfully\n"
     ]
    }
   ],
   "source": [
    "ansible-galaxy init --init-path=roles ansible-lxc-net"
   ]
  },
  {
   "cell_type": "code",
   "execution_count": 12,
   "metadata": {
    "ExecuteTime": {
     "end_time": "2018-04-10T12:02:45.334551Z",
     "start_time": "2018-04-10T12:02:45.229580Z"
    }
   },
   "outputs": [
    {
     "name": "stdout",
     "output_type": "stream",
     "text": [
      "defaults/  handlers/  README.md  templates/  vars/\n",
      "files/     meta/      tasks/     tests/\n"
     ]
    }
   ],
   "source": [
    "ls -F roles/ansible-lxc-net"
   ]
  },
  {
   "cell_type": "code",
   "execution_count": 13,
   "metadata": {
    "ExecuteTime": {
     "end_time": "2018-04-10T12:12:07.669154Z",
     "start_time": "2018-04-10T12:12:07.534814Z"
    }
   },
   "outputs": [
    {
     "name": "stdout",
     "output_type": "stream",
     "text": [
      "---\n",
      "# defaults file for ansible-lxc-net\n",
      "\n",
      "USE_LXC_BRIDGE: \"true\"\n",
      "LXC_BRIDGE: \"lxcbr0\"\n",
      "LXC_ADDR: \"10.0.3.1\"\n",
      "LXC_NETMASK: \"255.255.255.0\"\n",
      "LXC_NETWORK: \"10.0.3.0/24\"\n",
      "LXC_DHCP_RANGE: \"10.0.3.2,10.0.3.254\"\n",
      "LXC_DHCP_MAX: \"253\"\n",
      "LXC_DHCP_CONFILE: \"/etc/lxc/dnsmasq.conf\"\n",
      "LXC_DOMAIN: \"lxc\"\n"
     ]
    }
   ],
   "source": [
    "cat roles/ansible-lxc-net/defaults/main.yml"
   ]
  },
  {
   "cell_type": "code",
   "execution_count": 15,
   "metadata": {
    "ExecuteTime": {
     "end_time": "2018-04-10T12:13:45.618896Z",
     "start_time": "2018-04-10T12:13:45.482757Z"
    }
   },
   "outputs": [
    {
     "name": "stdout",
     "output_type": "stream",
     "text": [
      "# This file is auto-generated by lxc.postinst if it does not\n",
      "# exist.  Customizations will not be overridden.\n",
      "# Leave USE_LXC_BRIDGE as \"true\" if you want to use lxcbr0 for your\n",
      "# containers.  Set to \"false\" if you'll use virbr0 or another existing\n",
      "# bridge, or mavlan to your host's NIC.\n",
      "USE_LXC_BRIDGE=\"{{USE_LXC_BRIDGE}}\"\n",
      "\n",
      "# If you change the LXC_BRIDGE to something other than lxcbr0, then\n",
      "# you will also need to update your /etc/lxc/default.conf as well as the\n",
      "# configuration (/var/lib/lxc/<container>/config) for any containers\n",
      "# already created using the default config to reflect the new bridge\n",
      "# name.\n",
      "# If you have the dnsmasq daemon installed, you'll also have to update\n",
      "# /etc/dnsmasq.d/lxc and restart the system wide dnsmasq daemon.\n",
      "LXC_BRIDGE=\"{{LXC_BRIDGE}}\"\n",
      "LXC_ADDR=\"{{LXC_ADDR}}\"\n",
      "LXC_NETMASK=\"{{LXC_NETMASK}}\"\n",
      "LXC_NETWORK=\"{{LXC_NETWORK}}\"\n",
      "LXC_DHCP_RANGE=\"{{LXC_DHCP_RANGE}}\"\n",
      "LXC_DHCP_MAX=\"{{LXC_DHCP_MAX}}\"\n",
      "# Uncomment the next line if you'd like to use a conf-file for the lxcbr0\n",
      "# dnsmasq.  For instance, you can use 'dhcp-host=mail1,10.0.3.100' to have\n",
      "# container 'mail1' always get ip address 10.0.3.100.\n",
      "LXC_DHCP_CONFILE={{LXC_DHCP_CONFILE}}\n",
      "\n",
      "# Uncomment the next line if you want lxcbr0's dnsmasq to resolve the .lxc\n",
      "# domain.  You can then add \"server=/lxc/10.0.3.1' (or your actual $LXC_ADDR)\n",
      "# to your system dnsmasq configuration file (normally /etc/dnsmasq.conf,\n",
      "# or /etc/NetworkManager/dnsmasq.d/lxc.conf on systems that use NetworkManager).\n",
      "# Once these changes are made, restart the lxc-net and network-manager services.\n",
      "# 'container1.lxc' will then resolve on your host.\n",
      "LXC_DOMAIN=\"{{LXC_DOMAIN}}\"\n"
     ]
    }
   ],
   "source": [
    "cat roles/ansible-lxc-net/templates/lxc-net.j2"
   ]
  },
  {
   "cell_type": "code",
   "execution_count": null,
   "metadata": {},
   "outputs": [],
   "source": []
  }
 ],
 "metadata": {
  "kernelspec": {
   "display_name": "Bash",
   "language": "bash",
   "name": "bash"
  },
  "language_info": {
   "codemirror_mode": "shell",
   "file_extension": ".sh",
   "mimetype": "text/x-sh",
   "name": "bash"
  },
  "toc": {
   "nav_menu": {},
   "number_sections": true,
   "sideBar": true,
   "skip_h1_title": false,
   "title_cell": "Table of Contents",
   "title_sidebar": "Contents",
   "toc_cell": false,
   "toc_position": {},
   "toc_section_display": true,
   "toc_window_display": false
  },
  "varInspector": {
   "cols": {
    "lenName": 16,
    "lenType": 16,
    "lenVar": 40
   },
   "kernels_config": {
    "python": {
     "delete_cmd_postfix": "",
     "delete_cmd_prefix": "del ",
     "library": "var_list.py",
     "varRefreshCmd": "print(var_dic_list())"
    },
    "r": {
     "delete_cmd_postfix": ") ",
     "delete_cmd_prefix": "rm(",
     "library": "var_list.r",
     "varRefreshCmd": "cat(var_dic_list()) "
    }
   },
   "types_to_exclude": [
    "module",
    "function",
    "builtin_function_or_method",
    "instance",
    "_Feature"
   ],
   "window_display": false
  }
 },
 "nbformat": 4,
 "nbformat_minor": 2
}
