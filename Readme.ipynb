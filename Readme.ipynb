{
 "cells": [
  {
   "cell_type": "markdown",
   "metadata": {},
   "source": [
    "# The tutorialinux Ansible Course\n",
    "\n",
    "Finally, a practical, project-based Ansible course for beginners! Check out the official [tutorialinux website](https://tutorialinux.com) or [YouTube channel](https://www.youtube.com/watch?v=fYd_KQpfBs8) for more Linux tutorials and courses like this one.\n",
    "\n",
    "These instructions, code snippets, and project files go with the [Basic Ansible Course](https://www.packtpub.com/networking-and-servers/ansible-2-beginners-video) that I made for Packt Publishing. Support tutorialinux and check it out!\n",
    "\n",
    "\n",
    "## How you can use this repository\n",
    "\n",
    "You can clone this repository when you're going through the Ansible course -- it contains the final state of all the code snippets and project files. However, as Ansible changes, this repository will change too -- I'll attempt to keep it up-to-date and working at all times. So if (due to new Ansible features or bugs) something that works in the video course *doesn't* work for you, check here to see if there's been an update.\n",
    "\n",
    "\n",
    "### However...\n",
    "\n",
    "I *highly* recommend that you go through the course and type everything out yourself, instead of just cloning this repo and running the Ansible commands/playbooks. The only way to really learn something is to do it yourself, and although it seems silly to type out something you're watching on video, there is real learning value in doing so.\n",
    "\n",
    "\n",
    "## Debugging is learning!\n",
    "\n",
    "One of the highest learning-vs-time-invested ratios you can get is during debugging and troubleshooting. There's almost no other way to learn as fast and as much. When something doesn't work and you have to troubleshoot, read documentation, try a few fixes, and dig deeper before you *finally* get things working, you're learning faster than any other method I've found.\n",
    "\n",
    "That method also happens to be super-frustrating, so if you find bugs in my example code, please let me know or submit a pull request through Github.\n",
    "\n",
    "Things will continue to be ever-changing -- new Ansible versions will introduce bugs and features, new SSH versions will behave differently, and kittens will cry big weeping tears. That's just the way of the world, so make sure to notify me if you find bugs or broken code.\n"
   ]
  },
  {
   "cell_type": "code",
   "execution_count": null,
   "metadata": {},
   "outputs": [],
   "source": []
  }
 ],
 "metadata": {
  "kernelspec": {
   "display_name": "Bash",
   "language": "bash",
   "name": "bash"
  },
  "language_info": {
   "codemirror_mode": "shell",
   "file_extension": ".sh",
   "mimetype": "text/x-sh",
   "name": "bash"
  },
  "toc": {
   "nav_menu": {},
   "number_sections": true,
   "sideBar": true,
   "skip_h1_title": false,
   "title_cell": "Table of Contents",
   "title_sidebar": "Contents",
   "toc_cell": false,
   "toc_position": {},
   "toc_section_display": true,
   "toc_window_display": false
  }
 },
 "nbformat": 4,
 "nbformat_minor": 2
}
