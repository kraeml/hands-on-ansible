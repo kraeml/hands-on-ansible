{
 "cells": [
  {
   "cell_type": "markdown",
   "metadata": {},
   "source": [
    "# Dynymisches Ansible Inventory\n",
    "\n",
    "https://pynet.twb-tech.com/blog/ansible/dynamic-inventory.html\n"
   ]
  },
  {
   "cell_type": "code",
   "execution_count": 4,
   "metadata": {},
   "outputs": [
    {
     "name": "stdout",
     "output_type": "stream",
     "text": [
      "Overwriting dyn_inventory.py\n"
     ]
    }
   ],
   "source": [
    "%%writefile dyn_inventory.py\n",
    "#!/usr/bin/env python\n",
    "import argparse\n",
    "\n",
    "def main():\n",
    "\n",
    "    # Argument parsing\n",
    "    parser = argparse.ArgumentParser(description=\"Ansible dynamic inventory\")\n",
    "    parser.add_argument(\"--list\", \n",
    "                        help=\"Ansible inventory of all of the groups\",\n",
    "                        action=\"store_true\", dest=\"list_inventory\")\n",
    "    parser.add_argument(\"--host\",\n",
    "                        help=\"Ansible inventory of a particular host\", action=\"store\",\n",
    "                        dest=\"ansible_host\", type=str)\n",
    "\n",
    "    cli_args = parser.parse_args()\n",
    "    list_inventory = cli_args.list_inventory\n",
    "    ansible_host = cli_args.ansible_host\n",
    "\n",
    "    print \"list_inventory: {}\".format(list_inventory)\n",
    "    print \"ansible_host: {}\".format(ansible_host)\n",
    "\n",
    "\n",
    "if __name__ == \"__main__\":\n",
    "    main()"
   ]
  },
  {
   "cell_type": "code",
   "execution_count": 5,
   "metadata": {},
   "outputs": [
    {
     "name": "stdout",
     "output_type": "stream",
     "text": [
      "usage: dyn_inventory.py [-h] [--list] [--host ANSIBLE_HOST]\r\n",
      "\r\n",
      "Ansible dynamic inventory\r\n",
      "\r\n",
      "optional arguments:\r\n",
      "  -h, --help           show this help message and exit\r\n",
      "  --list               Ansible inventory of all of the groups\r\n",
      "  --host ANSIBLE_HOST  Ansible inventory of a particular host\r\n"
     ]
    }
   ],
   "source": [
    "!python dyn_inventory.py -h"
   ]
  },
  {
   "cell_type": "code",
   "execution_count": 6,
   "metadata": {},
   "outputs": [
    {
     "name": "stdout",
     "output_type": "stream",
     "text": [
      "list_inventory: True\r\n",
      "ansible_host: None\r\n"
     ]
    }
   ],
   "source": [
    "!python dyn_inventory.py --list"
   ]
  },
  {
   "cell_type": "code",
   "execution_count": 7,
   "metadata": {},
   "outputs": [
    {
     "name": "stdout",
     "output_type": "stream",
     "text": [
      "usage: dyn_inventory.py [-h] [--list] [--host ANSIBLE_HOST]\r\n",
      "dyn_inventory.py: error: argument --host: expected one argument\r\n"
     ]
    }
   ],
   "source": [
    "!python dyn_inventory.py --host"
   ]
  },
  {
   "cell_type": "code",
   "execution_count": 8,
   "metadata": {},
   "outputs": [
    {
     "name": "stdout",
     "output_type": "stream",
     "text": [
      "list_inventory: False\r\n",
      "ansible_host: rdf-dev.local\r\n"
     ]
    }
   ],
   "source": [
    "!python dyn_inventory.py --host rdf-dev.local"
   ]
  },
  {
   "cell_type": "code",
   "execution_count": 11,
   "metadata": {},
   "outputs": [
    {
     "name": "stdout",
     "output_type": "stream",
     "text": [
      "Overwriting dyn_inventory.py\n"
     ]
    }
   ],
   "source": [
    "%%writefile dyn_inventory.py\n",
    "#!/usr/bin/env python\n",
    "import argparse\n",
    "import json\n",
    "\n",
    "ANSIBLE_INV = {\n",
    "    \"arista\": {\n",
    "        \"hosts\": [\"pynet-sw1\", \"pynet-sw2\", \"pynet-sw3\", \"pynet-sw4\"],\n",
    "        \"vars\": {\n",
    "            \"ansible_connection\": \"local\",\n",
    "            \"eapi_hostname\": \"10.10.10.227\",\n",
    "            \"eapi_username\": \"admin1\",\n",
    "            \"eapi_password\": \"password\",\n",
    "        }\n",
    "    },\n",
    "    'local': {\n",
    "        'hosts': ['localhost'],\n",
    "        'vars': {'ansible_connection': 'local'}\n",
    "    }\n",
    "} \n",
    "\n",
    "def output_list_inventory(json_output):\n",
    "    print json.dumps(json_output) \n",
    "\n",
    "def main():\n",
    "\n",
    "    # Argument parsing\n",
    "    parser = argparse.ArgumentParser(description=\"Ansible dynamic inventory\")\n",
    "    parser.add_argument(\"--list\", \n",
    "                        help=\"Ansible inventory of all of the groups\",\n",
    "                        action=\"store_true\", dest=\"list_inventory\")\n",
    "    parser.add_argument(\"--host\",\n",
    "                        help=\"Ansible inventory of a particular host\", action=\"store\",\n",
    "                        dest=\"ansible_host\", type=str)\n",
    "\n",
    "    cli_args = parser.parse_args()\n",
    "    list_inventory = cli_args.list_inventory\n",
    "    ansible_host = cli_args.ansible_host\n",
    "\n",
    "    if list_inventory:\n",
    "        output_list_inventory(ANSIBLE_INV) \n",
    "    print \"ansible_host: {}\".format(ansible_host)\n",
    "\n",
    "\n",
    "if __name__ == \"__main__\":\n",
    "    main()"
   ]
  },
  {
   "cell_type": "code",
   "execution_count": 12,
   "metadata": {},
   "outputs": [
    {
     "name": "stdout",
     "output_type": "stream",
     "text": [
      "{\"local\": {\"hosts\": [\"localhost\"], \"vars\": {\"ansible_connection\": \"local\"}}, \"arista\": {\"hosts\": [\"pynet-sw1\", \"pynet-sw2\", \"pynet-sw3\", \"pynet-sw4\"], \"vars\": {\"eapi_password\": \"password\", \"eapi_username\": \"admin1\", \"eapi_hostname\": \"10.10.10.227\", \"ansible_connection\": \"local\"}}}\r\n",
      "ansible_host: None\r\n"
     ]
    }
   ],
   "source": [
    "!python dyn_inventory.py --list"
   ]
  },
  {
   "cell_type": "code",
   "execution_count": 15,
   "metadata": {},
   "outputs": [
    {
     "name": "stdout",
     "output_type": "stream",
     "text": [
      "Overwriting dyn_inventory.py\n"
     ]
    }
   ],
   "source": [
    "%%writefile dyn_inventory.py\n",
    "#!/usr/bin/env python\n",
    "import argparse\n",
    "import json\n",
    "\n",
    "ANSIBLE_INV = {\n",
    "    \"arista\": {\n",
    "        \"hosts\": [\"pynet-sw1\", \"pynet-sw2\", \"pynet-sw3\", \"pynet-sw4\"],\n",
    "        \"vars\": {\n",
    "            \"ansible_connection\": \"local\",\n",
    "            \"eapi_hostname\": \"10.10.10.227\",\n",
    "            \"eapi_username\": \"admin1\",\n",
    "            \"eapi_password\": \"password\",\n",
    "        }\n",
    "    },\n",
    "    'local': {\n",
    "        'hosts': ['localhost'],\n",
    "        'vars': {'ansible_connection': 'local'}\n",
    "    }\n",
    "}\n",
    "\n",
    "HOST_VARS = {\n",
    "    \"pynet-sw1\": {\"eapi_port\": 8243},\n",
    "    \"pynet-sw2\": {\"eapi_port\": 8343},\n",
    "    \"pynet-sw3\": {\"eapi_port\": 8443},\n",
    "    \"pynet-sw4\": {\"eapi_port\": 8543},\n",
    "} \n",
    "\n",
    "def output_list_inventory(json_output):\n",
    "    print json.dumps(json_output) \n",
    "\n",
    "def find_host(search_host, inventory):\n",
    "    host_attribs = inventory.get(search_host, {})\n",
    "    print json.dumps(host_attribs)  \n",
    "\n",
    "\n",
    "def main():\n",
    "\n",
    "    # Argument parsing\n",
    "    parser = argparse.ArgumentParser(description=\"Ansible dynamic inventory\")\n",
    "    parser.add_argument(\"--list\", \n",
    "                        help=\"Ansible inventory of all of the groups\",\n",
    "                        action=\"store_true\", dest=\"list_inventory\")\n",
    "    parser.add_argument(\"--host\",\n",
    "                        help=\"Ansible inventory of a particular host\", action=\"store\",\n",
    "                        dest=\"ansible_host\", type=str)\n",
    "\n",
    "    cli_args = parser.parse_args()\n",
    "    list_inventory = cli_args.list_inventory\n",
    "    ansible_host = cli_args.ansible_host\n",
    "\n",
    "    if list_inventory:\n",
    "        output_list_inventory(ANSIBLE_INV) \n",
    "    if ansible_host:\n",
    "        find_host(ansible_host, HOST_VARS)\n",
    "\n",
    "\n",
    "if __name__ == \"__main__\":\n",
    "    main()"
   ]
  },
  {
   "cell_type": "code",
   "execution_count": 16,
   "metadata": {},
   "outputs": [
    {
     "name": "stdout",
     "output_type": "stream",
     "text": [
      "{\"eapi_port\": 8243}\r\n"
     ]
    }
   ],
   "source": [
    "!python dyn_inventory.py --host pynet-sw1"
   ]
  },
  {
   "cell_type": "code",
   "execution_count": 17,
   "metadata": {},
   "outputs": [
    {
     "name": "stdout",
     "output_type": "stream",
     "text": [
      "{\"eapi_port\": 8443}\r\n"
     ]
    }
   ],
   "source": [
    "!python dyn_inventory.py --host pynet-sw3"
   ]
  },
  {
   "cell_type": "code",
   "execution_count": 18,
   "metadata": {},
   "outputs": [
    {
     "name": "stdout",
     "output_type": "stream",
     "text": [
      "{}\r\n"
     ]
    }
   ],
   "source": [
    "!python dyn_inventory.py --host localhost"
   ]
  },
  {
   "cell_type": "code",
   "execution_count": 20,
   "metadata": {},
   "outputs": [
    {
     "name": "stdout",
     "output_type": "stream",
     "text": [
      "{\"local\": {\"hosts\": [\"localhost\"], \"vars\": {\"ansible_connection\": \"local\"}}, \"arista\": {\"hosts\": [\"pynet-sw1\", \"pynet-sw2\", \"pynet-sw3\", \"pynet-sw4\"], \"vars\": {\"eapi_password\": \"password\", \"eapi_username\": \"admin1\", \"eapi_hostname\": \"10.10.10.227\", \"ansible_connection\": \"local\"}}}\r\n"
     ]
    }
   ],
   "source": [
    "!python dyn_inventory.py --list"
   ]
  },
  {
   "cell_type": "code",
   "execution_count": 15,
   "metadata": {},
   "outputs": [
    {
     "name": "stdout",
     "output_type": "stream",
     "text": [
      "Overwriting dyn_inventory.py\n"
     ]
    }
   ],
   "source": [
    "%%writefile dyn_inventory.py\n",
    "#!/usr/bin/env python\n",
    "import argparse\n",
    "import json\n",
    "\n",
    "ANSIBLE_INV = {\n",
    "    \"arista\": {\n",
    "        \"hosts\": [\"pynet-sw1\", \"pynet-sw2\", \"pynet-sw3\", \"pynet-sw4\"],\n",
    "        \"vars\": {\n",
    "            \"ansible_connection\": \"local\",\n",
    "            \"eapi_hostname\": \"10.10.10.227\",\n",
    "            \"eapi_username\": \"admin1\",\n",
    "            \"eapi_password\": \"password\",\n",
    "        }\n",
    "    },\n",
    "    'local': {\n",
    "        'hosts': ['localhost'],\n",
    "        'vars': {'ansible_connection': 'local'}\n",
    "    }\n",
    "}\n",
    "\n",
    "HOST_VARS = {\n",
    "    \"pynet-sw1\": {\"eapi_port\": 8243},\n",
    "    \"pynet-sw2\": {\"eapi_port\": 8343},\n",
    "    \"pynet-sw3\": {\"eapi_port\": 8443},\n",
    "    \"pynet-sw4\": {\"eapi_port\": 8543},\n",
    "} \n",
    "\n",
    "def output_list_inventory(json_output):\n",
    "    print json.dumps(json_output) \n",
    "\n",
    "def find_host(search_host, inventory):\n",
    "    host_attribs = inventory.get(search_host, {})\n",
    "    print json.dumps(host_attribs)  \n",
    "\n",
    "\n",
    "def main():\n",
    "\n",
    "    # Argument parsing\n",
    "    parser = argparse.ArgumentParser(description=\"Ansible dynamic inventory\")\n",
    "    parser.add_argument(\"--list\", \n",
    "                        help=\"Ansible inventory of all of the groups\",\n",
    "                        action=\"store_true\", dest=\"list_inventory\")\n",
    "    parser.add_argument(\"--host\",\n",
    "                        help=\"Ansible inventory of a particular host\", action=\"store\",\n",
    "                        dest=\"ansible_host\", type=str)\n",
    "\n",
    "    cli_args = parser.parse_args()\n",
    "    list_inventory = cli_args.list_inventory\n",
    "    ansible_host = cli_args.ansible_host\n",
    "\n",
    "    if list_inventory:\n",
    "        output_list_inventory(ANSIBLE_INV) \n",
    "    if ansible_host:\n",
    "        find_host(ansible_host, HOST_VARS)\n",
    "\n",
    "\n",
    "if __name__ == \"__main__\":\n",
    "    main()"
   ]
  },
  {
   "cell_type": "code",
   "execution_count": 21,
   "metadata": {},
   "outputs": [],
   "source": [
    "!sudo lxc-ls --fancy"
   ]
  },
  {
   "cell_type": "code",
   "execution_count": 22,
   "metadata": {},
   "outputs": [
    {
     "name": "stdout",
     "output_type": "stream",
     "text": [
      "The configuration file contains legacy configuration keys.\n",
      "Please update your configuration file!\n",
      "The update script lxc-update-config -c <path-to-config> can be used for this.\n",
      "The configuration file contains legacy configuration keys.\n",
      "Please update your configuration file!\n",
      "The update script lxc-update-config -c <path-to-config> can be used for this.\n",
      "Checking cache download in /var/cache/lxc/xenial/rootfs-amd64 ... \n",
      "Copy /var/cache/lxc/xenial/rootfs-amd64 to /var/lib/lxc/ais-bashy/rootfs ... \n",
      "Copying rootfs to /var/lib/lxc/ais-bashy/rootfs ...\n",
      "Generating locales (this might take a while)...\n",
      "  de_DE.UTF-8... done\n",
      "Generation complete.\n",
      "Creating SSH2 RSA key; this may take some time ...\n",
      "2048 SHA256:JVi0Sw/yUxRNtPHue3zAh2B6IoMKT5GjaLN0GuWF7LM root@rdf-dev (RSA)\n",
      "Creating SSH2 DSA key; this may take some time ...\n",
      "1024 SHA256:w1vx2EeW27ZAG1aX5Btpa2sxoKM7Y3IViGTumgdsFP8 root@rdf-dev (DSA)\n",
      "Creating SSH2 ECDSA key; this may take some time ...\n",
      "256 SHA256:qfLzxGaQSj/7ZX7zbHG2C1vDKkD0zEHPzaWqn14vacI root@rdf-dev (ECDSA)\n",
      "Creating SSH2 ED25519 key; this may take some time ...\n",
      "256 SHA256:cRqHU1LCz47Nk87g1RTLdj2E6qBASE7S6ARzBFbktcs root@rdf-dev (ED25519)\n",
      "invoke-rc.d: could not determine current runlevel\n",
      "invoke-rc.d: policy-rc.d denied execution of start.\n",
      "\n",
      "Current default time zone: 'Etc/UTC'\n",
      "Local time is now:      Fri Dec 22 21:11:36 UTC 2017.\n",
      "Universal Time is now:  Fri Dec 22 21:11:36 UTC 2017.\n",
      "\n",
      "\n",
      "##\n",
      "# The default user is 'ubuntu' with password 'ubuntu'!\n",
      "# Use the 'sudo' command to run tasks as root in the container.\n",
      "##\n",
      "\n",
      "The configuration file contains legacy configuration keys.\n",
      "Please update your configuration file!\n",
      "The update script lxc-update-config -c <path-to-config> can be used for this.\n"
     ]
    }
   ],
   "source": [
    "!sudo lxc-create -t ubuntu -n ais-bashy"
   ]
  },
  {
   "cell_type": "code",
   "execution_count": 23,
   "metadata": {},
   "outputs": [
    {
     "name": "stdout",
     "output_type": "stream",
     "text": [
      "The configuration file contains legacy configuration keys.\r\n",
      "Please update your configuration file!\r\n",
      "The update script lxc-update-config -c <path-to-config> can be used for this.\r\n"
     ]
    }
   ],
   "source": [
    "!sudo lxc-start -n ais-bashy"
   ]
  },
  {
   "cell_type": "code",
   "execution_count": 24,
   "metadata": {},
   "outputs": [
    {
     "name": "stdout",
     "output_type": "stream",
     "text": [
      "The configuration file contains legacy configuration keys.\r\n",
      "Please update your configuration file!\r\n",
      "The update script lxc-update-config -c <path-to-config> can be used for this.\r\n",
      "NAME      STATE   AUTOSTART GROUPS IPV4      IPV6 \r\n",
      "ais-bashy RUNNING 0         -      10.0.3.89 -    \r\n"
     ]
    }
   ],
   "source": [
    "!sudo lxc-ls --fancy"
   ]
  },
  {
   "cell_type": "code",
   "execution_count": 25,
   "metadata": {},
   "outputs": [
    {
     "name": "stdout",
     "output_type": "stream",
     "text": [
      "The configuration file contains legacy configuration keys.\r\n",
      "Please update your configuration file!\r\n",
      "The update script lxc-update-config -c <path-to-config> can be used for this.\r\n",
      "ais-bashy RUNNING 0         -      10.0.3.89 -    \r\n"
     ]
    }
   ],
   "source": [
    "!sudo lxc-ls --fancy | grep ais-bashy"
   ]
  },
  {
   "cell_type": "code",
   "execution_count": 55,
   "metadata": {},
   "outputs": [
    {
     "name": "stdout",
     "output_type": "stream",
     "text": [
      "Overwriting dyn_inventory.py\n"
     ]
    }
   ],
   "source": [
    "%%writefile dyn_inventory.py\n",
    "#!/usr/bin/env python\n",
    "import argparse\n",
    "import json\n",
    "import subprocess\n",
    "import re\n",
    "\n",
    "ANSIBLE_INV = {\n",
    "    \"lxc_containers\": {\n",
    "        \"hosts\": [],\n",
    "        \"vars\": {\n",
    "            \"ansible_user\": \"ubuntu\"\n",
    "        }\n",
    "    },\n",
    "    'local': {\n",
    "        'hosts': ['localhost'],\n",
    "        'vars': {'ansible_connection': 'local'}\n",
    "    }\n",
    "}\n",
    "\n",
    "HOST_VARS = {\n",
    "} \n",
    "\n",
    "def output_list_inventory(json_output):\n",
    "    print(json.dumps(json_output) )\n",
    "\n",
    "def find_host(search_host, inventory):\n",
    "    host_attribs = inventory.get(search_host, {})\n",
    "    print(json.dumps(host_attribs))\n",
    "    \n",
    "def all_lxc_ips():\n",
    "    lines = subprocess.check_output(['sudo', 'lxc-ls', '--fancy']).split('\\n')\n",
    "    for line in lines:\n",
    "        if 'RUNNING' not in line:\n",
    "            continue\n",
    "        lxc_name = line.split(' ')[0]\n",
    "        ip = re.findall( r'[0-9]+(?:\\.[0-9]+){3}', line )\n",
    "        ANSIBLE_INV[\"lxc_container\"][\"hosts\"].append(ip)\n",
    "        ANSIBLE_INV.setdefault(lxc_name, \"0.0.0.0\")\n",
    "        ANSIBLE_INV[lxc_name]=ip\n",
    "        print(ip)\n",
    "\n",
    "def main():\n",
    "\n",
    "    # Argument parsing\n",
    "    parser = argparse.ArgumentParser(description=\"Ansible dynamic inventory\")\n",
    "    parser.add_argument(\"--list\", \n",
    "                        help=\"Ansible inventory of all of the groups\",\n",
    "                        action=\"store_true\", dest=\"list_inventory\")\n",
    "    parser.add_argument(\"--host\",\n",
    "                        help=\"Ansible inventory of a particular host\", action=\"store\",\n",
    "                        dest=\"ansible_host\", type=str)\n",
    "\n",
    "    cli_args = parser.parse_args()\n",
    "    list_inventory = cli_args.list_inventory\n",
    "    ansible_host = cli_args.ansible_host\n",
    "    \n",
    "    all_lxc_ips()\n",
    "\n",
    "    if list_inventory:\n",
    "        output_list_inventory(ANSIBLE_INV) \n",
    "    if ansible_host:\n",
    "        find_host(ansible_host, HOST_VARS)\n",
    "\n",
    "\n",
    "if __name__ == \"__main__\":\n",
    "    main()"
   ]
  },
  {
   "cell_type": "code",
   "execution_count": 57,
   "metadata": {},
   "outputs": [
    {
     "name": "stdout",
     "output_type": "stream",
     "text": [
      "The configuration file contains legacy configuration keys.\r\n",
      "Please update your configuration file!\r\n",
      "The update script lxc-update-config -c <path-to-config> can be used for this.\r\n",
      "['10.0.3.89']\r\n",
      "{\"ais-bashy\": [\"10.0.3.89\"], \"lxc_container\": {\"hosts\": [[\"10.0.3.89\"]], \"vars\": {\"ansible_user\": \"ubuntu\"}}, \"local\": {\"hosts\": [\"localhost\"], \"vars\": {\"ansible_connection\": \"local\"}}}\r\n"
     ]
    }
   ],
   "source": [
    "!python dyn_inventory.py --list"
   ]
  },
  {
   "cell_type": "code",
   "execution_count": null,
   "metadata": {},
   "outputs": [],
   "source": []
  }
 ],
 "metadata": {
  "kernelspec": {
   "display_name": "Python 3",
   "language": "python",
   "name": "python3"
  },
  "language_info": {
   "codemirror_mode": {
    "name": "ipython",
    "version": 3
   },
   "file_extension": ".py",
   "mimetype": "text/x-python",
   "name": "python",
   "nbconvert_exporter": "python",
   "pygments_lexer": "ipython3",
   "version": "3.5.2"
  }
 },
 "nbformat": 4,
 "nbformat_minor": 2
}
