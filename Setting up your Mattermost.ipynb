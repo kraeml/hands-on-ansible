{
 "cells": [
  {
   "cell_type": "markdown",
   "metadata": {},
   "source": [
    "# Setting up your Mattermost machine(s)"
   ]
  },
  {
   "cell_type": "markdown",
   "metadata": {},
   "source": [
    "## Create Containers\n",
    "You'll need to create these one at a time.\n",
    "\n",
    "\tsudo lxc-create -n mattermost -t ubuntu\n",
    "\tsudo lxc-create -n matterweb -t ubuntu\n",
    "\tsudo lxc-create -n matterdb -t ubuntu"
   ]
  },
  {
   "cell_type": "code",
   "execution_count": 1,
   "metadata": {
    "ExecuteTime": {
     "end_time": "2018-03-13T12:45:48.226462Z",
     "start_time": "2018-03-13T12:45:48.116119Z"
    }
   },
   "outputs": [
    {
     "name": "stdout",
     "output_type": "stream",
     "text": [
      "/home/vagrant/rdf/ais/hands-on-ansible\n"
     ]
    }
   ],
   "source": [
    "pwd"
   ]
  },
  {
   "cell_type": "code",
   "execution_count": 2,
   "metadata": {
    "ExecuteTime": {
     "end_time": "2018-03-13T12:48:59.091860Z",
     "start_time": "2018-03-13T12:45:49.335745Z"
    },
    "collapsed": true
   },
   "outputs": [
    {
     "name": "stdout",
     "output_type": "stream",
     "text": [
      "Checking cache download in /var/cache/lxc/xenial/rootfs-amd64 ... \n",
      "Copy /var/cache/lxc/xenial/rootfs-amd64 to /var/lib/lxc/mattermost/rootfs ... \n",
      "Copying rootfs to /var/lib/lxc/mattermost/rootfs ...\n",
      "Generating locales (this might take a while)...\n",
      "  de_DE.UTF-8... done\n",
      "Generation complete.\n",
      "debconf: kann Oberfläche nicht initialisieren: Dialog\n",
      "debconf: (Die Dialog-Oberfläche funktioniert nicht auf einem Dumb-Terminal, einem Emacs-Shellbuffer oder ohne ein steuerndes Terminal.)\n",
      "debconf: greife zurück auf die Oberfläche: Readline\n",
      "debconf: kann Oberfläche nicht initialisieren: Readline\n",
      "debconf: (Can't locate Term/ReadLine.pm in @INC (you may need to install the Term::ReadLine module) (@INC contains: /etc/perl /usr/local/lib/x86_64-linux-gnu/perl/5.22.1 /usr/local/share/perl/5.22.1 /usr/lib/x86_64-linux-gnu/perl5/5.22 /usr/share/perl5 /usr/lib/x86_64-linux-gnu/perl/5.22 /usr/share/perl/5.22 /usr/local/lib/site_perl /usr/lib/x86_64-linux-gnu/perl-base .) at /usr/share/perl5/Debconf/FrontEnd/Readline.pm line 7.)\n",
      "debconf: greife zurück auf die Oberfläche: Teletype\n",
      "Creating SSH2 RSA key; this may take some time ...\n",
      "2048 SHA256:l8UdmYqAlbQaT0bt5Tl+7a9XEnrmNVnAC59OoHNkM5c root@rdf-dev (RSA)\n",
      "Creating SSH2 DSA key; this may take some time ...\n",
      "1024 SHA256:ylMzZ7BXSKud6qjgIVY9tA15dDixPMIdAeQY4z+hByg root@rdf-dev (DSA)\n",
      "Creating SSH2 ECDSA key; this may take some time ...\n",
      "256 SHA256:d9uyiffQjn3dW6SZU7xNnGaUMwMk9KRWzLUlUSrcXc4 root@rdf-dev (ECDSA)\n",
      "Creating SSH2 ED25519 key; this may take some time ...\n",
      "256 SHA256:PF39qfkWr4HdnF/+7ikqSZSOFc2MvUU/xKo2rnfGhjk root@rdf-dev (ED25519)\n",
      "invoke-rc.d: could not determine current runlevel\n",
      "invoke-rc.d: policy-rc.d denied execution of start.\n",
      "\n",
      "Current default time zone: 'Etc/UTC'\n",
      "Local time is now:      Tue Mar 13 12:47:01 UTC 2018.\n",
      "Universal Time is now:  Tue Mar 13 12:47:01 UTC 2018.\n",
      "\n",
      "\n",
      "##\n",
      "# The default user is 'ubuntu' with password 'ubuntu'!\n",
      "# Use the 'sudo' command to run tasks as root in the container.\n",
      "##\n",
      "\n",
      "Checking cache download in /var/cache/lxc/xenial/rootfs-amd64 ... \n",
      "Copy /var/cache/lxc/xenial/rootfs-amd64 to /var/lib/lxc/matterweb/rootfs ... \n",
      "Copying rootfs to /var/lib/lxc/matterweb/rootfs ...\n",
      "Generating locales (this might take a while)...\n",
      "  de_DE.UTF-8... done\n",
      "Generation complete.\n",
      "debconf: kann Oberfläche nicht initialisieren: Dialog\n",
      "debconf: (Die Dialog-Oberfläche funktioniert nicht auf einem Dumb-Terminal, einem Emacs-Shellbuffer oder ohne ein steuerndes Terminal.)\n",
      "debconf: greife zurück auf die Oberfläche: Readline\n",
      "debconf: kann Oberfläche nicht initialisieren: Readline\n",
      "debconf: (Can't locate Term/ReadLine.pm in @INC (you may need to install the Term::ReadLine module) (@INC contains: /etc/perl /usr/local/lib/x86_64-linux-gnu/perl/5.22.1 /usr/local/share/perl/5.22.1 /usr/lib/x86_64-linux-gnu/perl5/5.22 /usr/share/perl5 /usr/lib/x86_64-linux-gnu/perl/5.22 /usr/share/perl/5.22 /usr/local/lib/site_perl /usr/lib/x86_64-linux-gnu/perl-base .) at /usr/share/perl5/Debconf/FrontEnd/Readline.pm line 7.)\n",
      "debconf: greife zurück auf die Oberfläche: Teletype\n",
      "Creating SSH2 RSA key; this may take some time ...\n",
      "2048 SHA256:Tsz01xVAHUtZNF3DKfv051NYcxYh+djfd2zjPlrKG/w root@rdf-dev (RSA)\n",
      "Creating SSH2 DSA key; this may take some time ...\n",
      "1024 SHA256:yJP6vZ8WI0jQwA89sIOpvxoRX32XRBOiY7VzE5C7tIY root@rdf-dev (DSA)\n",
      "Creating SSH2 ECDSA key; this may take some time ...\n",
      "256 SHA256:EnBJ/Ds5zb5aoJP2EU6pOE+iF1OP1Qf8zVoMpvb5qTM root@rdf-dev (ECDSA)\n",
      "Creating SSH2 ED25519 key; this may take some time ...\n",
      "256 SHA256:z2Fvwrry03/BaMYQX+H7c2Ptlv1VoPWeDv2Q943gMXs root@rdf-dev (ED25519)\n",
      "invoke-rc.d: could not determine current runlevel\n",
      "invoke-rc.d: policy-rc.d denied execution of start.\n",
      "\n",
      "Current default time zone: 'Etc/UTC'\n",
      "Local time is now:      Tue Mar 13 12:48:00 UTC 2018.\n",
      "Universal Time is now:  Tue Mar 13 12:48:00 UTC 2018.\n",
      "\n",
      "\n",
      "##\n",
      "# The default user is 'ubuntu' with password 'ubuntu'!\n",
      "# Use the 'sudo' command to run tasks as root in the container.\n",
      "##\n",
      "\n",
      "Checking cache download in /var/cache/lxc/xenial/rootfs-amd64 ... \n",
      "Copy /var/cache/lxc/xenial/rootfs-amd64 to /var/lib/lxc/matterdb/rootfs ... \n",
      "Copying rootfs to /var/lib/lxc/matterdb/rootfs ...\n",
      "Generating locales (this might take a while)...\n",
      "  de_DE.UTF-8... done\n",
      "Generation complete.\n",
      "debconf: kann Oberfläche nicht initialisieren: Dialog\n",
      "debconf: (Die Dialog-Oberfläche funktioniert nicht auf einem Dumb-Terminal, einem Emacs-Shellbuffer oder ohne ein steuerndes Terminal.)\n",
      "debconf: greife zurück auf die Oberfläche: Readline\n",
      "debconf: kann Oberfläche nicht initialisieren: Readline\n",
      "debconf: (Can't locate Term/ReadLine.pm in @INC (you may need to install the Term::ReadLine module) (@INC contains: /etc/perl /usr/local/lib/x86_64-linux-gnu/perl/5.22.1 /usr/local/share/perl/5.22.1 /usr/lib/x86_64-linux-gnu/perl5/5.22 /usr/share/perl5 /usr/lib/x86_64-linux-gnu/perl/5.22 /usr/share/perl/5.22 /usr/local/lib/site_perl /usr/lib/x86_64-linux-gnu/perl-base .) at /usr/share/perl5/Debconf/FrontEnd/Readline.pm line 7.)\n",
      "debconf: greife zurück auf die Oberfläche: Teletype\n",
      "Creating SSH2 RSA key; this may take some time ...\n",
      "2048 SHA256:2AvL8aM7VG8WBVgCQa+fyoLntVkOp200J7TfOgcoCEc root@rdf-dev (RSA)\n",
      "Creating SSH2 DSA key; this may take some time ...\n",
      "1024 SHA256:lCLRL+GCLcmLEbkPXB29THCT2L2b/jeifJhP3A3VPMM root@rdf-dev (DSA)\n",
      "Creating SSH2 ECDSA key; this may take some time ...\n",
      "256 SHA256:3oHuRJO2/1vLfFdu+dRjsbM5yvK26bLm4Ehto2QdH+0 root@rdf-dev (ECDSA)\n",
      "Creating SSH2 ED25519 key; this may take some time ...\n",
      "256 SHA256:Rx/2GDVT/cDDlRjr46npZzmJdgj1To0QNPCqJDRnf4E root@rdf-dev (ED25519)\n",
      "invoke-rc.d: could not determine current runlevel\n",
      "invoke-rc.d: policy-rc.d denied execution of start.\n",
      "\n",
      "Current default time zone: 'Etc/UTC'\n",
      "Local time is now:      Tue Mar 13 12:48:58 UTC 2018.\n",
      "Universal Time is now:  Tue Mar 13 12:48:58 UTC 2018.\n",
      "\n",
      "\n",
      "##\n",
      "# The default user is 'ubuntu' with password 'ubuntu'!\n",
      "# Use the 'sudo' command to run tasks as root in the container.\n",
      "##\n",
      "\n"
     ]
    }
   ],
   "source": [
    "sudo lxc-create -n mattermost -t ubuntu\n",
    "sudo lxc-create -n matterweb -t ubuntu\n",
    "sudo lxc-create -n matterdb -t ubuntu"
   ]
  },
  {
   "cell_type": "markdown",
   "metadata": {},
   "source": [
    "### Start the Containers\n",
    "\n",
    "\tsudo lxc-start -n mattermost\n",
    "\tsudo lxc-start -n matterweb\n",
    "\tsudo lxc-start -n matterdb\n",
    "    sleep 15\n",
    "\tsudo lxc-ls -f"
   ]
  },
  {
   "cell_type": "code",
   "execution_count": 3,
   "metadata": {
    "ExecuteTime": {
     "end_time": "2018-03-13T12:52:26.787511Z",
     "start_time": "2018-03-13T12:52:08.367574Z"
    }
   },
   "outputs": [
    {
     "name": "stdout",
     "output_type": "stream",
     "text": [
      "NAME       STATE   AUTOSTART GROUPS IPV4       IPV6 \n",
      "matterdb   RUNNING 0         -      10.0.3.237 -    \n",
      "mattermost RUNNING 0         -      10.0.3.207 -    \n",
      "matterweb  RUNNING 0         -      10.0.3.209 -    \n"
     ]
    }
   ],
   "source": [
    "sudo lxc-start -n mattermost\n",
    "sudo lxc-start -n matterweb\n",
    "sudo lxc-start -n matterdb\n",
    "sleep 15\n",
    "sudo lxc-ls -f"
   ]
  },
  {
   "cell_type": "code",
   "execution_count": 4,
   "metadata": {
    "ExecuteTime": {
     "end_time": "2018-03-06T13:50:39.235332Z",
     "start_time": "2018-03-06T13:50:39.086753Z"
    }
   },
   "outputs": [
    {
     "name": "stdout",
     "output_type": "stream",
     "text": [
      "The configuration file contains legacy configuration keys.\n",
      "Please update your configuration file!\n",
      "The configuration file contains legacy configuration keys.\n",
      "Please update your configuration file!\n",
      "The configuration file contains legacy configuration keys.\n",
      "Please update your configuration file!\n",
      "NAME          STATE   AUTOSTART GROUPS IPV4       IPV6 \n",
      "bsa-bashy     STOPPED 0         -      -          -    \n",
      "bsa-testing   STOPPED 0         -      -          -    \n",
      "lvm_container STOPPED 0         -      -          -    \n",
      "matterdb      RUNNING 0         -      10.0.3.172 -    \n",
      "mattermost    RUNNING 0         -      10.0.3.207 -    \n",
      "matterweb     RUNNING 0         -      10.0.3.194 -    \n"
     ]
    }
   ],
   "source": [
    "sudo lxc-ls -f"
   ]
  },
  {
   "cell_type": "markdown",
   "metadata": {},
   "source": [
    "## Prep machines\n",
    "\n",
    "You may have to ssh to each host first, if the ansible 2.2 regression is not fixed yet. Just add each host to your known_hosts by typing 'yes' and you'll be ready to go. Ansible version that have this bug fixed will not have to do this step first, and can directly run the commands below.\n",
    "\n",
    "\tcd /home/dave/code/hands-on-ansible/02-playbooks/00-simple-playbook-examples\n",
    "\tvim inv\n",
    "\tansible-playbook prepare_ansible_target.yml -k --ask-sudo-pass -i inv"
   ]
  },
  {
   "cell_type": "code",
   "execution_count": 5,
   "metadata": {
    "ExecuteTime": {
     "end_time": "2018-03-13T12:57:28.783200Z",
     "start_time": "2018-03-13T12:57:28.095986Z"
    }
   },
   "outputs": [
    {
     "name": "stdout",
     "output_type": "stream",
     "text": [
      "do_known_hosts: hostkeys_foreach failed: No such file or directory\n",
      "# 10.0.3.237:22 SSH-2.0-OpenSSH_7.2p2 Ubuntu-4ubuntu2.4\n",
      "# 10.0.3.237:22 SSH-2.0-OpenSSH_7.2p2 Ubuntu-4ubuntu2.4\n",
      "# 10.0.3.237:22 SSH-2.0-OpenSSH_7.2p2 Ubuntu-4ubuntu2.4\n",
      "Host 10.0.3.207 not found in /home/vagrant/.ssh/known_hosts\n",
      "# 10.0.3.207:22 SSH-2.0-OpenSSH_7.2p2 Ubuntu-4ubuntu2.4\n",
      "# 10.0.3.207:22 SSH-2.0-OpenSSH_7.2p2 Ubuntu-4ubuntu2.4\n",
      "# 10.0.3.207:22 SSH-2.0-OpenSSH_7.2p2 Ubuntu-4ubuntu2.4\n",
      "Host 10.0.3.209 not found in /home/vagrant/.ssh/known_hosts\n",
      "# 10.0.3.209:22 SSH-2.0-OpenSSH_7.2p2 Ubuntu-4ubuntu2.4\n",
      "# 10.0.3.209:22 SSH-2.0-OpenSSH_7.2p2 Ubuntu-4ubuntu2.4\n",
      "# 10.0.3.209:22 SSH-2.0-OpenSSH_7.2p2 Ubuntu-4ubuntu2.4\n"
     ]
    }
   ],
   "source": [
    "MATTER_LXC=$(sudo lxc-ls --filter=matter --fancy --fancy-format IPV4 | grep -v IPV4)\n",
    "for i in $MATTER_LXC\n",
    "do\n",
    "    ssh-keygen -R $i\n",
    "    ssh-keyscan $i >> ~/.ssh/known_hosts\n",
    "done"
   ]
  },
  {
   "cell_type": "code",
   "execution_count": 6,
   "metadata": {
    "ExecuteTime": {
     "end_time": "2018-03-13T12:58:02.424026Z",
     "start_time": "2018-03-13T12:58:02.316587Z"
    }
   },
   "outputs": [],
   "source": [
    "cd 02-playbooks/00-simple-playbook-examples"
   ]
  },
  {
   "cell_type": "code",
   "execution_count": 7,
   "metadata": {
    "ExecuteTime": {
     "end_time": "2018-03-13T12:58:03.656190Z",
     "start_time": "2018-03-13T12:58:03.516844Z"
    }
   },
   "outputs": [],
   "source": [
    "sudo lxc-ls --filter=matter --fancy --fancy-format IPV4 | grep -v IPV4 > inv"
   ]
  },
  {
   "cell_type": "markdown",
   "metadata": {},
   "source": [
    "To on terminal.\n",
    "\n",
    "```bash\n",
    "cd ~/rdf/ais/hands-on-ansible/02-playbooks/00-simple-playbook-examples\n",
    "ansible-playbook prepare_ansible_target.yml -k --ask-sudo-pass -i inv\n",
    "```\n"
   ]
  },
  {
   "cell_type": "markdown",
   "metadata": {},
   "source": [
    "## Install Mattermost\n",
    "\n",
    "\tcd ~/rdf/ais/hands-on-ansible/02-playbooks/02-install-mattermost/install_mattermost\n",
    "\tvim hosts\n",
    "\tansible-playbook install-mattermost.yml -i hosts"
   ]
  },
  {
   "cell_type": "code",
   "execution_count": 15,
   "metadata": {
    "ExecuteTime": {
     "end_time": "2018-03-06T14:02:03.687155Z",
     "start_time": "2018-03-06T14:02:03.582598Z"
    }
   },
   "outputs": [
    {
     "name": "stdout",
     "output_type": "stream",
     "text": [
      "/home/vagrant/rdf/ais/hands-on-ansible/02-playbooks/00-simple-playbook-examples\n"
     ]
    }
   ],
   "source": [
    "pwd"
   ]
  },
  {
   "cell_type": "code",
   "execution_count": 8,
   "metadata": {
    "ExecuteTime": {
     "end_time": "2018-03-13T13:04:03.357179Z",
     "start_time": "2018-03-13T13:04:03.224331Z"
    }
   },
   "outputs": [],
   "source": [
    "cd ~/rdf/ais/hands-on-ansible/02-playbooks/02-install-mattermost/install_mattermost"
   ]
  },
  {
   "cell_type": "code",
   "execution_count": 9,
   "metadata": {
    "ExecuteTime": {
     "end_time": "2018-03-13T13:04:05.629257Z",
     "start_time": "2018-03-13T13:04:05.461598Z"
    }
   },
   "outputs": [
    {
     "name": "stdout",
     "output_type": "stream",
     "text": [
      "---\n",
      "- name: Database Setup\n",
      "  hosts: dbservers\n",
      "  remote_user: root\n",
      "  roles:\n",
      "    - common\n",
      "    - database\n",
      "\n",
      "- name: Webserver Setup\n",
      "  hosts: webservers\n",
      "  remote_user: root\n",
      "  roles:\n",
      "    - common\n",
      "    - web\n"
     ]
    }
   ],
   "source": [
    "cat install-mattermost.yml"
   ]
  },
  {
   "cell_type": "code",
   "execution_count": 10,
   "metadata": {
    "ExecuteTime": {
     "end_time": "2018-03-13T13:04:21.309642Z",
     "start_time": "2018-03-13T13:04:20.657423Z"
    }
   },
   "outputs": [
    {
     "name": "stdout",
     "output_type": "stream",
     "text": [
      "matterdb   mattermost matterweb  \n"
     ]
    }
   ],
   "source": [
    "sudo lxc-ls --filter 'matter'"
   ]
  },
  {
   "cell_type": "code",
   "execution_count": 13,
   "metadata": {
    "ExecuteTime": {
     "end_time": "2018-03-13T13:07:00.791369Z",
     "start_time": "2018-03-13T13:07:00.352130Z"
    }
   },
   "outputs": [],
   "source": [
    "echo \"[dbservers]\" > hosts\n",
    "sudo lxc-ls --filter=matterm --fancy --fancy-format=IPV4 | grep -v IPV4 >> hosts\n",
    "echo \"[webservers]\" >> hosts\n",
    "sudo lxc-ls --filter=matterm --fancy --fancy-format=IPV4 | grep -v IPV4 >> hosts\n",
    "#sudo lxc-ls --filter=matterw --fancy --fancy-format=IPV4 | grep -v IPV4 >> hosts\n"
   ]
  },
  {
   "cell_type": "code",
   "execution_count": 14,
   "metadata": {
    "ExecuteTime": {
     "end_time": "2018-03-13T13:07:01.742003Z",
     "start_time": "2018-03-13T13:07:01.632690Z"
    }
   },
   "outputs": [
    {
     "name": "stdout",
     "output_type": "stream",
     "text": [
      "[dbservers]\n",
      "10.0.3.207 \n",
      "[webservers]\n",
      "10.0.3.207 \n"
     ]
    }
   ],
   "source": [
    "cat hosts"
   ]
  },
  {
   "cell_type": "code",
   "execution_count": 17,
   "metadata": {
    "ExecuteTime": {
     "end_time": "2018-03-13T13:08:35.357510Z",
     "start_time": "2018-03-13T13:08:35.233411Z"
    }
   },
   "outputs": [
    {
     "name": "stdout",
     "output_type": "stream",
     "text": [
      "insgesamt 16\n",
      "drwxrwxr-x 2 vagrant vagrant 4096 Mär 12 00:24 group_vars/\n",
      "-rw-rw-r-- 1 vagrant vagrant   49 Mär 13 13:07 hosts\n",
      "-rw-rw-r-- 1 vagrant vagrant  200 Mär 12 00:24 install-mattermost.yml\n",
      "drwxrwxr-x 5 vagrant vagrant 4096 Mär 12 00:24 roles/\n"
     ]
    }
   ],
   "source": [
    "ls -lF"
   ]
  },
  {
   "cell_type": "code",
   "execution_count": 18,
   "metadata": {
    "ExecuteTime": {
     "end_time": "2018-03-13T13:08:58.913717Z",
     "start_time": "2018-03-13T13:08:58.805938Z"
    }
   },
   "outputs": [
    {
     "name": "stdout",
     "output_type": "stream",
     "text": [
      "insgesamt 4\n",
      "-rw-rw-r-- 1 vagrant vagrant 1950 Mär 12 00:24 all\n"
     ]
    }
   ],
   "source": [
    "ls -lF group_vars"
   ]
  },
  {
   "cell_type": "code",
   "execution_count": 19,
   "metadata": {
    "ExecuteTime": {
     "end_time": "2018-03-13T13:09:12.399832Z",
     "start_time": "2018-03-13T13:09:12.237987Z"
    }
   },
   "outputs": [
    {
     "name": "stdout",
     "output_type": "stream",
     "text": [
      "---\n",
      "\n",
      "## This playbook expects:\n",
      "# one Database server\n",
      "# one or more web servers\n",
      "# upstart or systemd on the webservers\n",
      "# webserver IP address entered in ansible inventory (hostnames are problematic because we use the inventory_hostname to set up the postgres pg_hba.conf)\n",
      "\n",
      "\n",
      "####################################################\n",
      "# Common configuration options:\n",
      "####################################################\n",
      "# The domain that nginx listens for\n",
      "mattermost_domain: mattermost.tutorialinux.com\n",
      "\n",
      "# If you're using a separate database server, choose \"require\"\n",
      "# If you're installing both DB and Web on a single server, choose \"disable\"\n",
      "# \"require\" (default), \"verify-full\", \"verify-ca\", and \"disable\" are supported\n",
      "mm_ssl_mode: disable\n",
      "\n",
      "\n",
      "## Change this to 'localhost' if you're running your \n",
      "## database on the same machine as your web application\n",
      "## mattermost will try to connect to {{ db_server }}:5432\n",
      "# grab the first DB server (this is not elegant)\n",
      "# db_server: \"{{ hostvars[groups['dbservers'][0]]['ansible_default_ipv4']['address'] }}\"\n",
      "db_server: localhost\n",
      "\n",
      "####################################################\n",
      "# Database\n",
      "####################################################\n",
      "# Postgres Version\n",
      "PG_VERSION: \"9.5\"\n",
      "PG_HBA_CONF: /etc/postgresql/{{ PG_VERSION }}/main/pg_hba.conf\n",
      "PG_CONF: /etc/postgresql/{{ PG_VERSION }}/main/postgresql.conf\n",
      "\n",
      "db_user: mmuser\n",
      "db_password: \"your_mattermost_user_password\"\n",
      "\n",
      "\n",
      "####################################################\n",
      "# System\n",
      "####################################################\n",
      "mattermost_sysuser: \"mattermost\"\n",
      "mattermost_directory: /home/{{ mattermost_sysuser }}/mattermost_app\n",
      "\n",
      "\n",
      "####################################################\n",
      "# Web\n",
      "####################################################\n",
      "LATEST_MM_VERSION: \"3.5.0\"\n",
      "LATEST_MM_DOWNLOADNAME: \"mattermost-team-{{ LATEST_MM_VERSION }}-linux-amd64.tar.gz\"\n",
      "LATEST_MM_URL: https://releases.mattermost.com/{{ LATEST_MM_VERSION }}/{{ LATEST_MM_DOWNLOADNAME }}\n"
     ]
    }
   ],
   "source": [
    "cat group_vars/all"
   ]
  },
  {
   "cell_type": "markdown",
   "metadata": {},
   "source": [
    "__Achtung__ Die Versionen können sich geändert haben. Daher nach schauen!\n",
    "\n",
    "https://about.mattermost.com/download/"
   ]
  },
  {
   "cell_type": "code",
   "execution_count": 20,
   "metadata": {
    "ExecuteTime": {
     "end_time": "2018-03-13T13:11:22.884154Z",
     "start_time": "2018-03-13T13:11:21.699592Z"
    }
   },
   "outputs": [
    {
     "name": "stdout",
     "output_type": "stream",
     "text": [
      "postgresql:\n",
      "  Installiert:           (keine)\n",
      "  Installationskandidat: 9.5+173ubuntu0.1\n",
      "  Versionstabelle:\n",
      "     9.5+173ubuntu0.1 500\n",
      "        500 http://us.archive.ubuntu.com/ubuntu xenial-updates/main amd64 Packages\n",
      "        500 http://us.archive.ubuntu.com/ubuntu xenial-updates/main i386 Packages\n",
      "        500 http://security.ubuntu.com/ubuntu xenial-security/main amd64 Packages\n",
      "        500 http://security.ubuntu.com/ubuntu xenial-security/main i386 Packages\n",
      "     9.5+173 500\n",
      "        500 http://us.archive.ubuntu.com/ubuntu xenial/main amd64 Packages\n",
      "        500 http://us.archive.ubuntu.com/ubuntu xenial/main i386 Packages\n"
     ]
    }
   ],
   "source": [
    "apt policy postgresql"
   ]
  },
  {
   "cell_type": "code",
   "execution_count": 21,
   "metadata": {
    "ExecuteTime": {
     "end_time": "2018-03-13T13:17:16.748853Z",
     "start_time": "2018-03-13T13:15:44.254550Z"
    },
    "scrolled": false
   },
   "outputs": [
    {
     "name": "stdout",
     "output_type": "stream",
     "text": [
      " _______________________\n",
      "< PLAY [Database Setup] >\n",
      " -----------------------\n",
      "        \\   ^__^\n",
      "         \\  (oo)\\_______\n",
      "            (__)\\       )\\/\\\n",
      "                ||----w |\n",
      "                ||     ||\n",
      "\n",
      " ________________________\n",
      "< TASK [Gathering Facts] >\n",
      " ------------------------\n",
      "        \\   ^__^\n",
      "         \\  (oo)\\_______\n",
      "            (__)\\       )\\/\\\n",
      "                ||----w |\n",
      "                ||     ||\n",
      "\n",
      "ok: [10.0.3.207]\n",
      " _________________________________________________\n",
      "< TASK [common : COMMON | Install basic packages] >\n",
      " -------------------------------------------------\n",
      "        \\   ^__^\n",
      "         \\  (oo)\\_______\n",
      "            (__)\\       )\\/\\\n",
      "                ||----w |\n",
      "                ||     ||\n",
      "\n",
      "changed: [10.0.3.207] => (item=wget)\n",
      "ok: [10.0.3.207] => (item=vim)\n",
      "changed: [10.0.3.207] => (item=nano)\n",
      "changed: [10.0.3.207] => (item=curl)\n",
      " ____________________________________________________________\n",
      "< TASK [database : SYSTEM | Install basic database packages] >\n",
      " ------------------------------------------------------------\n",
      "        \\   ^__^\n",
      "         \\  (oo)\\_______\n",
      "            (__)\\       )\\/\\\n",
      "                ||----w |\n",
      "                ||     ||\n",
      "\n",
      "changed: [10.0.3.207] => (item=postgresql)\n",
      "changed: [10.0.3.207] => (item=postgresql-contrib)\n",
      "changed: [10.0.3.207] => (item=python-psycopg2)\n",
      " _________________________________________________________\n",
      "< TASK [database : POSTGRES | Create mattermost database] >\n",
      " ---------------------------------------------------------\n",
      "        \\   ^__^\n",
      "         \\  (oo)\\_______\n",
      "            (__)\\       )\\/\\\n",
      "                ||----w |\n",
      "                ||     ||\n",
      "\n",
      "changed: [10.0.3.207]\n",
      " ________________________________________________________\n",
      "< TASK [database : POSTGRES | Create mattermost DB user] >\n",
      " --------------------------------------------------------\n",
      "        \\   ^__^\n",
      "         \\  (oo)\\_______\n",
      "            (__)\\       )\\/\\\n",
      "                ||----w |\n",
      "                ||     ||\n",
      "\n",
      "changed: [10.0.3.207]\n",
      " ____________________________________________________________\n",
      "/ TASK [database : POSTGRES | Shore up DB privileges for our \\\n",
      "\\ application user]                                          /\n",
      " ------------------------------------------------------------\n",
      "        \\   ^__^\n",
      "         \\  (oo)\\_______\n",
      "            (__)\\       )\\/\\\n",
      "                ||----w |\n",
      "                ||     ||\n",
      "\n",
      "ok: [10.0.3.207]\n",
      " _______________________________________________________\n",
      "/ TASK [database : POSTGRES | Set up pg_hba.conf, allow \\\n",
      "\\ connections from webservers]                          /\n",
      " -------------------------------------------------------\n",
      "        \\   ^__^\n",
      "         \\  (oo)\\_______\n",
      "            (__)\\       )\\/\\\n",
      "                ||----w |\n",
      "                ||     ||\n",
      "\n",
      "skipping: [10.0.3.207]\n",
      " ________________________________________________\n",
      "< TASK [database : POSTGRES | Listen on all IPs] >\n",
      " ------------------------------------------------\n",
      "        \\   ^__^\n",
      "         \\  (oo)\\_______\n",
      "            (__)\\       )\\/\\\n",
      "                ||----w |\n",
      "                ||     ||\n",
      "\n",
      "skipping: [10.0.3.207]\n",
      " ________________________\n",
      "< PLAY [Webserver Setup] >\n",
      " ------------------------\n",
      "        \\   ^__^\n",
      "         \\  (oo)\\_______\n",
      "            (__)\\       )\\/\\\n",
      "                ||----w |\n",
      "                ||     ||\n",
      "\n",
      " ________________________\n",
      "< TASK [Gathering Facts] >\n",
      " ------------------------\n",
      "        \\   ^__^\n",
      "         \\  (oo)\\_______\n",
      "            (__)\\       )\\/\\\n",
      "                ||----w |\n",
      "                ||     ||\n",
      "\n",
      "ok: [10.0.3.207]\n",
      " _________________________________________________\n",
      "< TASK [common : COMMON | Install basic packages] >\n",
      " -------------------------------------------------\n",
      "        \\   ^__^\n",
      "         \\  (oo)\\_______\n",
      "            (__)\\       )\\/\\\n",
      "                ||----w |\n",
      "                ||     ||\n",
      "\n",
      "ok: [10.0.3.207] => (item=wget)\n",
      "ok: [10.0.3.207] => (item=vim)\n",
      "ok: [10.0.3.207] => (item=nano)\n",
      "ok: [10.0.3.207] => (item=curl)\n",
      " _____________________________________________\n",
      "< TASK [web : SYSTEM | Install util packages] >\n",
      " ---------------------------------------------\n",
      "        \\   ^__^\n",
      "         \\  (oo)\\_______\n",
      "            (__)\\       )\\/\\\n",
      "                ||----w |\n",
      "                ||     ||\n",
      "\n",
      "ok: [10.0.3.207] => (item=python-apt)\n",
      " _______________________________________________________\n",
      "/ TASK [web : NGINX | Ensure that nginx PPA is added to \\\n",
      "\\ Ubuntu]                                               /\n",
      " -------------------------------------------------------\n",
      "        \\   ^__^\n",
      "         \\  (oo)\\_______\n",
      "            (__)\\       )\\/\\\n",
      "                ||----w |\n",
      "                ||     ||\n",
      "\n",
      "changed: [10.0.3.207]\n",
      " ____________________________________\n",
      "< TASK [web : NGINX | Install nginx] >\n",
      " ------------------------------------\n",
      "        \\   ^__^\n",
      "         \\  (oo)\\_______\n",
      "            (__)\\       )\\/\\\n",
      "                ||----w |\n",
      "                ||     ||\n",
      "\n",
      "changed: [10.0.3.207]\n",
      " ___________________________________________\n",
      "< TASK [web : NGINX | Remove default vhost] >\n",
      " -------------------------------------------\n",
      "        \\   ^__^\n",
      "         \\  (oo)\\_______\n",
      "            (__)\\       )\\/\\\n",
      "                ||----w |\n",
      "                ||     ||\n",
      "\n",
      "changed: [10.0.3.207]\n",
      " _________________________________________________\n",
      "< TASK [web : NGINX | Configure mattermost vhost] >\n",
      " -------------------------------------------------\n",
      "        \\   ^__^\n",
      "         \\  (oo)\\_______\n",
      "            (__)\\       )\\/\\\n",
      "                ||----w |\n",
      "                ||     ||\n",
      "\n",
      "changed: [10.0.3.207]\n",
      " _____________________________________________________________\n",
      "/ TASK [web : NGINX | nginx should be running, and enabled at \\\n",
      "\\ boot]                                                       /\n",
      " -------------------------------------------------------------\n",
      "        \\   ^__^\n",
      "         \\  (oo)\\_______\n",
      "            (__)\\       )\\/\\\n",
      "                ||----w |\n",
      "                ||     ||\n",
      "\n",
      "ok: [10.0.3.207]\n",
      " _____________________________________________________\n",
      "< TASK [web : SYSTEM | Create mattermost system user] >\n",
      " -----------------------------------------------------\n",
      "        \\   ^__^\n",
      "         \\  (oo)\\_______\n",
      "            (__)\\       )\\/\\\n",
      "                ||----w |\n",
      "                ||     ||\n",
      "\n",
      "changed: [10.0.3.207]\n",
      " ___________________\n",
      "< TASK [web : stat] >\n",
      " -------------------\n",
      "        \\   ^__^\n",
      "         \\  (oo)\\_______\n",
      "            (__)\\       )\\/\\\n",
      "                ||----w |\n",
      "                ||     ||\n",
      "\n",
      "ok: [10.0.3.207]\n",
      " ____________________________________________\n",
      "< TASK [web : INSTALL | Download Mattermost] >\n",
      " --------------------------------------------\n",
      "        \\   ^__^\n",
      "         \\  (oo)\\_______\n",
      "            (__)\\       )\\/\\\n",
      "                ||----w |\n",
      "                ||     ||\n",
      "\n",
      "changed: [10.0.3.207]\n",
      " ____________________________________________________\n",
      "< TASK [web : INSTALL | Unarchive mattermost.tar.gz] >\n",
      " ----------------------------------------------------\n",
      "        \\   ^__^\n",
      "         \\  (oo)\\_______\n",
      "            (__)\\       )\\/\\\n",
      "                ||----w |\n",
      "                ||     ||\n",
      "\n",
      "changed: [10.0.3.207]\n",
      " ____________________________________________________\n",
      "/ TASK [web : INSTALL | Rename downloaded mattermost \\\n",
      "\\ directory]                                         /\n",
      " ----------------------------------------------------\n",
      "        \\   ^__^\n",
      "         \\  (oo)\\_______\n",
      "            (__)\\       )\\/\\\n",
      "                ||----w |\n",
      "                ||     ||\n",
      "\n",
      "changed: [10.0.3.207]\n",
      " ___________________________________________________________\n",
      "/ TASK [web : INSTALL | Ensure Mattermost appdata directory \\\n",
      "\\ exists]                                                   /\n",
      " -----------------------------------------------------------\n",
      "        \\   ^__^\n",
      "         \\  (oo)\\_______\n",
      "            (__)\\       )\\/\\\n",
      "                ||----w |\n",
      "                ||     ||\n",
      "\n",
      "changed: [10.0.3.207]\n",
      " ____________________________________________________________\n",
      "< TASK [web : CLEANUP | Remove downloaded mattermost.tar.gz] >\n",
      " ------------------------------------------------------------\n",
      "        \\   ^__^\n",
      "         \\  (oo)\\_______\n",
      "            (__)\\       )\\/\\\n",
      "                ||----w |\n",
      "                ||     ||\n",
      "\n",
      "changed: [10.0.3.207]\n",
      " __________________________________________________________\n",
      "< TASK [web : CONFIG | Set up main Mattermost config file] >\n",
      " ----------------------------------------------------------\n",
      "        \\   ^__^\n",
      "         \\  (oo)\\_______\n",
      "            (__)\\       )\\/\\\n"
     ]
    },
    {
     "name": "stdout",
     "output_type": "stream",
     "text": [
      "                ||----w |\n",
      "                ||     ||\n",
      "\n",
      "changed: [10.0.3.207]\n",
      " ___________________________________________________________\n",
      "/ TASK [web : CONFIG | Set proper permissions on mattermost \\\n",
      "\\ app directory]                                            /\n",
      " -----------------------------------------------------------\n",
      "        \\   ^__^\n",
      "         \\  (oo)\\_______\n",
      "            (__)\\       )\\/\\\n",
      "                ||----w |\n",
      "                ||     ||\n",
      "\n",
      "changed: [10.0.3.207]\n",
      " _____________________________________________\n",
      "< TASK [web : INIT | Crude Check for systemd] >\n",
      " ---------------------------------------------\n",
      "        \\   ^__^\n",
      "         \\  (oo)\\_______\n",
      "            (__)\\       )\\/\\\n",
      "                ||----w |\n",
      "                ||     ||\n",
      "\n",
      "ok: [10.0.3.207]\n",
      " _____________________________________________\n",
      "< TASK [web : INIT | Crude Check for upstart] >\n",
      " ---------------------------------------------\n",
      "        \\   ^__^\n",
      "         \\  (oo)\\_______\n",
      "            (__)\\       )\\/\\\n",
      "                ||----w |\n",
      "                ||     ||\n",
      "\n",
      "ok: [10.0.3.207]\n",
      " ______________________________________________\n",
      "< TASK [web : INIT | Create systemd unit file] >\n",
      " ----------------------------------------------\n",
      "        \\   ^__^\n",
      "         \\  (oo)\\_______\n",
      "            (__)\\       )\\/\\\n",
      "                ||----w |\n",
      "                ||     ||\n",
      "\n",
      "changed: [10.0.3.207]\n",
      " ______________________________________________\n",
      "< TASK [web : INIT | Create upstart init file] >\n",
      " ----------------------------------------------\n",
      "        \\   ^__^\n",
      "         \\  (oo)\\_______\n",
      "            (__)\\       )\\/\\\n",
      "                ||----w |\n",
      "                ||     ||\n",
      "\n",
      "changed: [10.0.3.207]\n",
      " ____________________________________________________________\n",
      "/ TASK [web : MATTERMOST | Mattermost should be running, and \\\n",
      "\\ enabled at boot]                                           /\n",
      " ------------------------------------------------------------\n",
      "        \\   ^__^\n",
      "         \\  (oo)\\_______\n",
      "            (__)\\       )\\/\\\n",
      "                ||----w |\n",
      "                ||     ||\n",
      "\n",
      "changed: [10.0.3.207]\n",
      " ______________________________________\n",
      "< RUNNING HANDLER [web : reload nginx] >\n",
      " --------------------------------------\n",
      "        \\   ^__^\n",
      "         \\  (oo)\\_______\n",
      "            (__)\\       )\\/\\\n",
      "                ||----w |\n",
      "                ||     ||\n",
      "\n",
      "changed: [10.0.3.207]\n",
      " ________________________________________\n",
      "< RUNNING HANDLER [web : reload systemd] >\n",
      " ----------------------------------------\n",
      "        \\   ^__^\n",
      "         \\  (oo)\\_______\n",
      "            (__)\\       )\\/\\\n",
      "                ||----w |\n",
      "                ||     ||\n",
      "\n",
      "changed: [10.0.3.207]\n",
      " ____________________________________________\n",
      "< RUNNING HANDLER [web : restart mattermost] >\n",
      " --------------------------------------------\n",
      "        \\   ^__^\n",
      "         \\  (oo)\\_______\n",
      "            (__)\\       )\\/\\\n",
      "                ||----w |\n",
      "                ||     ||\n",
      "\n",
      "changed: [10.0.3.207]\n",
      " ____________\n",
      "< PLAY RECAP >\n",
      " ------------\n",
      "        \\   ^__^\n",
      "         \\  (oo)\\_______\n",
      "            (__)\\       )\\/\\\n",
      "                ||----w |\n",
      "                ||     ||\n",
      "\n",
      "10.0.3.207                 : ok=31   changed=22   unreachable=0    failed=0   \n",
      "\n"
     ]
    }
   ],
   "source": [
    "ansible-playbook install-mattermost.yml -i hosts"
   ]
  },
  {
   "cell_type": "markdown",
   "metadata": {},
   "source": [
    "## The playbook files"
   ]
  },
  {
   "cell_type": "code",
   "execution_count": 22,
   "metadata": {
    "ExecuteTime": {
     "end_time": "2018-03-13T13:24:56.264594Z",
     "start_time": "2018-03-13T13:24:56.127903Z"
    }
   },
   "outputs": [
    {
     "name": "stdout",
     "output_type": "stream",
     "text": [
      "---\n",
      "- name: Database Setup\n",
      "  hosts: dbservers\n",
      "  remote_user: root\n",
      "  roles:\n",
      "    - common\n",
      "    - database\n",
      "\n",
      "- name: Webserver Setup\n",
      "  hosts: webservers\n",
      "  remote_user: root\n",
      "  roles:\n",
      "    - common\n",
      "    - web\n"
     ]
    }
   ],
   "source": [
    "cat install-mattermost.yml"
   ]
  },
  {
   "cell_type": "code",
   "execution_count": 24,
   "metadata": {
    "ExecuteTime": {
     "end_time": "2018-03-13T13:25:32.442077Z",
     "start_time": "2018-03-13T13:25:32.320591Z"
    }
   },
   "outputs": [
    {
     "name": "stdout",
     "output_type": "stream",
     "text": [
      "insgesamt 12\n",
      "drwxrwxr-x 3 vagrant vagrant 4096 Mär 12 00:24 common/\n",
      "drwxrwxr-x 5 vagrant vagrant 4096 Mär 12 00:24 database/\n",
      "drwxrwxr-x 5 vagrant vagrant 4096 Mär 12 00:24 web/\n"
     ]
    }
   ],
   "source": [
    "ls -lF roles/"
   ]
  },
  {
   "cell_type": "code",
   "execution_count": 25,
   "metadata": {
    "ExecuteTime": {
     "end_time": "2018-03-13T13:26:11.870244Z",
     "start_time": "2018-03-13T13:26:11.731632Z"
    }
   },
   "outputs": [
    {
     "name": "stdout",
     "output_type": "stream",
     "text": [
      "---\n",
      "- name: COMMON | Install basic packages\n",
      "  package: name={{ item }} state=present\n",
      "  with_items:\n",
      "    - wget\n",
      "    - vim\n",
      "    - nano\n",
      "    - curl\n"
     ]
    }
   ],
   "source": [
    "cat roles/common/tasks/main.yml"
   ]
  },
  {
   "cell_type": "code",
   "execution_count": 26,
   "metadata": {
    "ExecuteTime": {
     "end_time": "2018-03-13T13:26:53.535855Z",
     "start_time": "2018-03-13T13:26:53.397835Z"
    }
   },
   "outputs": [
    {
     "name": "stdout",
     "output_type": "stream",
     "text": [
      "---\n",
      "- name: SYSTEM | Install basic database packages\n",
      "  package: name={{ item }} state=present\n",
      "  with_items:\n",
      "    - postgresql\n",
      "    - postgresql-contrib\n",
      "    - python-psycopg2\n",
      "\n",
      "- name: POSTGRES | Create mattermost database\n",
      "  become: true\n",
      "  become_user: postgres\n",
      "  postgresql_db:\n",
      "    name: mattermost\n",
      "\n",
      "- name: POSTGRES | Create mattermost DB user\n",
      "  become: yes\n",
      "  become_user: postgres\n",
      "  postgresql_user:\n",
      "    db: mattermost\n",
      "    name: \"{{ db_user }}\"\n",
      "    password: \"{{ db_password }}\"\n",
      "    priv: ALL\n",
      "\n",
      "- name: POSTGRES | Shore up DB privileges for our application user\n",
      "  become: yes\n",
      "  become_user: postgres\n",
      "  postgresql_user: \n",
      "    name: \"{{ db_user }}\"\n",
      "    role_attr_flags: NOSUPERUSER,NOCREATEDB\n",
      "\n",
      "\n",
      "- block:\n",
      "  - name: POSTGRES | Set up pg_hba.conf, allow connections from webservers\n",
      "    template: src=pg_hba.conf dest={{ PG_HBA_CONF }}\n",
      "    notify:\n",
      "      - restart postgres\n",
      "\n",
      "  - name: POSTGRES | Listen on all IPs\n",
      "    lineinfile:\n",
      "      dest: \"{{ PG_CONF }}\"\n",
      "      line: listen_addresses='*'\n",
      "    notify:\n",
      "      - restart postgres\n",
      "  # we only open up Postgres if we're running a separate web server\n",
      "  when: hostvars[groups['webservers'][0]]['inventory_hostname'] != inventory_hostname\n"
     ]
    }
   ],
   "source": [
    "cat roles/database/tasks/main.yml"
   ]
  },
  {
   "cell_type": "code",
   "execution_count": 27,
   "metadata": {
    "ExecuteTime": {
     "end_time": "2018-03-13T13:30:33.984495Z",
     "start_time": "2018-03-13T13:30:33.864774Z"
    }
   },
   "outputs": [
    {
     "name": "stdout",
     "output_type": "stream",
     "text": [
      "# DO NOT DISABLE!\n",
      "# If you change this first entry you will need to make sure that the\n",
      "# database superuser can access the database using some other method.\n",
      "# Noninteractive access to all databases is required during automatic\n",
      "# maintenance (custom daily cronjobs, replication, and similar tasks).\n",
      "#\n",
      "# Database administrative login by Unix domain socket\n",
      "local   all             postgres                                peer\n",
      "\n",
      "# TYPE  DATABASE        USER            ADDRESS                 METHOD\n",
      "\n",
      "# \"local\" is for Unix domain socket connections only\n",
      "local   all             all                                     peer\n",
      "# IPv4 local connections:\n",
      "host    all             all             127.0.0.1/32            md5\n",
      "# IPv6 local connections:\n",
      "host    all             all             ::1/128                 md5\n",
      "# Allow replication connections from localhost, by a user with the\n",
      "# replication privilege.\n",
      "#local   replication     postgres                                peer\n",
      "#host    replication     postgres        127.0.0.1/32            md5\n",
      "#host    replication     postgres        ::1/128                 md5\n",
      "\n",
      "\n",
      "## hostvars[host]['ansible_default_ipv4']['address'] is not set yet, so we have to use inventory_hostname :(\n",
      "\n",
      "{% for host in groups['webservers'] %}\n",
      "host all all {{ hostvars[host]['inventory_hostname'] }}/32 md5\n",
      "{% endfor %}\n"
     ]
    }
   ],
   "source": [
    "cat roles/database/templates/pg_hba.conf"
   ]
  },
  {
   "cell_type": "code",
   "execution_count": 28,
   "metadata": {
    "ExecuteTime": {
     "end_time": "2018-03-13T13:31:16.447427Z",
     "start_time": "2018-03-13T13:31:16.291918Z"
    }
   },
   "outputs": [
    {
     "name": "stdout",
     "output_type": "stream",
     "text": [
      "---\n",
      "# Webserver Configuration\n",
      "\n",
      "- name: SYSTEM | Install util packages\n",
      "  package: name={{ item }} state=present\n",
      "  with_items:\n",
      "    - python-apt\n",
      "\n",
      "- name: NGINX | Ensure that nginx PPA is added to Ubuntu\n",
      "  apt_repository: repo='ppa:nginx/stable' update_cache=yes\n",
      "\n",
      "- name: NGINX | Install nginx\n",
      "  package: name=nginx state=present\n",
      "\n",
      "- name: NGINX | Remove default vhost\n",
      "  file: path=/etc/nginx/sites-enabled/default state=absent\n",
      "\n",
      "- name: NGINX | Configure mattermost vhost\n",
      "  template: src=mattermost.conf dest=/etc/nginx/conf.d/mattermost.conf\n",
      "  notify:\n",
      "    - reload nginx\n",
      "\n",
      "- name: NGINX | nginx should be running, and enabled at boot\n",
      "  service: name=nginx state=started enabled=yes\n",
      "\n",
      "# Application Install\n",
      "- name: SYSTEM | Create mattermost system user\n",
      "  user: name=\"{{ mattermost_sysuser }}\" comment=\"Mattermost\"\n",
      "\n",
      "- stat: path={{ mattermost_directory }}\n",
      "  register: mattermost_install\n",
      "\n",
      "- block:\n",
      "    - name: INSTALL | Download Mattermost\n",
      "      ## unarchive is new in 2.0, and remote_src requires 2.2. For older versions, use 'get_url' and 'unarchive'\n",
      "      # unarchive: remote_src=yes src=\"{{ LATEST_MM_URL }}\" dest=\"/home/{{ mattermost_sysuser }}/\"\n",
      "      ## get_url bugs out on target machines using older versions of Ubuntu\n",
      "      # get_url: url=\"{{ LATEST_MM_URL }}\" dest=\"/home/{{ mattermost_sysuser }}/{{ LATEST_MM_DOWNLOADNAME }}\"\n",
      "      #\n",
      "      ## Forget it; we're using wget\n",
      "      raw: (cd /home/{{ mattermost_sysuser }}/ && wget {{ LATEST_MM_URL }})\n",
      "      \n",
      "    - name: INSTALL | Unarchive mattermost.tar.gz\n",
      "      unarchive: copy=no src=/home/{{ mattermost_sysuser }}/{{ LATEST_MM_DOWNLOADNAME }} dest=/home/{{ mattermost_sysuser }}/\n",
      "      \n",
      "    - name: INSTALL | Rename downloaded mattermost directory\n",
      "      command: mv /home/{{ mattermost_sysuser }}/mattermost {{ mattermost_directory }}\n",
      "\n",
      "    - name: INSTALL | Ensure Mattermost appdata directory exists\n",
      "      file: path={{ mattermost_directory }}/data state=directory mode=0755 owner=\"{{ mattermost_sysuser }}\"\n",
      "\n",
      "    - name: CLEANUP | Remove downloaded mattermost.tar.gz\n",
      "      file: path=/home/{{ mattermost_sysuser }}/{{ LATEST_MM_DOWNLOADNAME }} state=absent\n",
      "    \n",
      "  # Only execute the above task block if we don't already have a Mattermost install directory\n",
      "  when: mattermost_install.stat.exists == False\n",
      "\n",
      "- name: CONFIG | Set up main Mattermost config file\n",
      "  template: src=mattermost_config.json dest=\"{{ mattermost_directory }}/config/config.json\"\n",
      "  notify:\n",
      "    - restart mattermost\n",
      "\n",
      "- name: CONFIG | Set proper permissions on mattermost app directory\n",
      "  file:\n",
      "    path: \"{{ mattermost_directory }}\"\n",
      "    # mode: 0755\n",
      "    owner: \"{{ mattermost_sysuser }}\"\n",
      "    group: \"{{ mattermost_sysuser }}\"\n",
      "    recurse: yes\n",
      "\n",
      "# Create either a systemd or an upstart configuration file\n",
      "# for the mattermost service -- hopefully not both\n",
      "- name: INIT | Crude Check for systemd\n",
      "  stat: path=/usr/lib/systemd\n",
      "  register: systemd_installed\n",
      "\n",
      "- name: INIT | Crude Check for upstart\n",
      "  stat: path=/usr/share/upstart\n",
      "  register: upstart_installed\n",
      "\n",
      "- name: INIT | Create systemd unit file\n",
      "  template: src=mattermost.service dest=/etc/systemd/system/mattermost.service\n",
      "  notify:\n",
      "    - reload systemd\n",
      "  when: systemd_installed.stat.exists\n",
      "\n",
      "- name: INIT | Create upstart init file\n",
      "  template: src=mattermost.upstart dest=/etc/init/mattermost.conf\n",
      "  when: upstart_installed.stat.exists\n",
      "\n",
      "- name: MATTERMOST | Mattermost should be running, and enabled at boot\n",
      "  service: name=mattermost state=started enabled=yes\n",
      "  notify:\n",
      "    - reload nginx\n"
     ]
    }
   ],
   "source": [
    "cat roles/web/tasks/main.yml"
   ]
  },
  {
   "cell_type": "code",
   "execution_count": 29,
   "metadata": {
    "ExecuteTime": {
     "end_time": "2018-03-13T13:32:05.250887Z",
     "start_time": "2018-03-13T13:32:05.123562Z"
    }
   },
   "outputs": [
    {
     "name": "stdout",
     "output_type": "stream",
     "text": [
      "server {\n",
      "    server_name {{ mattermost_domain }};\n",
      "    location / {\n",
      "        client_max_body_size 50M;\n",
      "        proxy_set_header Upgrade $http_upgrade;\n",
      "        proxy_set_header Connection \"upgrade\";\n",
      "        proxy_set_header Host $http_host;\n",
      "        proxy_set_header X-Real-IP $remote_addr;\n",
      "        proxy_set_header X-Forwarded-For $proxy_add_x_forwarded_for;\n",
      "        proxy_set_header X-Forwarded-Proto $scheme;\n",
      "        proxy_set_header X-Frame-Options SAMEORIGIN;\n",
      "        proxy_pass http://127.0.0.1:8065;\n",
      "    }\n",
      "}"
     ]
    }
   ],
   "source": [
    "cat roles/web/templates/mattermost.conf"
   ]
  },
  {
   "cell_type": "code",
   "execution_count": 32,
   "metadata": {
    "ExecuteTime": {
     "end_time": "2018-03-13T13:34:05.844854Z",
     "start_time": "2018-03-13T13:34:05.728993Z"
    }
   },
   "outputs": [
    {
     "name": "stdout",
     "output_type": "stream",
     "text": [
      "mattermost_domain: mattermost.tutorialinux.com\n",
      "mattermost_sysuser: \"mattermost\"\n",
      "mattermost_directory: /home/{{ mattermost_sysuser }}/mattermost_app\n"
     ]
    }
   ],
   "source": [
    "grep '^mattermost_*' ./group_vars/all"
   ]
  },
  {
   "cell_type": "code",
   "execution_count": 33,
   "metadata": {
    "ExecuteTime": {
     "end_time": "2018-03-13T13:36:41.600545Z",
     "start_time": "2018-03-13T13:36:41.492965Z"
    }
   },
   "outputs": [
    {
     "name": "stdout",
     "output_type": "stream",
     "text": [
      "LATEST_MM_VERSION: \"3.5.0\"\n",
      "LATEST_MM_DOWNLOADNAME: \"mattermost-team-{{ LATEST_MM_VERSION }}-linux-amd64.tar.gz\"\n",
      "LATEST_MM_URL: https://releases.mattermost.com/{{ LATEST_MM_VERSION }}/{{ LATEST_MM_DOWNLOADNAME }}\n"
     ]
    }
   ],
   "source": [
    "grep '^LATEST_*' ./group_vars/all"
   ]
  },
  {
   "cell_type": "code",
   "execution_count": 34,
   "metadata": {
    "ExecuteTime": {
     "end_time": "2018-03-13T13:37:35.212094Z",
     "start_time": "2018-03-13T13:37:35.034359Z"
    },
    "scrolled": false
   },
   "outputs": [
    {
     "name": "stdout",
     "output_type": "stream",
     "text": [
      "{\n",
      "    \"ServiceSettings\": {\n",
      "        \"SiteURL\": \"\",\n",
      "        \"ListenAddress\": \":8065\",\n",
      "        \"MaximumLoginAttempts\": 10,\n",
      "        \"SegmentDeveloperKey\": \"\",\n",
      "        \"GoogleDeveloperKey\": \"\",\n",
      "        \"EnableOAuthServiceProvider\": false,\n",
      "        \"EnableIncomingWebhooks\": true,\n",
      "        \"EnableOutgoingWebhooks\": true,\n",
      "        \"EnableCommands\": true,\n",
      "        \"EnableOnlyAdminIntegrations\": true,\n",
      "        \"EnablePostUsernameOverride\": false,\n",
      "        \"EnablePostIconOverride\": false,\n",
      "        \"EnableTesting\": false,\n",
      "        \"EnableDeveloper\": false,\n",
      "        \"EnableSecurityFixAlert\": true,\n",
      "        \"EnableInsecureOutgoingConnections\": false,\n",
      "        \"EnableMultifactorAuthentication\": false,\n",
      "        \"AllowCorsFrom\": \"\",\n",
      "        \"SessionLengthWebInDays\": 30,\n",
      "        \"SessionLengthMobileInDays\": 30,\n",
      "        \"SessionLengthSSOInDays\": 30,\n",
      "        \"SessionCacheInMinutes\": 10,\n",
      "        \"WebsocketSecurePort\": 443,\n",
      "        \"WebsocketPort\": 80,\n",
      "        \"WebserverMode\": \"gzip\",\n",
      "        \"EnableCustomEmoji\": false,\n",
      "        \"RestrictCustomEmojiCreation\": \"all\"\n",
      "    },\n",
      "    \"TeamSettings\": {\n",
      "        \"SiteName\": \"Mattermost\",\n",
      "        \"MaxUsersPerTeam\": 50,\n",
      "        \"EnableTeamCreation\": true,\n",
      "        \"EnableUserCreation\": true,\n",
      "        \"EnableOpenServer\": false,\n",
      "        \"RestrictCreationToDomains\": \"\",\n",
      "        \"RestrictTeamNames\": true,\n",
      "        \"EnableCustomBrand\": false,\n",
      "        \"CustomBrandText\": \"\",\n",
      "        \"CustomDescriptionText\": \"\",\n",
      "        \"RestrictDirectMessage\": \"any\",\n",
      "        \"RestrictTeamInvite\": \"all\",\n",
      "        \"RestrictPublicChannelManagement\": \"all\",\n",
      "        \"RestrictPrivateChannelManagement\": \"all\",\n",
      "        \"UserStatusAwayTimeout\": 300\n",
      "    },\n",
      "    \"SqlSettings\": {\n",
      "        \"DriverName\": \"postgres\",\n",
      "        \"DataSource\": \"postgres://{{ db_user }}:{{ db_password }}@{{ db_server }}:5432/mattermost?sslmode={{ mm_ssl_mode }}&connect_timeout=10\",\n",
      "        \"DataSourceReplicas\": [],\n",
      "        \"MaxIdleConns\": 10,\n",
      "        \"MaxOpenConns\": 10,\n",
      "        \"Trace\": false,\n",
      "        \"AtRestEncryptKey\": \"\"\n",
      "    },\n",
      "    \"LogSettings\": {\n",
      "        \"EnableConsole\": true,\n",
      "        \"ConsoleLevel\": \"DEBUG\",\n",
      "        \"EnableFile\": true,\n",
      "        \"FileLevel\": \"INFO\",\n",
      "        \"FileFormat\": \"\",\n",
      "        \"FileLocation\": \"\",\n",
      "        \"EnableWebhookDebugging\": true,\n",
      "        \"EnableDiagnostics\": true\n",
      "    },\n",
      "    \"PasswordSettings\": {\n",
      "        \"MinimumLength\": 5,\n",
      "        \"Lowercase\": false,\n",
      "        \"Number\": false,\n",
      "        \"Uppercase\": false,\n",
      "        \"Symbol\": false\n",
      "    },\n",
      "    \"FileSettings\": {\n",
      "        \"MaxFileSize\": 52428800,\n",
      "        \"DriverName\": \"local\",\n",
      "        \"Directory\": \"./data/\",\n",
      "        \"EnablePublicLink\": false,\n",
      "        \"PublicLinkSalt\": \"\",\n",
      "        \"ThumbnailWidth\": 120,\n",
      "        \"ThumbnailHeight\": 100,\n",
      "        \"PreviewWidth\": 1024,\n",
      "        \"PreviewHeight\": 0,\n",
      "        \"ProfileWidth\": 128,\n",
      "        \"ProfileHeight\": 128,\n",
      "        \"InitialFont\": \"luximbi.ttf\",\n",
      "        \"AmazonS3AccessKeyId\": \"\",\n",
      "        \"AmazonS3SecretAccessKey\": \"\",\n",
      "        \"AmazonS3Bucket\": \"\",\n",
      "        \"AmazonS3Region\": \"\",\n",
      "        \"AmazonS3Endpoint\": \"\",\n",
      "        \"AmazonS3BucketEndpoint\": \"\",\n",
      "        \"AmazonS3LocationConstraint\": false,\n",
      "        \"AmazonS3LowercaseBucket\": false\n",
      "    },\n",
      "    \"EmailSettings\": {\n",
      "        \"EnableSignUpWithEmail\": true,\n",
      "        \"EnableSignInWithEmail\": true,\n",
      "        \"EnableSignInWithUsername\": true,\n",
      "        \"SendEmailNotifications\": false,\n",
      "        \"RequireEmailVerification\": false,\n",
      "        \"FeedbackName\": \"\",\n",
      "        \"FeedbackEmail\": \"\",\n",
      "        \"FeedbackOrganization\": \"\",\n",
      "        \"SMTPUsername\": \"\",\n",
      "        \"SMTPPassword\": \"\",\n",
      "        \"SMTPServer\": \"\",\n",
      "        \"SMTPPort\": \"\",\n",
      "        \"ConnectionSecurity\": \"\",\n",
      "        \"InviteSalt\": \"\",\n",
      "        \"PasswordResetSalt\": \"\",\n",
      "        \"SendPushNotifications\": false,\n",
      "        \"PushNotificationServer\": \"\",\n",
      "        \"PushNotificationContents\": \"generic\",\n",
      "        \"EnableEmailBatching\": false,\n",
      "        \"EmailBatchingBufferSize\": 256,\n",
      "        \"EmailBatchingInterval\": 30\n",
      "    },\n",
      "    \"RateLimitSettings\": {\n",
      "        \"EnableRateLimiter\": true,\n",
      "        \"PerSec\": 10,\n",
      "        \"MemoryStoreSize\": 10000,\n",
      "        \"VaryByRemoteAddr\": true,\n",
      "        \"VaryByHeader\": \"\"\n",
      "    },\n",
      "    \"PrivacySettings\": {\n",
      "        \"ShowEmailAddress\": true,\n",
      "        \"ShowFullName\": true\n",
      "    },\n",
      "    \"SupportSettings\": {\n",
      "        \"TermsOfServiceLink\": \"https://about.mattermost.com/default-terms/\",\n",
      "        \"PrivacyPolicyLink\": \"https://about.mattermost.com/default-privacy-policy/\",\n",
      "        \"AboutLink\": \"https://about.mattermost.com/default-about/\",\n",
      "        \"HelpLink\": \"https://about.mattermost.com/default-help/\",\n",
      "        \"ReportAProblemLink\": \"https://about.mattermost.com/default-report-a-problem/\",\n",
      "        \"SupportEmail\": \"feedback@mattermost.com\"\n",
      "    },\n",
      "    \"GitLabSettings\": {\n",
      "        \"Enable\": false,\n",
      "        \"Secret\": \"\",\n",
      "        \"Id\": \"\",\n",
      "        \"Scope\": \"\",\n",
      "        \"AuthEndpoint\": \"\",\n",
      "        \"TokenEndpoint\": \"\",\n",
      "        \"UserApiEndpoint\": \"\"\n",
      "    },\n",
      "    \"GoogleSettings\": {\n",
      "        \"Enable\": false,\n",
      "        \"Secret\": \"\",\n",
      "        \"Id\": \"\",\n",
      "        \"Scope\": \"profile email\",\n",
      "        \"AuthEndpoint\": \"https://accounts.google.com/o/oauth2/v2/auth\",\n",
      "        \"TokenEndpoint\": \"https://www.googleapis.com/oauth2/v4/token\",\n",
      "        \"UserApiEndpoint\": \"https://www.googleapis.com/plus/v1/people/me\"\n",
      "    },\n",
      "    \"Office365Settings\": {\n",
      "        \"Enable\": false,\n",
      "        \"Secret\": \"\",\n",
      "        \"Id\": \"\",\n",
      "        \"Scope\": \"User.Read\",\n",
      "        \"AuthEndpoint\": \"https://login.microsoftonline.com/common/oauth2/v2.0/authorize\",\n",
      "        \"TokenEndpoint\": \"https://login.microsoftonline.com/common/oauth2/v2.0/token\",\n",
      "        \"UserApiEndpoint\": \"https://graph.microsoft.com/v1.0/me\"\n",
      "    },\n",
      "    \"LdapSettings\": {\n",
      "        \"Enable\": false,\n",
      "        \"LdapServer\": \"\",\n",
      "        \"LdapPort\": 389,\n",
      "        \"ConnectionSecurity\": \"\",\n",
      "        \"BaseDN\": \"\",\n",
      "        \"BindUsername\": \"\",\n",
      "        \"BindPassword\": \"\",\n",
      "        \"UserFilter\": \"\",\n",
      "        \"FirstNameAttribute\": \"\",\n",
      "        \"LastNameAttribute\": \"\",\n",
      "        \"EmailAttribute\": \"\",\n",
      "        \"UsernameAttribute\": \"\",\n",
      "        \"NicknameAttribute\": \"\",\n",
      "        \"IdAttribute\": \"\",\n",
      "        \"SyncIntervalMinutes\": 60,\n",
      "        \"SkipCertificateVerification\": false,\n",
      "        \"QueryTimeout\": 60,\n",
      "        \"MaxPageSize\": 0,\n",
      "        \"LoginFieldName\": \"\"\n",
      "    },\n",
      "    \"ComplianceSettings\": {\n",
      "        \"Enable\": false,\n",
      "        \"Directory\": \"./data/\",\n",
      "        \"EnableDaily\": false\n",
      "    },\n",
      "    \"LocalizationSettings\": {\n",
      "        \"DefaultServerLocale\": \"en\",\n",
      "        \"DefaultClientLocale\": \"en\",\n",
      "        \"AvailableLocales\": \"\"\n",
      "    },\n",
      "    \"SamlSettings\": {\n",
      "        \"Enable\": false,\n",
      "        \"Verify\": false,\n",
      "        \"Encrypt\": false,\n",
      "        \"IdpUrl\": \"\",\n",
      "        \"IdpDescriptorUrl\": \"\",\n",
      "        \"AssertionConsumerServiceURL\": \"\",\n",
      "        \"IdpCertificateFile\": \"\",\n",
      "        \"PublicCertificateFile\": \"\",\n",
      "        \"PrivateKeyFile\": \"\",\n",
      "        \"FirstNameAttribute\": \"\",\n",
      "        \"LastNameAttribute\": \"\",\n",
      "        \"EmailAttribute\": \"\",\n",
      "        \"UsernameAttribute\": \"\",\n",
      "        \"NicknameAttribute\": \"\",\n",
      "        \"LocaleAttribute\": \"\",\n",
      "        \"LoginButtonText\": \"With SAML\"\n",
      "    },\n",
      "    \"NativeAppSettings\": {\n",
      "        \"AppDownloadLink\": \"https://about.mattermost.com/downloads/\",\n",
      "        \"AndroidAppDownloadLink\": \"https://about.mattermost.com/mattermost-android-app/\",\n",
      "        \"IosAppDownloadLink\": \"https://about.mattermost.com/mattermost-ios-app/\"\n",
      "    },\n",
      "    \"ClusterSettings\": {\n",
      "        \"Enable\": false,\n",
      "        \"InterNodeListenAddress\": \":8075\",\n",
      "        \"InterNodeUrls\": []\n",
      "    }\n",
      "}"
     ]
    }
   ],
   "source": [
    "cat roles/web/templates/mattermost_config.json"
   ]
  },
  {
   "cell_type": "code",
   "execution_count": 35,
   "metadata": {
    "ExecuteTime": {
     "end_time": "2018-03-13T13:38:04.671946Z",
     "start_time": "2018-03-13T13:38:04.524731Z"
    }
   },
   "outputs": [
    {
     "name": "stdout",
     "output_type": "stream",
     "text": [
      "---\n",
      "- name: reload nginx\n",
      "  service: name=nginx state=reloaded\n",
      "\n",
      "- name: reload systemd\n",
      "  command: systemctl daemon-reload\n",
      "\n",
      "- name: restart mattermost\n",
      "  service: name=mattermost state=restarted\n"
     ]
    }
   ],
   "source": [
    "cat roles/web/handlers/main.yml"
   ]
  },
  {
   "cell_type": "code",
   "execution_count": 36,
   "metadata": {
    "ExecuteTime": {
     "end_time": "2018-03-13T13:39:43.848936Z",
     "start_time": "2018-03-13T13:39:43.733489Z"
    }
   },
   "outputs": [
    {
     "name": "stdout",
     "output_type": "stream",
     "text": [
      "[Unit]\n",
      "Description=Mattermost\n",
      "After=syslog.target network.target\n",
      "\n",
      "[Service]\n",
      "Type=simple\n",
      "WorkingDirectory={{ mattermost_directory }}/bin\n",
      "User={{ mattermost_sysuser }}\n",
      "ExecStart={{ mattermost_directory }}/bin/platform\n",
      "PIDFile=/var/spool/mattermost/pid/master.pid\n",
      "# Requires=\n",
      "\n",
      "[Install]\n",
      "WantedBy=multi-user.target\n"
     ]
    }
   ],
   "source": [
    "cat roles/web/templates/mattermost.service"
   ]
  },
  {
   "cell_type": "code",
   "execution_count": 37,
   "metadata": {
    "ExecuteTime": {
     "end_time": "2018-03-13T13:40:08.590421Z",
     "start_time": "2018-03-13T13:40:08.468426Z"
    }
   },
   "outputs": [
    {
     "name": "stdout",
     "output_type": "stream",
     "text": [
      "start on runlevel [2345]\n",
      "stop on runlevel [016]\n",
      "respawn\n",
      "limit nofile 50000 50000\n",
      "chdir {{ mattermost_directory }}\n",
      "setuid {{ mattermost_sysuser }}\n",
      "exec bin/platform\n"
     ]
    }
   ],
   "source": [
    "cat roles/web/templates/mattermost.upstart"
   ]
  }
 ],
 "metadata": {
  "kernelspec": {
   "display_name": "Bash",
   "language": "bash",
   "name": "bash"
  },
  "language_info": {
   "codemirror_mode": "shell",
   "file_extension": ".sh",
   "mimetype": "text/x-sh",
   "name": "bash"
  },
  "toc": {
   "nav_menu": {},
   "number_sections": true,
   "sideBar": true,
   "skip_h1_title": false,
   "title_cell": "Table of Contents",
   "title_sidebar": "Contents",
   "toc_cell": false,
   "toc_position": {},
   "toc_section_display": true,
   "toc_window_display": false
  },
  "varInspector": {
   "cols": {
    "lenName": 16,
    "lenType": 16,
    "lenVar": 40
   },
   "kernels_config": {
    "python": {
     "delete_cmd_postfix": "",
     "delete_cmd_prefix": "del ",
     "library": "var_list.py",
     "varRefreshCmd": "print(var_dic_list())"
    },
    "r": {
     "delete_cmd_postfix": ") ",
     "delete_cmd_prefix": "rm(",
     "library": "var_list.r",
     "varRefreshCmd": "cat(var_dic_list()) "
    }
   },
   "types_to_exclude": [
    "module",
    "function",
    "builtin_function_or_method",
    "instance",
    "_Feature"
   ],
   "window_display": false
  }
 },
 "nbformat": 4,
 "nbformat_minor": 2
}
