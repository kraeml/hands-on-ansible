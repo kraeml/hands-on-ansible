{
 "cells": [
  {
   "cell_type": "markdown",
   "metadata": {},
   "source": [
    "# Ansible Einführung\n",
    "\n",
    "Warum eigentlich Ansible und nicht bash-Skripte?\n",
    "\n",
    "In welchem Verzeichnis befinden wir uns?"
   ]
  },
  {
   "cell_type": "code",
   "execution_count": 1,
   "metadata": {},
   "outputs": [
    {
     "name": "stdout",
     "output_type": "stream",
     "text": [
      "/home/vagrant/ais/hands-on-ansible/01-first-steps\n"
     ]
    }
   ],
   "source": [
    "pwd"
   ]
  },
  {
   "cell_type": "markdown",
   "metadata": {},
   "source": [
    "##  Vorbereitung der Container\n",
    "\n",
    "Zunächst alle weg werfen und neu aufsetzen."
   ]
  },
  {
   "cell_type": "code",
   "execution_count": 2,
   "metadata": {},
   "outputs": [
    {
     "name": "stdout",
     "output_type": "stream",
     "text": [
      "Destroyed container ais-bashy\n",
      "Destroyed container db\n",
      "Destroyed container web1\n",
      "Destroyed container web2\n",
      "Destroyed container playbooks\n",
      " ____________\n",
      "< PLAY [all] >\n",
      " ------------\n",
      "        \\   ^__^\n",
      "         \\  (oo)\\_______\n",
      "            (__)\\       )\\/\\\n",
      "                ||----w |\n",
      "                ||     ||\n",
      "\n",
      " ________________________________\n",
      "< TASK [Init AIS lxc containers] >\n",
      " --------------------------------\n",
      "        \\   ^__^\n",
      "         \\  (oo)\\_______\n",
      "            (__)\\       )\\/\\\n",
      "                ||----w |\n",
      "                ||     ||\n",
      "\n",
      "changed: [localhost]\n",
      " ____________\n",
      "< PLAY RECAP >\n",
      " ------------\n",
      "        \\   ^__^\n",
      "         \\  (oo)\\_______\n",
      "            (__)\\       )\\/\\\n",
      "                ||----w |\n",
      "                ||     ||\n",
      "\n",
      "localhost                  : ok=1    changed=1    unreachable=0    failed=0   \n",
      "\n",
      "10.0.3.207\n",
      " 13:17:30 up 1 day,  6:26,  0 users,  load average: 1,49, 0,65, 0,48\n"
     ]
    }
   ],
   "source": [
    "for i in ais-bashy db web1 web2 playbooks; do\n",
    "    sudo lxc-destroy --name ${i} --force\n",
    "done\n",
    "ansible-playbook -i localhost, ../00-home-base/setup-lxc.yml\n",
    "export AIS_BASHY_IP=$(sudo lxc-ls ais-bashy --fancy | awk '{ print $5 }' | grep '.\\.')\n",
    "echo $AIS_BASHY_IP\n",
    "ssh root@${AIS_BASHY_IP} uptime"
   ]
  },
  {
   "cell_type": "markdown",
   "metadata": {},
   "source": [
    "## Inhalt des Verzeichnisses\n",
    "\n",
    "Falls `tree` nicht installiert sein sollte, dann installieren und nochmal ausführen."
   ]
  },
  {
   "cell_type": "code",
   "execution_count": 3,
   "metadata": {},
   "outputs": [
    {
     "name": "stdout",
     "output_type": "stream",
     "text": [
      ".\n",
      "├── 01_Ansible_vs_Bashscript.ipynb\n",
      "├── Bash-Problems\n",
      "├── config\n",
      "│   ├── index.html\n",
      "│   ├── mywebsite.conf\n",
      "│   └── nginx.conf\n",
      "├── install-nginx.retry\n",
      "├── install-nginx.sh\n",
      "└── install-nginx.yml\n",
      "\n",
      "1 directory, 8 files\n"
     ]
    }
   ],
   "source": [
    "tree . || (sudo apt-get update && sudo apt-get install --yes tree && tree .)"
   ]
  },
  {
   "cell_type": "markdown",
   "metadata": {},
   "source": [
    "## Das Shell Skript"
   ]
  },
  {
   "cell_type": "code",
   "execution_count": 4,
   "metadata": {},
   "outputs": [
    {
     "name": "stdout",
     "output_type": "stream",
     "text": [
      "#!/bin/bash\n",
      "set -euo pipefail\n",
      "pwd\n",
      "cd \"${BASH_SOURCE%/*}\" || exit \n",
      "pwd\n",
      "\n",
      "# Install nginx.\n",
      "apt-get update\n",
      "apt-get install -y nginx sshguard nano curl # vim\n",
      "\n",
      "# Ensure website directory exists\n",
      "mkdir -p /var/www/mywebsite\n",
      "\n",
      "# Copy nginx config files (main config and vhost config)\n",
      "cp /tmp/config/nginx.conf /etc/nginx/nginx.conf\n",
      "chown root:root /etc/nginx/nginx.conf\n",
      "chmod 0644 /etc/nginx/nginx.conf\n",
      "\n",
      "cp /tmp/config/mywebsite.conf /etc/nginx/conf.d/mywebsite.conf\n",
      "chown root:root /etc/nginx/conf.d/mywebsite.conf\n",
      "chmod 0644 /etc/nginx/conf.d/mywebsite.conf\n",
      "\n",
      "# Copy our website files\n",
      "cp /tmp/config/index.html /var/www/mywebsite/\n",
      "chown root:root /var/www/mywebsite/index.html\n",
      "chmod 0644 /var/www/mywebsite/index.html\n",
      "\n",
      "# Remove default nginx vhost configuration\n",
      "rm /etc/nginx/sites-enabled/default\n",
      "\n",
      "# Start nginx at boot + make sure it's running right now.\n",
      "systemctl restart nginx.service\n",
      "systemctl enable nginx.service\n",
      "\n",
      "# On a machine with systemd, you'd use these instead\n",
      "# systemctl enable nginx\n",
      "# systemctl restart nginx\n",
      "\n"
     ]
    }
   ],
   "source": [
    "cat install-nginx.sh"
   ]
  },
  {
   "cell_type": "markdown",
   "metadata": {},
   "source": [
    "Wegen `set -euo pipefail` siehe\n",
    "\n",
    "https://vaneyckt.io/posts/safer_bash_scripts_with_set_euxo_pipefail/\n",
    "\n",
    "Wegen `cd \"${BASH_SOURCE%/*}\" || exit` siehe\n",
    "\n",
    "http://mywiki.wooledge.org/BashFAQ/028"
   ]
  },
  {
   "cell_type": "code",
   "execution_count": 5,
   "metadata": {},
   "outputs": [
    {
     "name": "stdout",
     "output_type": "stream",
     "text": [
      "bash: install-nginx.sh: Befehl nicht gefunden\n"
     ]
    },
    {
     "ename": "",
     "evalue": "127",
     "output_type": "error",
     "traceback": []
    }
   ],
   "source": [
    "ssh root@${AIS_BASHY_IP} install-nginx.sh"
   ]
  },
  {
   "cell_type": "code",
   "execution_count": 6,
   "metadata": {},
   "outputs": [
    {
     "name": "stdout",
     "output_type": "stream",
     "text": [
      "install-nginx.sh                              100% 1017     1.0KB/s   00:00    \n",
      "mywebsite.conf                                100%  455     0.4KB/s   00:00    \n",
      "index.html                                    100%  976     1.0KB/s   00:00    \n",
      "nginx.conf                                    100%  745     0.7KB/s   00:00    \n"
     ]
    }
   ],
   "source": [
    "scp -r install-nginx.sh config/ root@${AIS_BASHY_IP}:/tmp/"
   ]
  },
  {
   "cell_type": "code",
   "execution_count": 7,
   "metadata": {},
   "outputs": [
    {
     "name": "stdout",
     "output_type": "stream",
     "text": [
      "config\n",
      "install-nginx.sh\n"
     ]
    }
   ],
   "source": [
    "ssh root@${AIS_BASHY_IP} ls /tmp/"
   ]
  },
  {
   "cell_type": "code",
   "execution_count": 8,
   "metadata": {
    "scrolled": false
   },
   "outputs": [
    {
     "name": "stdout",
     "output_type": "stream",
     "text": [
      "/root\n",
      "/tmp\n",
      "OK:1 http://security.ubuntu.com/ubuntu xenial-security InRelease\n",
      "OK:2 http://archive.ubuntu.com/ubuntu xenial InRelease\n",
      "OK:3 http://archive.ubuntu.com/ubuntu xenial-updates InRelease\n",
      "Paketlisten werden gelesen...\n",
      "Paketlisten werden gelesen...\n",
      "Abhängigkeitsbaum wird aufgebaut....\n",
      "Statusinformationen werden eingelesen....\n",
      "Die folgenden zusätzlichen Pakete werden Installiert\n",
      "  fontconfig-config fonts-dejavu-core geoip-database iptables libfontconfig1\n",
      "  libfreetype6 libgd3 libgeoip1 libicu55 libjbig0 libjpeg-turbo8 libjpeg8\n",
      "  libnfnetlink0 libtiff5 libvpx3 libx11-6 libx11-data libxau6 libxcb1\n",
      "  libxdmcp6 libxml2 libxpm4 libxslt1.1 nginx-common nginx-core sgml-base\n",
      "  xml-core\n",
      "Vorgeschlagene Pakete:\n",
      "  libgd-tools geoip-bin spell fcgiwrap nginx-doc ssl-cert sgml-base-doc\n",
      "  debhelper\n",
      "Die folgenden NEUEN Pakete werden installiert:\n",
      "  curl fontconfig-config fonts-dejavu-core geoip-database iptables\n",
      "  libfontconfig1 libfreetype6 libgd3 libgeoip1 libicu55 libjbig0\n",
      "  libjpeg-turbo8 libjpeg8 libnfnetlink0 libtiff5 libvpx3 libx11-6 libx11-data\n",
      "  libxau6 libxcb1 libxdmcp6 libxml2 libxpm4 libxslt1.1 nano nginx nginx-common\n",
      "  nginx-core sgml-base sshguard xml-core\n",
      "0 aktualisiert, 31 neu installiert, 0 zu entfernen und 0 nicht aktualisiert.\n",
      "Es müssen 15,0 MB an Archiven heruntergeladen werden.\n",
      "Nach dieser Operation werden 56,4 MB Plattenplatz zusätzlich benutzt.\n",
      "Holen:1 http://archive.ubuntu.com/ubuntu xenial/main amd64 libnfnetlink0 amd64 1.0.1-3 [13,3 kB]\n",
      "Holen:2 http://archive.ubuntu.com/ubuntu xenial/main amd64 libxau6 amd64 1:1.0.8-1 [8.376 B]\n",
      "Holen:3 http://archive.ubuntu.com/ubuntu xenial/main amd64 sgml-base all 1.26+nmu4ubuntu1 [12,5 kB]\n",
      "Holen:4 http://archive.ubuntu.com/ubuntu xenial/main amd64 libjpeg-turbo8 amd64 1.4.2-0ubuntu3 [111 kB]\n",
      "Holen:5 http://archive.ubuntu.com/ubuntu xenial/main amd64 libjbig0 amd64 2.1-3.1 [26,6 kB]\n",
      "Holen:6 http://archive.ubuntu.com/ubuntu xenial/main amd64 geoip-database all 20160408-1 [1.678 kB]\n",
      "Holen:7 http://archive.ubuntu.com/ubuntu xenial/main amd64 iptables amd64 1.6.0-2ubuntu3 [266 kB]\n",
      "Holen:8 http://archive.ubuntu.com/ubuntu xenial/main amd64 libgeoip1 amd64 1.6.9-1 [70,1 kB]\n",
      "Holen:9 http://archive.ubuntu.com/ubuntu xenial-updates/main amd64 libicu55 amd64 55.1-7ubuntu0.2 [7.659 kB]\n",
      "Holen:10 http://archive.ubuntu.com/ubuntu xenial/main amd64 libxdmcp6 amd64 1:1.1.2-1.1 [11,0 kB]\n",
      "Holen:11 http://archive.ubuntu.com/ubuntu xenial/main amd64 libxcb1 amd64 1.11.1-1ubuntu1 [40,0 kB]\n",
      "Holen:12 http://archive.ubuntu.com/ubuntu xenial/main amd64 libx11-data all 2:1.6.3-1ubuntu2 [113 kB]\n",
      "Holen:13 http://archive.ubuntu.com/ubuntu xenial/main amd64 libx11-6 amd64 2:1.6.3-1ubuntu2 [571 kB]\n",
      "Holen:14 http://archive.ubuntu.com/ubuntu xenial-updates/main amd64 libxml2 amd64 2.9.3+dfsg1-1ubuntu0.3 [697 kB]\n",
      "Holen:15 http://archive.ubuntu.com/ubuntu xenial-updates/main amd64 nano amd64 2.5.3-2ubuntu2 [191 kB]\n",
      "Holen:16 http://archive.ubuntu.com/ubuntu xenial/main amd64 xml-core all 0.13+nmu2 [23,3 kB]\n",
      "Holen:17 http://archive.ubuntu.com/ubuntu xenial-updates/main amd64 curl amd64 7.47.0-1ubuntu2.2 [139 kB]\n",
      "Holen:18 http://archive.ubuntu.com/ubuntu xenial/main amd64 fonts-dejavu-core all 2.35-1 [1.039 kB]\n",
      "Holen:19 http://archive.ubuntu.com/ubuntu xenial-updates/main amd64 fontconfig-config all 2.11.94-0ubuntu1.1 [49,9 kB]\n",
      "Holen:20 http://archive.ubuntu.com/ubuntu xenial-updates/main amd64 libfreetype6 amd64 2.6.1-0.1ubuntu2.3 [316 kB]\n",
      "Holen:21 http://archive.ubuntu.com/ubuntu xenial-updates/main amd64 libfontconfig1 amd64 2.11.94-0ubuntu1.1 [131 kB]\n",
      "Holen:22 http://archive.ubuntu.com/ubuntu xenial/main amd64 libjpeg8 amd64 8c-2ubuntu8 [2.194 B]\n",
      "Holen:23 http://archive.ubuntu.com/ubuntu xenial-updates/main amd64 libtiff5 amd64 4.0.6-1ubuntu0.2 [146 kB]\n",
      "Holen:24 http://archive.ubuntu.com/ubuntu xenial/main amd64 libvpx3 amd64 1.5.0-2ubuntu1 [732 kB]\n",
      "Holen:25 http://archive.ubuntu.com/ubuntu xenial-updates/main amd64 libxpm4 amd64 1:3.5.11-1ubuntu0.16.04.1 [33,8 kB]\n",
      "Holen:26 http://archive.ubuntu.com/ubuntu xenial-updates/main amd64 libgd3 amd64 2.1.1-4ubuntu0.16.04.8 [126 kB]\n",
      "Holen:27 http://archive.ubuntu.com/ubuntu xenial-updates/main amd64 libxslt1.1 amd64 1.1.28-2.1ubuntu0.1 [145 kB]\n",
      "Holen:28 http://archive.ubuntu.com/ubuntu xenial-updates/main amd64 nginx-common all 1.10.3-0ubuntu0.16.04.2 [26,6 kB]\n",
      "Holen:29 http://archive.ubuntu.com/ubuntu xenial-updates/main amd64 nginx-core amd64 1.10.3-0ubuntu0.16.04.2 [428 kB]\n",
      "Holen:30 http://archive.ubuntu.com/ubuntu xenial-updates/main amd64 nginx all 1.10.3-0ubuntu0.16.04.2 [3.490 B]\n",
      "Holen:31 http://archive.ubuntu.com/ubuntu xenial/universe amd64 sshguard amd64 1.6.0-1 [180 kB]\n",
      "debconf: kann Oberfläche nicht initialisieren: Dialog\n",
      "debconf: (TERM ist nicht gesetzt, die Dialog-Oberfläche kann daher nicht verwendet werden.)\n",
      "debconf: greife zurück auf die Oberfläche: Readline\n",
      "debconf: kann Oberfläche nicht initialisieren: Readline\n",
      "debconf: (Can't locate Term/ReadLine.pm in @INC (you may need to install the Term::ReadLine module) (@INC contains: /etc/perl /usr/local/lib/x86_64-linux-gnu/perl/5.22.1 /usr/local/share/perl/5.22.1 /usr/lib/x86_64-linux-gnu/perl5/5.22 /usr/share/perl5 /usr/lib/x86_64-linux-gnu/perl/5.22 /usr/share/perl/5.22 /usr/local/lib/site_perl /usr/lib/x86_64-linux-gnu/perl-base .) at /usr/share/perl5/Debconf/FrontEnd/Readline.pm line 7, <> line 31.)\n",
      "debconf: greife zurück auf die Oberfläche: Teletype\n",
      "dpkg-preconfigure: kann Stdin nicht wieder öffnen: \n",
      "Es wurden 15,0 MB in 8 s geholt (1.850 kB/s).\n",
      "Vormals nicht ausgewähltes Paket libnfnetlink0:amd64 wird gewählt.\n",
      "(Lese Datenbank ... 14122 Dateien und Verzeichnisse sind derzeit installiert.)\n",
      "Vorbereitung zum Entpacken von .../libnfnetlink0_1.0.1-3_amd64.deb ...\n",
      "Entpacken von libnfnetlink0:amd64 (1.0.1-3) ...\n",
      "Vormals nicht ausgewähltes Paket libxau6:amd64 wird gewählt.\n",
      "Vorbereitung zum Entpacken von .../libxau6_1%3a1.0.8-1_amd64.deb ...\n",
      "Entpacken von libxau6:amd64 (1:1.0.8-1) ...\n",
      "Vormals nicht ausgewähltes Paket sgml-base wird gewählt.\n",
      "Vorbereitung zum Entpacken von .../sgml-base_1.26+nmu4ubuntu1_all.deb ...\n",
      "Entpacken von sgml-base (1.26+nmu4ubuntu1) ...\n",
      "Vormals nicht ausgewähltes Paket libjpeg-turbo8:amd64 wird gewählt.\n",
      "Vorbereitung zum Entpacken von .../libjpeg-turbo8_1.4.2-0ubuntu3_amd64.deb ...\n",
      "Entpacken von libjpeg-turbo8:amd64 (1.4.2-0ubuntu3) ...\n",
      "Vormals nicht ausgewähltes Paket libjbig0:amd64 wird gewählt.\n",
      "Vorbereitung zum Entpacken von .../libjbig0_2.1-3.1_amd64.deb ...\n",
      "Entpacken von libjbig0:amd64 (2.1-3.1) ...\n",
      "Vormals nicht ausgewähltes Paket geoip-database wird gewählt.\n",
      "Vorbereitung zum Entpacken von .../geoip-database_20160408-1_all.deb ...\n",
      "Entpacken von geoip-database (20160408-1) ...\n",
      "Vormals nicht ausgewähltes Paket iptables wird gewählt.\n",
      "Vorbereitung zum Entpacken von .../iptables_1.6.0-2ubuntu3_amd64.deb ...\n",
      "Entpacken von iptables (1.6.0-2ubuntu3) ...\n",
      "Vormals nicht ausgewähltes Paket libgeoip1:amd64 wird gewählt.\n",
      "Vorbereitung zum Entpacken von .../libgeoip1_1.6.9-1_amd64.deb ...\n",
      "Entpacken von libgeoip1:amd64 (1.6.9-1) ...\n",
      "Vormals nicht ausgewähltes Paket libicu55:amd64 wird gewählt.\n",
      "Vorbereitung zum Entpacken von .../libicu55_55.1-7ubuntu0.2_amd64.deb ...\n",
      "Entpacken von libicu55:amd64 (55.1-7ubuntu0.2) ...\n",
      "Vormals nicht ausgewähltes Paket libxdmcp6:amd64 wird gewählt.\n",
      "Vorbereitung zum Entpacken von .../libxdmcp6_1%3a1.1.2-1.1_amd64.deb ...\n",
      "Entpacken von libxdmcp6:amd64 (1:1.1.2-1.1) ...\n",
      "Vormals nicht ausgewähltes Paket libxcb1:amd64 wird gewählt.\n",
      "Vorbereitung zum Entpacken von .../libxcb1_1.11.1-1ubuntu1_amd64.deb ...\n",
      "Entpacken von libxcb1:amd64 (1.11.1-1ubuntu1) ...\n",
      "Vormals nicht ausgewähltes Paket libx11-data wird gewählt.\n",
      "Vorbereitung zum Entpacken von .../libx11-data_2%3a1.6.3-1ubuntu2_all.deb ...\n",
      "Entpacken von libx11-data (2:1.6.3-1ubuntu2) ...\n",
      "Vormals nicht ausgewähltes Paket libx11-6:amd64 wird gewählt.\n",
      "Vorbereitung zum Entpacken von .../libx11-6_2%3a1.6.3-1ubuntu2_amd64.deb ...\n",
      "Entpacken von libx11-6:amd64 (2:1.6.3-1ubuntu2) ...\n",
      "Vormals nicht ausgewähltes Paket libxml2:amd64 wird gewählt.\n",
      "Vorbereitung zum Entpacken von .../libxml2_2.9.3+dfsg1-1ubuntu0.3_amd64.deb ...\n",
      "Entpacken von libxml2:amd64 (2.9.3+dfsg1-1ubuntu0.3) ...\n",
      "Vormals nicht ausgewähltes Paket nano wird gewählt.\n",
      "Vorbereitung zum Entpacken von .../nano_2.5.3-2ubuntu2_amd64.deb ...\n"
     ]
    },
    {
     "name": "stdout",
     "output_type": "stream",
     "text": [
      "Entpacken von nano (2.5.3-2ubuntu2) ...\n",
      "Vormals nicht ausgewähltes Paket xml-core wird gewählt.\n",
      "Vorbereitung zum Entpacken von .../xml-core_0.13+nmu2_all.deb ...\n",
      "Entpacken von xml-core (0.13+nmu2) ...\n",
      "Vormals nicht ausgewähltes Paket curl wird gewählt.\n",
      "Vorbereitung zum Entpacken von .../curl_7.47.0-1ubuntu2.2_amd64.deb ...\n",
      "Entpacken von curl (7.47.0-1ubuntu2.2) ...\n",
      "Vormals nicht ausgewähltes Paket fonts-dejavu-core wird gewählt.\n",
      "Vorbereitung zum Entpacken von .../fonts-dejavu-core_2.35-1_all.deb ...\n",
      "Entpacken von fonts-dejavu-core (2.35-1) ...\n",
      "Vormals nicht ausgewähltes Paket fontconfig-config wird gewählt.\n",
      "Vorbereitung zum Entpacken von .../fontconfig-config_2.11.94-0ubuntu1.1_all.deb ...\n",
      "Entpacken von fontconfig-config (2.11.94-0ubuntu1.1) ...\n",
      "Vormals nicht ausgewähltes Paket libfreetype6:amd64 wird gewählt.\n",
      "Vorbereitung zum Entpacken von .../libfreetype6_2.6.1-0.1ubuntu2.3_amd64.deb ...\n",
      "Entpacken von libfreetype6:amd64 (2.6.1-0.1ubuntu2.3) ...\n",
      "Vormals nicht ausgewähltes Paket libfontconfig1:amd64 wird gewählt.\n",
      "Vorbereitung zum Entpacken von .../libfontconfig1_2.11.94-0ubuntu1.1_amd64.deb ...\n",
      "Entpacken von libfontconfig1:amd64 (2.11.94-0ubuntu1.1) ...\n",
      "Vormals nicht ausgewähltes Paket libjpeg8:amd64 wird gewählt.\n",
      "Vorbereitung zum Entpacken von .../libjpeg8_8c-2ubuntu8_amd64.deb ...\n",
      "Entpacken von libjpeg8:amd64 (8c-2ubuntu8) ...\n",
      "Vormals nicht ausgewähltes Paket libtiff5:amd64 wird gewählt.\n",
      "Vorbereitung zum Entpacken von .../libtiff5_4.0.6-1ubuntu0.2_amd64.deb ...\n",
      "Entpacken von libtiff5:amd64 (4.0.6-1ubuntu0.2) ...\n",
      "Vormals nicht ausgewähltes Paket libvpx3:amd64 wird gewählt.\n",
      "Vorbereitung zum Entpacken von .../libvpx3_1.5.0-2ubuntu1_amd64.deb ...\n",
      "Entpacken von libvpx3:amd64 (1.5.0-2ubuntu1) ...\n",
      "Vormals nicht ausgewähltes Paket libxpm4:amd64 wird gewählt.\n",
      "Vorbereitung zum Entpacken von .../libxpm4_1%3a3.5.11-1ubuntu0.16.04.1_amd64.deb ...\n",
      "Entpacken von libxpm4:amd64 (1:3.5.11-1ubuntu0.16.04.1) ...\n",
      "Vormals nicht ausgewähltes Paket libgd3:amd64 wird gewählt.\n",
      "Vorbereitung zum Entpacken von .../libgd3_2.1.1-4ubuntu0.16.04.8_amd64.deb ...\n",
      "Entpacken von libgd3:amd64 (2.1.1-4ubuntu0.16.04.8) ...\n",
      "Vormals nicht ausgewähltes Paket libxslt1.1:amd64 wird gewählt.\n",
      "Vorbereitung zum Entpacken von .../libxslt1.1_1.1.28-2.1ubuntu0.1_amd64.deb ...\n",
      "Entpacken von libxslt1.1:amd64 (1.1.28-2.1ubuntu0.1) ...\n",
      "Vormals nicht ausgewähltes Paket nginx-common wird gewählt.\n",
      "Vorbereitung zum Entpacken von .../nginx-common_1.10.3-0ubuntu0.16.04.2_all.deb ...\n",
      "Entpacken von nginx-common (1.10.3-0ubuntu0.16.04.2) ...\n",
      "Vormals nicht ausgewähltes Paket nginx-core wird gewählt.\n",
      "Vorbereitung zum Entpacken von .../nginx-core_1.10.3-0ubuntu0.16.04.2_amd64.deb ...\n",
      "Entpacken von nginx-core (1.10.3-0ubuntu0.16.04.2) ...\n",
      "Vormals nicht ausgewähltes Paket nginx wird gewählt.\n",
      "Vorbereitung zum Entpacken von .../nginx_1.10.3-0ubuntu0.16.04.2_all.deb ...\n",
      "Entpacken von nginx (1.10.3-0ubuntu0.16.04.2) ...\n",
      "Vormals nicht ausgewähltes Paket sshguard wird gewählt.\n",
      "Vorbereitung zum Entpacken von .../sshguard_1.6.0-1_amd64.deb ...\n",
      "Entpacken von sshguard (1.6.0-1) ...\n",
      "Trigger für libc-bin (2.23-0ubuntu9) werden verarbeitet ...\n",
      "Trigger für ureadahead (0.100.0-19) werden verarbeitet ...\n",
      "Trigger für systemd (229-4ubuntu19) werden verarbeitet ...\n",
      "libnfnetlink0:amd64 (1.0.1-3) wird eingerichtet ...\n",
      "libxau6:amd64 (1:1.0.8-1) wird eingerichtet ...\n",
      "sgml-base (1.26+nmu4ubuntu1) wird eingerichtet ...\n",
      "libjpeg-turbo8:amd64 (1.4.2-0ubuntu3) wird eingerichtet ...\n",
      "libjbig0:amd64 (2.1-3.1) wird eingerichtet ...\n",
      "geoip-database (20160408-1) wird eingerichtet ...\n",
      "iptables (1.6.0-2ubuntu3) wird eingerichtet ...\n",
      "libgeoip1:amd64 (1.6.9-1) wird eingerichtet ...\n",
      "libicu55:amd64 (55.1-7ubuntu0.2) wird eingerichtet ...\n",
      "libxdmcp6:amd64 (1:1.1.2-1.1) wird eingerichtet ...\n",
      "libxcb1:amd64 (1.11.1-1ubuntu1) wird eingerichtet ...\n",
      "libx11-data (2:1.6.3-1ubuntu2) wird eingerichtet ...\n",
      "libx11-6:amd64 (2:1.6.3-1ubuntu2) wird eingerichtet ...\n",
      "libxml2:amd64 (2.9.3+dfsg1-1ubuntu0.3) wird eingerichtet ...\n",
      "nano (2.5.3-2ubuntu2) wird eingerichtet ...\n",
      "update-alternatives: /bin/nano wird verwendet, um /usr/bin/editor (editor) im automatischen Modus bereitzustellen\n",
      "update-alternatives: /bin/nano wird verwendet, um /usr/bin/pico (pico) im automatischen Modus bereitzustellen\n",
      "xml-core (0.13+nmu2) wird eingerichtet ...\n",
      "curl (7.47.0-1ubuntu2.2) wird eingerichtet ...\n",
      "fonts-dejavu-core (2.35-1) wird eingerichtet ...\n",
      "fontconfig-config (2.11.94-0ubuntu1.1) wird eingerichtet ...\n",
      "libfreetype6:amd64 (2.6.1-0.1ubuntu2.3) wird eingerichtet ...\n",
      "libfontconfig1:amd64 (2.11.94-0ubuntu1.1) wird eingerichtet ...\n",
      "libjpeg8:amd64 (8c-2ubuntu8) wird eingerichtet ...\n",
      "libtiff5:amd64 (4.0.6-1ubuntu0.2) wird eingerichtet ...\n",
      "libvpx3:amd64 (1.5.0-2ubuntu1) wird eingerichtet ...\n",
      "libxpm4:amd64 (1:3.5.11-1ubuntu0.16.04.1) wird eingerichtet ...\n",
      "libgd3:amd64 (2.1.1-4ubuntu0.16.04.8) wird eingerichtet ...\n",
      "libxslt1.1:amd64 (1.1.28-2.1ubuntu0.1) wird eingerichtet ...\n",
      "nginx-common (1.10.3-0ubuntu0.16.04.2) wird eingerichtet ...\n",
      "debconf: kann Oberfläche nicht initialisieren: Dialog\n",
      "debconf: (TERM ist nicht gesetzt, die Dialog-Oberfläche kann daher nicht verwendet werden.)\n",
      "debconf: greife zurück auf die Oberfläche: Readline\n",
      "debconf: kann Oberfläche nicht initialisieren: Readline\n",
      "debconf: (Can't locate Term/ReadLine.pm in @INC (you may need to install the Term::ReadLine module) (@INC contains: /etc/perl /usr/local/lib/x86_64-linux-gnu/perl/5.22.1 /usr/local/share/perl/5.22.1 /usr/lib/x86_64-linux-gnu/perl5/5.22 /usr/share/perl5 /usr/lib/x86_64-linux-gnu/perl/5.22 /usr/share/perl/5.22 /usr/local/lib/site_perl /usr/lib/x86_64-linux-gnu/perl-base .) at /usr/share/perl5/Debconf/FrontEnd/Readline.pm line 7.)\n",
      "debconf: greife zurück auf die Oberfläche: Teletype\n",
      "nginx-core (1.10.3-0ubuntu0.16.04.2) wird eingerichtet ...\n",
      "nginx (1.10.3-0ubuntu0.16.04.2) wird eingerichtet ...\n",
      "sshguard (1.6.0-1) wird eingerichtet ...\n",
      "Trigger für libc-bin (2.23-0ubuntu9) werden verarbeitet ...\n",
      "Trigger für sgml-base (1.26+nmu4ubuntu1) werden verarbeitet ...\n",
      "Trigger für systemd (229-4ubuntu19) werden verarbeitet ...\n",
      "Trigger für ureadahead (0.100.0-19) werden verarbeitet ...\n",
      "Synchronizing state of nginx.service with SysV init with /lib/systemd/systemd-sysv-install...\n",
      "Executing /lib/systemd/systemd-sysv-install enable nginx\n"
     ]
    }
   ],
   "source": [
    "ssh root@${AIS_BASHY_IP} /tmp/install-nginx.sh"
   ]
  },
  {
   "cell_type": "code",
   "execution_count": 12,
   "metadata": {},
   "outputs": [
    {
     "name": "stdout",
     "output_type": "stream",
     "text": [
      "https://10.0.3.174\n"
     ]
    }
   ],
   "source": [
    "echo https://${AIS_BASHY_IP}"
   ]
  },
  {
   "cell_type": "code",
   "execution_count": 9,
   "metadata": {},
   "outputs": [
    {
     "name": "stdout",
     "output_type": "stream",
     "text": [
      "Problems\n",
      "\n",
      "-We're running this on the target machine automatically with Ansible. With bash:\n",
      "\t-scp script + resources\n",
      "\t-ssh to remote machine; run\n",
      "\t-clean up\n",
      "\n",
      "0. Hardcoded IP in mywebsite.conf\n",
      "1. We want to comment out 'vim' -- it takes up too much space for our server\n",
      "2. We want to run this on 1000 servers -- only our 'web' servers, though.\n",
      "3. We want to add a second site, stop hardcoding everything, and re-use a single configuration file\n",
      "4. We also want to set up a database server, which is logically a part of our web application, in the same 'deployment' step.\n",
      "5. We want to enforce a consistent structure between scripts\n",
      "\n"
     ]
    }
   ],
   "source": [
    "cat Bash-Problems"
   ]
  },
  {
   "cell_type": "markdown",
   "metadata": {},
   "source": [
    "##  Nginx mit Ansible aufsetzen\n",
    "\n",
    "Zunächst den Container neu aufsetzen."
   ]
  },
  {
   "cell_type": "code",
   "execution_count": 10,
   "metadata": {},
   "outputs": [
    {
     "name": "stdout",
     "output_type": "stream",
     "text": [
      "Destroyed container ais-bashy\n"
     ]
    }
   ],
   "source": [
    "sudo lxc-destroy --name ais-bashy --force"
   ]
  },
  {
   "cell_type": "markdown",
   "metadata": {},
   "source": [
    "Die Container einrichten und die Umgebungsvariable setzen."
   ]
  },
  {
   "cell_type": "code",
   "execution_count": 11,
   "metadata": {},
   "outputs": [
    {
     "name": "stdout",
     "output_type": "stream",
     "text": [
      " ____________\n",
      "< PLAY [all] >\n",
      " ------------\n",
      "        \\   ^__^\n",
      "         \\  (oo)\\_______\n",
      "            (__)\\       )\\/\\\n",
      "                ||----w |\n",
      "                ||     ||\n",
      "\n",
      " ________________________________\n",
      "< TASK [Init AIS lxc containers] >\n",
      " --------------------------------\n",
      "        \\   ^__^\n",
      "         \\  (oo)\\_______\n",
      "            (__)\\       )\\/\\\n",
      "                ||----w |\n",
      "                ||     ||\n",
      "\n",
      "changed: [localhost]\n",
      " ____________\n",
      "< PLAY RECAP >\n",
      " ------------\n",
      "        \\   ^__^\n",
      "         \\  (oo)\\_______\n",
      "            (__)\\       )\\/\\\n",
      "                ||----w |\n",
      "                ||     ||\n",
      "\n",
      "localhost                  : ok=1    changed=1    unreachable=0    failed=0   \n",
      "\n",
      "10.0.3.174\n",
      " 06:31:46 up 1 day, 23:40,  0 users,  load average: 0,60, 0,23, 0,09\n"
     ]
    }
   ],
   "source": [
    "ansible-playbook -i localhost, ../00-home-base/setup-lxc.yml\n",
    "export AIS_BASHY_IP=$(sudo lxc-ls ais-bashy --fancy | awk '{ print $5 }' | grep '.\\.')\n",
    "echo $AIS_BASHY_IP\n",
    "ssh root@${AIS_BASHY_IP} uptime"
   ]
  },
  {
   "cell_type": "code",
   "execution_count": 15,
   "metadata": {},
   "outputs": [
    {
     "name": "stdout",
     "output_type": "stream",
     "text": [
      "NAME      STATE   AUTOSTART GROUPS IPV4       IPV6 \n",
      "ais-bashy RUNNING 0         -      10.0.3.174 -    \n",
      "db        RUNNING 0         -      10.0.3.88  -    \n",
      "playbooks RUNNING 0         -      10.0.3.231 -    \n",
      "web1      RUNNING 0         -      10.0.3.86  -    \n",
      "web2      RUNNING 0         -      10.0.3.62  -    \n"
     ]
    }
   ],
   "source": [
    "sudo lxc-ls --fancy"
   ]
  },
  {
   "cell_type": "code",
   "execution_count": 14,
   "metadata": {},
   "outputs": [
    {
     "name": "stdout",
     "output_type": "stream",
     "text": [
      " ____________\n",
      "< PLAY [all] >\n",
      " ------------\n",
      "        \\   ^__^\n",
      "         \\  (oo)\\_______\n",
      "            (__)\\       )\\/\\\n",
      "                ||----w |\n",
      "                ||     ||\n",
      "\n",
      " ________________________\n",
      "< TASK [Gathering Facts] >\n",
      " ------------------------\n",
      "        \\   ^__^\n",
      "         \\  (oo)\\_______\n",
      "            (__)\\       )\\/\\\n",
      "                ||----w |\n",
      "                ||     ||\n",
      "\n",
      "ok: [10.0.3.174]\n",
      " _______________________\n",
      "< TASK [Install nginx.] >\n",
      " -----------------------\n",
      "        \\   ^__^\n",
      "         \\  (oo)\\_______\n",
      "            (__)\\       )\\/\\\n",
      "                ||----w |\n",
      "                ||     ||\n",
      "\n",
      "changed: [10.0.3.174] => (item=nginx)\n",
      "changed: [10.0.3.174] => (item=nano)\n",
      "changed: [10.0.3.174] => (item=sshguard)\n",
      "changed: [10.0.3.174] => (item=curl)\n",
      " _________________________________\n",
      "< TASK [Create website directory] >\n",
      " ---------------------------------\n",
      "        \\   ^__^\n",
      "         \\  (oo)\\_______\n",
      "            (__)\\       )\\/\\\n",
      "                ||----w |\n",
      "                ||     ||\n",
      "\n",
      "changed: [10.0.3.174]\n",
      " ______________________________________________________\n",
      "/ TASK [Copy nginx config files (main config and vhost \\\n",
      "\\ config)]                                             /\n",
      " ------------------------------------------------------\n",
      "        \\   ^__^\n",
      "         \\  (oo)\\_______\n",
      "            (__)\\       )\\/\\\n",
      "                ||----w |\n",
      "                ||     ||\n",
      "\n",
      "changed: [10.0.3.174] => (item={u'dest': u'/etc/nginx/nginx.conf', u'src': u'config/nginx.conf'})\n",
      "changed: [10.0.3.174] => (item={u'dest': u'/etc/nginx/conf.d/mywebsite.conf', u'src': u'config/mywebsite.conf'})\n",
      "changed: [10.0.3.174] => (item={u'dest': u'/var/www/mywebsite/index.html', u'src': u'config/index.html'})\n",
      " __________________________________________________\n",
      "< TASK [Check if default nginx vhost still exists] >\n",
      " --------------------------------------------------\n",
      "        \\   ^__^\n",
      "         \\  (oo)\\_______\n",
      "            (__)\\       )\\/\\\n",
      "                ||----w |\n",
      "                ||     ||\n",
      "\n",
      "ok: [10.0.3.174]\n",
      " _________________________________________________\n",
      "< TASK [Remove default nginx vhost configuration] >\n",
      " -------------------------------------------------\n",
      "        \\   ^__^\n",
      "         \\  (oo)\\_______\n",
      "            (__)\\       )\\/\\\n",
      "                ||----w |\n",
      "                ||     ||\n",
      "\n",
      "changed: [10.0.3.174]\n",
      " __________________________________________________________\n",
      "/ TASK [Start nginx at boot + make sure it's running right \\\n",
      "\\ now.]                                                    /\n",
      " ----------------------------------------------------------\n",
      "        \\   ^__^\n",
      "         \\  (oo)\\_______\n",
      "            (__)\\       )\\/\\\n",
      "                ||----w |\n",
      "                ||     ||\n",
      "\n",
      "changed: [10.0.3.174]\n",
      " ____________\n",
      "< PLAY RECAP >\n",
      " ------------\n",
      "        \\   ^__^\n",
      "         \\  (oo)\\_______\n",
      "            (__)\\       )\\/\\\n",
      "                ||----w |\n",
      "                ||     ||\n",
      "\n",
      "10.0.3.174                 : ok=7    changed=5    unreachable=0    failed=0   \n",
      "\n"
     ]
    }
   ],
   "source": [
    "ansible-playbook -i $AIS_BASHY_IP, -u root install-nginx.yml"
   ]
  },
  {
   "cell_type": "code",
   "execution_count": null,
   "metadata": {},
   "outputs": [],
   "source": [
    "cat install-nginx.yml"
   ]
  },
  {
   "cell_type": "code",
   "execution_count": null,
   "metadata": {},
   "outputs": [],
   "source": [
    "echo http://$AIS_BASHY_IP"
   ]
  },
  {
   "cell_type": "code",
   "execution_count": null,
   "metadata": {},
   "outputs": [],
   "source": []
  }
 ],
 "metadata": {
  "kernelspec": {
   "display_name": "Bash",
   "language": "bash",
   "name": "bash"
  },
  "language_info": {
   "codemirror_mode": "shell",
   "file_extension": ".sh",
   "mimetype": "text/x-sh",
   "name": "bash"
  }
 },
 "nbformat": 4,
 "nbformat_minor": 2
}
