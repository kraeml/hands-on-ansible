{
 "cells": [
  {
   "cell_type": "markdown",
   "metadata": {},
   "source": [
    "# Ansible Einführung\n",
    "\n",
    "Warum eigentlich Ansible und nicht bash-Skripte?\n",
    "\n",
    "In welchem Verzeichnis befinden wir uns?"
   ]
  },
  {
   "cell_type": "code",
   "execution_count": null,
   "metadata": {},
   "outputs": [],
   "source": [
    "pwd"
   ]
  },
  {
   "cell_type": "markdown",
   "metadata": {},
   "source": [
    "##  Vorbereitung der Container\n",
    "\n",
    "Zunächst alle weg werfen und neu aufsetzen."
   ]
  },
  {
   "cell_type": "code",
   "execution_count": null,
   "metadata": {},
   "outputs": [],
   "source": [
    "for i in ais-bashy db web1 web2 playbooks; do\n",
    "    sudo lxc-destroy --name ${i} --force\n",
    "done\n",
    "ansible-playbook -i localhost, ../00-home-base/setup-lxc.yml\n",
    "export AIS_BASHY_IP=$(sudo lxc-ls ais-bashy --fancy | awk '{ print $5 }' | grep '.\\.')\n",
    "echo $AIS_BASHY_IP\n",
    "ssh root@${AIS_BASHY_IP} uptime"
   ]
  },
  {
   "cell_type": "markdown",
   "metadata": {},
   "source": [
    "## Inhalt des Verzeichnisses\n",
    "\n",
    "Falls `tree` nicht installiert sein sollte, dann installieren und nochmal ausführen."
   ]
  },
  {
   "cell_type": "code",
   "execution_count": null,
   "metadata": {},
   "outputs": [],
   "source": [
    "tree . || (sudo apt-get update && sudo apt-get install --yes tree && tree .)"
   ]
  },
  {
   "cell_type": "markdown",
   "metadata": {},
   "source": [
    "## Das Shell Skript"
   ]
  },
  {
   "cell_type": "code",
   "execution_count": null,
   "metadata": {},
   "outputs": [],
   "source": [
    "cat install-nginx.sh"
   ]
  },
  {
   "cell_type": "markdown",
   "metadata": {},
   "source": [
    "Wegen `set -euo pipefail` siehe\n",
    "\n",
    "https://vaneyckt.io/posts/safer_bash_scripts_with_set_euxo_pipefail/\n",
    "\n",
    "Wegen `cd \"${BASH_SOURCE%/*}\" || exit` siehe\n",
    "\n",
    "http://mywiki.wooledge.org/BashFAQ/028"
   ]
  },
  {
   "cell_type": "code",
   "execution_count": null,
   "metadata": {},
   "outputs": [],
   "source": [
    "ssh root@${AIS_BASHY_IP} install-nginx.sh"
   ]
  },
  {
   "cell_type": "markdown",
   "metadata": {},
   "source": [
    "Damit wir das Skript ausführen können, muss dieses auf das Zielsystem (target) kopiert werden. __Darüber hinaus__ auch die Konfigurationsdateien usw."
   ]
  },
  {
   "cell_type": "code",
   "execution_count": null,
   "metadata": {},
   "outputs": [],
   "source": [
    "scp -r install-nginx.sh config/ root@${AIS_BASHY_IP}:/tmp/"
   ]
  },
  {
   "cell_type": "code",
   "execution_count": null,
   "metadata": {},
   "outputs": [],
   "source": [
    "ssh root@${AIS_BASHY_IP} ls /tmp/"
   ]
  },
  {
   "cell_type": "code",
   "execution_count": null,
   "metadata": {
    "scrolled": false
   },
   "outputs": [],
   "source": [
    "ssh root@${AIS_BASHY_IP} /tmp/install-nginx.sh"
   ]
  },
  {
   "cell_type": "code",
   "execution_count": null,
   "metadata": {},
   "outputs": [],
   "source": [
    "echo https://${AIS_BASHY_IP}"
   ]
  },
  {
   "cell_type": "markdown",
   "metadata": {},
   "source": [
    "Das Skript ist noch nicht ganz richtig, da wir ein systemd System verwenden."
   ]
  },
  {
   "cell_type": "code",
   "execution_count": null,
   "metadata": {},
   "outputs": [],
   "source": [
    "tail -n 8 install-nginx.sh"
   ]
  },
  {
   "cell_type": "code",
   "execution_count": null,
   "metadata": {},
   "outputs": [],
   "source": [
    "sed -rie 's/^(service.*$)/# \\1/g' install-nginx.sh\n",
    "sed -rie 's/^# (systemctl.*)/\\1/g' install-nginx.sh"
   ]
  },
  {
   "cell_type": "code",
   "execution_count": null,
   "metadata": {},
   "outputs": [],
   "source": [
    "tail -n 8 install-nginx.sh"
   ]
  },
  {
   "cell_type": "code",
   "execution_count": null,
   "metadata": {},
   "outputs": [],
   "source": [
    "scp -r install-nginx.sh config/ root@${AIS_BASHY_IP}:/tmp/"
   ]
  },
  {
   "cell_type": "code",
   "execution_count": null,
   "metadata": {
    "scrolled": false
   },
   "outputs": [],
   "source": [
    "ssh root@${AIS_BASHY_IP} /tmp/install-nginx.sh"
   ]
  },
  {
   "cell_type": "markdown",
   "metadata": {},
   "source": [
    "Das zwiemalige Ausführen eines Bash-Skriptes kann zu einem anderen Ergebnis führen, als beim ersten mal.\n",
    "\n",
    "_Hinweis:_ Unsere Änderung betrifft nicht das entfernen der nginx config Datei."
   ]
  },
  {
   "cell_type": "code",
   "execution_count": null,
   "metadata": {},
   "outputs": [],
   "source": [
    "cat Bash-Problems"
   ]
  },
  {
   "cell_type": "code",
   "execution_count": null,
   "metadata": {},
   "outputs": [],
   "source": [
    "sed -rie 's/^# (service.*$)/\\1/g' install-nginx.sh\n",
    "sed -rie 's/^(systemctl.*)/# \\1/g' install-nginx.sh\n",
    "tail -n 8 install-nginx.sh"
   ]
  },
  {
   "cell_type": "markdown",
   "metadata": {},
   "source": [
    "##  Nginx mit Ansible aufsetzen\n",
    "\n",
    "Zunächst den Container neu aufsetzen."
   ]
  },
  {
   "cell_type": "code",
   "execution_count": null,
   "metadata": {},
   "outputs": [],
   "source": [
    "sudo lxc-destroy --name ais-bashy --force"
   ]
  },
  {
   "cell_type": "markdown",
   "metadata": {},
   "source": [
    "Die Container einrichten und die Umgebungsvariable setzen."
   ]
  },
  {
   "cell_type": "code",
   "execution_count": null,
   "metadata": {},
   "outputs": [],
   "source": [
    "ansible-playbook -i localhost, ../00-home-base/setup-lxc.yml\n",
    "export AIS_BASHY_IP=$(sudo lxc-ls ais-bashy --fancy | awk '{ print $5 }' | grep '.\\.')\n",
    "echo $AIS_BASHY_IP\n",
    "ssh root@${AIS_BASHY_IP} uptime"
   ]
  },
  {
   "cell_type": "code",
   "execution_count": null,
   "metadata": {},
   "outputs": [],
   "source": [
    "sudo lxc-ls --fancy"
   ]
  },
  {
   "cell_type": "code",
   "execution_count": null,
   "metadata": {},
   "outputs": [],
   "source": [
    "ansible-playbook -i $AIS_BASHY_IP, -u root install-nginx.yml"
   ]
  },
  {
   "cell_type": "code",
   "execution_count": null,
   "metadata": {},
   "outputs": [],
   "source": [
    "cat install-nginx.yml"
   ]
  },
  {
   "cell_type": "code",
   "execution_count": null,
   "metadata": {},
   "outputs": [],
   "source": [
    "echo http://$AIS_BASHY_IP"
   ]
  },
  {
   "cell_type": "code",
   "execution_count": null,
   "metadata": {},
   "outputs": [],
   "source": [
    "ansible-playbook -i $AIS_BASHY_IP, -u root install-nginx.yml"
   ]
  },
  {
   "cell_type": "markdown",
   "metadata": {},
   "source": [
    "Das mehrmalige ausführen eines Ansible-Skripts führt zum gleichem Ergebnis. Dies nennt man Idempotenz.\n",
    "\n",
    "Siehe auch: https://de.wikipedia.org/wiki/Idempotenz"
   ]
  }
 ],
 "metadata": {
  "kernelspec": {
   "display_name": "Bash",
   "language": "bash",
   "name": "bash"
  },
  "language_info": {
   "codemirror_mode": "shell",
   "file_extension": ".sh",
   "mimetype": "text/x-sh",
   "name": "bash"
  }
 },
 "nbformat": 4,
 "nbformat_minor": 2
}
