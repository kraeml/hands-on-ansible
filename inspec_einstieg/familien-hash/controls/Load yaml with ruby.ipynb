{
 "cells": [
  {
   "cell_type": "code",
   "execution_count": 1,
   "metadata": {},
   "outputs": [
    {
     "data": {
      "text/plain": [
       "true"
      ]
     },
     "execution_count": 1,
     "metadata": {},
     "output_type": "execute_result"
    }
   ],
   "source": [
    "require 'yaml'"
   ]
  },
  {
   "cell_type": "code",
   "execution_count": 9,
   "metadata": {},
   "outputs": [
    {
     "data": {
      "text/plain": [
       "{\"gruppen\"=>{\"familie\"=>\"familie\", \"erwachsene\"=>\"erwachsene\", \"finanzen\"=>\"finanzen\", \"rezepte\"=>\"rezepte\", \"kinder\"=>\"kinder\", \"heute\"=>\"heute\"}}"
      ]
     },
     "execution_count": 9,
     "metadata": {},
     "output_type": "execute_result"
    }
   ],
   "source": [
    "thing = YAML.load_file('user-data.yml')"
   ]
  },
  {
   "cell_type": "code",
   "execution_count": 10,
   "metadata": {},
   "outputs": [
    {
     "name": "stdout",
     "output_type": "stream",
     "text": [
      "{\"gruppen\"=>{\"familie\"=>\"familie\", \"erwachsene\"=>\"erwachsene\", \"finanzen\"=>\"finanzen\", \"rezepte\"=>\"rezepte\", \"kinder\"=>\"kinder\", \"heute\"=>\"heute\"}}\n"
     ]
    }
   ],
   "source": [
    "puts thing.inspect"
   ]
  },
  {
   "cell_type": "code",
   "execution_count": 11,
   "metadata": {},
   "outputs": [
    {
     "name": "stdout",
     "output_type": "stream",
     "text": [
      "familie\n",
      "familie\n",
      "erwachsene\n",
      "erwachsene\n",
      "finanzen\n",
      "finanzen\n",
      "rezepte\n",
      "rezepte\n",
      "kinder\n",
      "kinder\n",
      "heute\n",
      "heute\n"
     ]
    },
    {
     "data": {
      "text/plain": [
       "{\"familie\"=>\"familie\", \"erwachsene\"=>\"erwachsene\", \"finanzen\"=>\"finanzen\", \"rezepte\"=>\"rezepte\", \"kinder\"=>\"kinder\", \"heute\"=>\"heute\"}"
      ]
     },
     "execution_count": 11,
     "metadata": {},
     "output_type": "execute_result"
    }
   ],
   "source": [
    "thing['gruppen'].each do|key, value|\n",
    "  puts key\n",
    "  puts value\n",
    "end"
   ]
  },
  {
   "cell_type": "code",
   "execution_count": 12,
   "metadata": {},
   "outputs": [
    {
     "data": {
      "text/plain": [
       "{\"familie\"=>\"familie\", \"erwachsene\"=>\"erwachsene\", \"finanzen\"=>\"finanzen\", \"rezepte\"=>\"rezepte\", \"kinder\"=>\"kinder\", \"heute\"=>\"heute\"}"
      ]
     },
     "execution_count": 12,
     "metadata": {},
     "output_type": "execute_result"
    }
   ],
   "source": [
    "gruppen=thing['gruppen']"
   ]
  },
  {
   "cell_type": "code",
   "execution_count": 13,
   "metadata": {},
   "outputs": [
    {
     "name": "stdout",
     "output_type": "stream",
     "text": [
      "familie\n",
      "familie\n",
      "erwachsene\n",
      "erwachsene\n",
      "finanzen\n",
      "finanzen\n",
      "rezepte\n",
      "rezepte\n",
      "kinder\n",
      "kinder\n",
      "heute\n",
      "heute\n"
     ]
    },
    {
     "data": {
      "text/plain": [
       "{\"familie\"=>\"familie\", \"erwachsene\"=>\"erwachsene\", \"finanzen\"=>\"finanzen\", \"rezepte\"=>\"rezepte\", \"kinder\"=>\"kinder\", \"heute\"=>\"heute\"}"
      ]
     },
     "execution_count": 13,
     "metadata": {},
     "output_type": "execute_result"
    }
   ],
   "source": [
    "gruppen.each do|key, value|\n",
    "  puts key\n",
    "  puts value\n",
    "end"
   ]
  },
  {
   "cell_type": "code",
   "execution_count": null,
   "metadata": {},
   "outputs": [],
   "source": []
  }
 ],
 "metadata": {
  "kernelspec": {
   "display_name": "Ruby 2.4.2",
   "language": "ruby",
   "name": "ruby"
  },
  "language_info": {
   "file_extension": ".rb",
   "mimetype": "application/x-ruby",
   "name": "ruby",
   "version": "2.4.2"
  }
 },
 "nbformat": 4,
 "nbformat_minor": 2
}
