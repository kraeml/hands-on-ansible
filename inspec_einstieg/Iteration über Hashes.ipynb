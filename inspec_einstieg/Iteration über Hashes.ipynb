{
 "cells": [
  {
   "cell_type": "markdown",
   "metadata": {},
   "source": [
    "# Ruby Hashes iterrieren\n",
    "\n",
    "Zunächst einen Hash erzeugen."
   ]
  },
  {
   "cell_type": "code",
   "execution_count": 9,
   "metadata": {},
   "outputs": [
    {
     "data": {
      "text/plain": [
       "{:colors=>[\"red\", \"blue\", \"green\"], :letters=>[\"a\", \"b\", \"c\"]}"
      ]
     },
     "execution_count": 9,
     "metadata": {},
     "output_type": "execute_result"
    }
   ],
   "source": [
    "h = {\n",
    "    colors: [\"red\", \"blue\", \"green\"], \n",
    "    letters: [\"a\", \"b\", \"c\" ]\n",
    "  }"
   ]
  },
  {
   "cell_type": "code",
   "execution_count": 6,
   "metadata": {},
   "outputs": [
    {
     "data": {
      "text/plain": [
       "{:colors=>[\"red\", \"blue\", \"green\"], :letters=>[\"a\", \"b\", \"c\"]}"
      ]
     },
     "execution_count": 6,
     "metadata": {},
     "output_type": "execute_result"
    }
   ],
   "source": [
    "h = {\n",
    "    :colors => [\"red\", \"blue\", \"green\"], \n",
    "    :letters => [\"a\", \"b\", \"c\" ]\n",
    "  }"
   ]
  },
  {
   "cell_type": "code",
   "execution_count": 10,
   "metadata": {},
   "outputs": [
    {
     "data": {
      "text/plain": [
       "{\"colors\"=>[\"red\", \"blue\", \"green\"], \"letters\"=>[\"a\", \"b\", \"c\"]}"
      ]
     },
     "execution_count": 10,
     "metadata": {},
     "output_type": "execute_result"
    }
   ],
   "source": [
    "h = {\n",
    "    \"colors\" => [\"red\", \"blue\", \"green\"], \n",
    "    \"letters\" => [\"a\", \"b\", \"c\" ]\n",
    "  }"
   ]
  },
  {
   "cell_type": "markdown",
   "metadata": {},
   "source": [
    "## Iterator"
   ]
  },
  {
   "cell_type": "code",
   "execution_count": 11,
   "metadata": {},
   "outputs": [
    {
     "name": "stdout",
     "output_type": "stream",
     "text": [
      "colors hat die Inhalte\n",
      "\t- red\n",
      "\t- blue\n",
      "\t- green\n",
      "letters hat die Inhalte\n",
      "\t- a\n",
      "\t- b\n",
      "\t- c\n"
     ]
    },
    {
     "data": {
      "text/plain": [
       "{\"colors\"=>[\"red\", \"blue\", \"green\"], \"letters\"=>[\"a\", \"b\", \"c\"]}"
      ]
     },
     "execution_count": 11,
     "metadata": {},
     "output_type": "execute_result"
    }
   ],
   "source": [
    "h.each do |key, value|\n",
    "  puts \"#{key} hat die Inhalte\"\n",
    "  value.each do |v|\n",
    "    puts \"\\t- #{v}\"\n",
    "  end\n",
    "end"
   ]
  },
  {
   "cell_type": "code",
   "execution_count": null,
   "metadata": {},
   "outputs": [],
   "source": []
  }
 ],
 "metadata": {
  "kernelspec": {
   "display_name": "Ruby 2.4.2",
   "language": "ruby",
   "name": "ruby"
  },
  "language_info": {
   "file_extension": ".rb",
   "mimetype": "application/x-ruby",
   "name": "ruby",
   "version": "2.4.2"
  }
 },
 "nbformat": 4,
 "nbformat_minor": 2
}
