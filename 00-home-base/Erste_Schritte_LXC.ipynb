{
 "cells": [
  {
   "cell_type": "markdown",
   "metadata": {},
   "source": [
    "# Erste Schritte"
   ]
  },
  {
   "cell_type": "code",
   "execution_count": 1,
   "metadata": {},
   "outputs": [
    {
     "name": "stdout",
     "output_type": "stream",
     "text": [
      "insgesamt 40\n",
      "5512662 4 drwxrwxr-x 3 vagrant vagrant 4096 Sep 30 07:14 .\n",
      "5512620 4 drwxrwxr-x 8 vagrant vagrant 4096 Sep 29 09:17 ..\n",
      "5512663 4 -rw-rw-r-- 1 vagrant vagrant   60 Sep 29 09:17 2.1_creating_Ansible_Home_Base.sh\n",
      "5512664 4 -rw-rw-r-- 1 vagrant vagrant  359 Sep 29 09:17 2.2_Ansible_Bleeding_Edge.sh\n",
      "5512665 4 -rw-rw-r-- 1 vagrant vagrant  498 Sep 29 09:17 2.3_Ansible_pip.sh\n",
      "5512666 4 -rwxrwxr-x 1 vagrant vagrant  717 Sep 30 07:14 2.4_lxc_setup.sh\n",
      "5512667 4 -rwxrwxr-x 1 vagrant vagrant 1012 Sep 29 09:17 ais-lxc-setup.sh\n",
      "5641189 4 drwxr-xr-x 2 vagrant vagrant 4096 Sep 30 07:12 .ipynb_checkpoints\n",
      "5505067 8 -rw-r--r-- 1 vagrant vagrant 7384 Sep 30 07:14 Untitled.ipynb\n"
     ]
    }
   ],
   "source": [
    "ls -lisa"
   ]
  },
  {
   "cell_type": "code",
   "execution_count": 2,
   "metadata": {},
   "outputs": [
    {
     "name": "stdout",
     "output_type": "stream",
     "text": [
      "#/bin/bash \n",
      "# set -x\n",
      "\n",
      "for i in ais-bashy web1 web2 db playbooks; do\n",
      "\tsudo lxc-create -n ${i} -t ubuntu\n",
      "\tsudo lxc-update-config -c /var/lib/lxc/${i}/config\n",
      "\tsudo lxc-start -n ${i}\n",
      "\techo \"Wait for comming up\" ${i}\n",
      "\tsleep 5\n",
      "\tif [ $i = ais-bashy ] ; then\n",
      "\t\tip=$(sudo lxc-ls --fancy | grep 'ais-bashy' | cut -d '-' -f 3 | tr -d ' ')\n",
      "\t\tansible -i localhost, -m shell -a 'ssh-keygen -b 2048 -t rsa -f ~/.ssh/id_rsa -q -N \"\" creates=~/.ssh/id_rsa' --connection=local localhost\n",
      "\t\techo $ip\n",
      "\t\tmkdir ~/.ssh || true\n",
      "\t\tssh-keyscan -H $ip >> ~/.ssh/known_hosts\n",
      "\t\techo ${ip}\n",
      "\t\tansible-playbook -i ${ip}, ../02-playbooks/00-simple-playbook-examples/prepare_ansible_target.yml -u ubuntu -k --ask-sudo-pass\n",
      "\tfi\n",
      "done\n",
      "sudo lxc-ls --fancy\n"
     ]
    }
   ],
   "source": [
    "cat 2.4_lxc_setup.sh"
   ]
  },
  {
   "cell_type": "markdown",
   "metadata": {},
   "source": [
    "In einem Terminal folgendes ausführen:\n",
    "\n",
    "```bash\n",
    "./2.4_lxc_setup.sh\n",
    "\n",
    "```\n",
    "\n",
    "Das Passwort ist __ubuntu__."
   ]
  },
  {
   "cell_type": "code",
   "execution_count": 6,
   "metadata": {},
   "outputs": [
    {
     "name": "stdout",
     "output_type": "stream",
     "text": [
      "Usage: lxc-ls \n",
      "[-P lxcpath] [--active] [--running] [--frozen] [--stopped] [--nesting] [-g groups] [--filter regex]\n",
      "[-1] [-P lxcpath] [--active] [--running] [--frozen] [--stopped] [--nesting] [-g groups] [--filter regex]\n",
      "[-f] [-P lxcpath] [--active] [--running] [--frozen] [--stopped] [--nesting] [-g groups] [--filter regex]\n",
      "\n",
      "lxc-ls list containers\n",
      "\n",
      "Options :\n",
      "  -1, --line         show one entry per line\n",
      "  -f, --fancy        use a fancy, column-based output\n",
      "  -F, --fancy-format comma separated list of columns to show in the fancy output\n",
      "                     valid columns are: NAME, STATE, PID, RAM, SWAP, AUTOSTART,\n",
      "                     GROUPS, INTERFACE, IPV4 and IPV6\n",
      "  --active           list only active containers\n",
      "  --running          list only running containers\n",
      "  --frozen           list only frozen containers\n",
      "  --stopped          list only stopped containers\n",
      "  --defined          list only defined containers\n",
      "  --nesting=NUM      list nested containers up to NUM (default is 5) levels of nesting\n",
      "  --filter=REGEX     filter container names by regular expression\n",
      "  -g --groups        comma separated list of groups a container must have to be displayed\n",
      "\n",
      "Common options :\n",
      "  -o, --logfile=FILE               Output log to FILE instead of stderr\n",
      "  -l, --logpriority=LEVEL          Set log priority to LEVEL\n",
      "  -q, --quiet                      Don't produce any output\n",
      "  -P, --lxcpath=PATH               Use specified container path\n",
      "  -?, --help                       Give this help list\n",
      "      --usage                      Give a short usage message\n",
      "      --version                    Print the version number\n",
      "\n",
      "Mandatory or optional arguments to long options are also mandatory or optional\n",
      "for any corresponding short options.\n",
      "\n",
      "See the lxc-ls man page for further information.\n",
      "\n"
     ]
    }
   ],
   "source": [
    "sudo lxc-ls --help"
   ]
  },
  {
   "cell_type": "code",
   "execution_count": 3,
   "metadata": {},
   "outputs": [
    {
     "name": "stdout",
     "output_type": "stream",
     "text": [
      "NAME      STATE   AUTOSTART GROUPS IPV4       IPV6 \n",
      "ais-bashy RUNNING 0         -      10.0.3.80  -    \n",
      "db        RUNNING 0         -      10.0.3.211 -    \n",
      "playbooks RUNNING 0         -      10.0.3.78  -    \n",
      "web1      RUNNING 0         -      10.0.3.18  -    \n",
      "web2      RUNNING 0         -      10.0.3.12  -    \n"
     ]
    }
   ],
   "source": [
    "sudo lxc-ls --fancy"
   ]
  },
  {
   "cell_type": "code",
   "execution_count": 5,
   "metadata": {},
   "outputs": [
    {
     "name": "stdout",
     "output_type": "stream",
     "text": [
      "NAME      STATE   AUTOSTART GROUPS IPV4      IPV6 \n",
      "ais-bashy RUNNING 0         -      10.0.3.80 -    \n"
     ]
    }
   ],
   "source": [
    "sudo lxc-ls ais-bashy --fancy"
   ]
  },
  {
   "cell_type": "code",
   "execution_count": 7,
   "metadata": {},
   "outputs": [
    {
     "name": "stdout",
     "output_type": "stream",
     "text": [
      "NAME\n",
      "ais-bashy\n"
     ]
    }
   ],
   "source": [
    "sudo lxc-ls ais-bashy --fancy | awk '{ print $1 }'"
   ]
  },
  {
   "cell_type": "code",
   "execution_count": 8,
   "metadata": {},
   "outputs": [
    {
     "name": "stdout",
     "output_type": "stream",
     "text": [
      "STATE\n",
      "RUNNING\n"
     ]
    }
   ],
   "source": [
    "sudo lxc-ls ais-bashy --fancy | awk '{ print $2 }'"
   ]
  },
  {
   "cell_type": "code",
   "execution_count": 9,
   "metadata": {},
   "outputs": [
    {
     "name": "stdout",
     "output_type": "stream",
     "text": [
      "AUTOSTART\n",
      "0\n"
     ]
    }
   ],
   "source": [
    "sudo lxc-ls ais-bashy --fancy | awk '{ print $3 }'"
   ]
  },
  {
   "cell_type": "code",
   "execution_count": 10,
   "metadata": {},
   "outputs": [
    {
     "name": "stdout",
     "output_type": "stream",
     "text": [
      "GROUPS\n",
      "-\n"
     ]
    }
   ],
   "source": [
    "sudo lxc-ls ais-bashy --fancy | awk '{ print $4 }'"
   ]
  },
  {
   "cell_type": "code",
   "execution_count": 11,
   "metadata": {},
   "outputs": [
    {
     "name": "stdout",
     "output_type": "stream",
     "text": [
      "IPV4\n",
      "10.0.3.80\n"
     ]
    }
   ],
   "source": [
    "sudo lxc-ls ais-bashy --fancy | awk '{ print $5 }'"
   ]
  },
  {
   "cell_type": "code",
   "execution_count": 12,
   "metadata": {},
   "outputs": [
    {
     "name": "stdout",
     "output_type": "stream",
     "text": [
      "10.0.3.80\n"
     ]
    }
   ],
   "source": [
    "sudo lxc-ls ais-bashy --fancy | awk '{ print $5 }' | grep '.\\.'"
   ]
  },
  {
   "cell_type": "code",
   "execution_count": 16,
   "metadata": {},
   "outputs": [
    {
     "name": "stdout",
     "output_type": "stream",
     "text": [
      "10.0.3.80\n"
     ]
    }
   ],
   "source": [
    "export AIS_BASHY_IP=$(sudo lxc-ls ais-bashy --fancy | awk '{ print $5 }' | grep '.\\.')\n",
    "echo $AIS_BASHY_IP"
   ]
  },
  {
   "cell_type": "code",
   "execution_count": 14,
   "metadata": {},
   "outputs": [
    {
     "name": "stdout",
     "output_type": "stream",
     "text": [
      " 07:25:28 up 34 min,  0 users,  load average: 0,00, 0,07, 0,06\n"
     ]
    }
   ],
   "source": [
    "ssh root@${AIS_BASHY_IP} uptime"
   ]
  },
  {
   "cell_type": "code",
   "execution_count": 15,
   "metadata": {},
   "outputs": [
    {
     "name": "stdout",
     "output_type": "stream",
     "text": [
      "authorized_keys  id_rsa  id_rsa.pub  known_hosts\n"
     ]
    }
   ],
   "source": [
    "ls ~/.ssh"
   ]
  },
  {
   "cell_type": "code",
   "execution_count": 19,
   "metadata": {},
   "outputs": [
    {
     "name": "stdout",
     "output_type": "stream",
     "text": [
      "echo ist eine von der Shell mitgelieferte Funktion.\n"
     ]
    }
   ],
   "source": [
    "type echo"
   ]
  },
  {
   "cell_type": "code",
   "execution_count": 20,
   "metadata": {},
   "outputs": [
    {
     "name": "stdout",
     "output_type": "stream",
     "text": [
      "echo: echo [-neE] [Argument ...]\n",
      "    Ausgabe der Argumente auf die Standardausgabe.\n",
      "    \n",
      "    Zeigt die Argumente auf der Standardausgabe gefolgt von einem\n",
      "    Zeilenumbruch an.\n",
      "    \n",
      "    Optionen:\n",
      "      -n\tKeinen Zeilenumbruch anfügen\n",
      "      -e\tInterpretation der folgenden Escape-Sequenzen zulassen\n",
      "      -E\tKeine Interpretation der Escape-Sequenzen.\n",
      "    \n",
      "    »echo« interpretiert die folgenden Escape-Sequenzen:\n",
      "      \\a\tAlarm (Glocke)\n",
      "      \\b\tRücktaste (Backspace)\n",
      "      \\c\tweitere Ausgabe unterdrücken\n",
      "      \\e\tEscape-Zeichen\n",
      "      \\E        Escape Zeichen\n",
      "      \\f\tSeitenvorschub\n",
      "      \\n\tZeilenvorschub\n",
      "      \\r\tWagenrücklauf\n",
      "      \\t\tHorizontaler Tabulator\n",
      "      \\v\tVertikaler Tabulator\n",
      "      \\\\        umgekehrter Schrägstrich (Backslash)\n",
      "      \\0nnn\tZeichen mit dem ASCII-Code »NNN« (oktal). »NNN« kann null\n",
      "    \t\tbis drei oktale Ziffern haben.\n",
      "      \\xHH\tAcht-Bit-Zeichen mit dem Wert »HH« (hexadezimal). »HH«\n",
      "    \t\tkann ein oder zwei hexadezimale Ziffern haben.\n",
      "    \n",
      "    Rückgabewert:\n",
      "    Gibt »Erfolg« zurück, außer ein Ausgabefehler tritt auf.\n"
     ]
    }
   ],
   "source": [
    "help echo"
   ]
  },
  {
   "cell_type": "markdown",
   "metadata": {},
   "source": [
    "Achtung dies überschreibt eine bestehende ssh-config Datei."
   ]
  },
  {
   "cell_type": "code",
   "execution_count": 27,
   "metadata": {},
   "outputs": [],
   "source": [
    "echo -e \"HOST AIS-BASHY\\n\\tHostName\\t${AIS_BASHY_IP}\\n\\tUser\\troot\" > ~/.ssh/config"
   ]
  },
  {
   "cell_type": "code",
   "execution_count": 28,
   "metadata": {},
   "outputs": [
    {
     "name": "stdout",
     "output_type": "stream",
     "text": [
      "HOST AIS-BASHY\n",
      "\tHostName\t10.0.3.80\n",
      "\tUser\troot\n"
     ]
    }
   ],
   "source": [
    "cat ~/.ssh/config"
   ]
  },
  {
   "cell_type": "code",
   "execution_count": 29,
   "metadata": {},
   "outputs": [
    {
     "name": "stdout",
     "output_type": "stream",
     "text": [
      " 07:36:52 up 45 min,  0 users,  load average: 0,00, 0,00, 0,00\n"
     ]
    }
   ],
   "source": [
    "ssh AIS-BASHY uptime"
   ]
  },
  {
   "cell_type": "code",
   "execution_count": 31,
   "metadata": {},
   "outputs": [
    {
     "name": "stdout",
     "output_type": "stream",
     "text": [
      "10.0.3.80 | SUCCESS => {\n",
      "    \"changed\": false, \n",
      "    \"failed\": false, \n",
      "    \"ping\": \"pong\"\n",
      "}\n"
     ]
    }
   ],
   "source": [
    "ansible -m ping -i ${AIS_BASHY_IP}, ${AIS_BASHY_IP} -u root"
   ]
  },
  {
   "cell_type": "code",
   "execution_count": null,
   "metadata": {},
   "outputs": [],
   "source": []
  }
 ],
 "metadata": {
  "kernelspec": {
   "display_name": "Bash",
   "language": "bash",
   "name": "bash"
  },
  "language_info": {
   "codemirror_mode": "shell",
   "file_extension": ".sh",
   "mimetype": "text/x-sh",
   "name": "bash"
  }
 },
 "nbformat": 4,
 "nbformat_minor": 2
}
