{
 "cells": [
  {
   "cell_type": "markdown",
   "metadata": {
    "slideshow": {
     "slide_type": "slide"
    }
   },
   "source": [
    "# Erste Schritte\n",
    "\n",
    "Zunächst feststellen wo wir sind:"
   ]
  },
  {
   "cell_type": "code",
   "execution_count": 9,
   "metadata": {
    "slideshow": {
     "slide_type": "subslide"
    }
   },
   "outputs": [
    {
     "name": "stdout",
     "output_type": "stream",
     "text": [
      "/home/vagrant/rdf/ais/hands-on-ansible/00-home-base\n"
     ]
    }
   ],
   "source": [
    "pwd"
   ]
  },
  {
   "cell_type": "markdown",
   "metadata": {
    "slideshow": {
     "slide_type": "subslide"
    }
   },
   "source": [
    "Und welche Dateien es dort gibt:"
   ]
  },
  {
   "cell_type": "code",
   "execution_count": 10,
   "metadata": {
    "slideshow": {
     "slide_type": "subslide"
    }
   },
   "outputs": [
    {
     "name": "stdout",
     "output_type": "stream",
     "text": [
      "insgesamt 60K\n",
      "7740866 drwxrwxr-x 3 vagrant vagrant 4,0K Okt  5 17:55 .\n",
      "7740823 drwxrwxr-x 8 vagrant vagrant 4,0K Okt  5 12:40 ..\n",
      "7740867 -rw-rw-r-- 1 vagrant vagrant   60 Okt  5 12:40 2.1_creating_Ansible_Home_Base.sh\n",
      "7740868 -rw-rw-r-- 1 vagrant vagrant  359 Okt  5 12:40 2.2_Ansible_Bleeding_Edge.sh\n",
      "7740869 -rw-rw-r-- 1 vagrant vagrant  498 Okt  5 12:40 2.3_Ansible_pip.sh\n",
      "7740870 -rwxrwxr-x 1 vagrant vagrant  737 Okt  5 12:40 2.4_lxc_setup.sh\n",
      "7740872 -rwxrwxr-x 1 vagrant vagrant 1,2K Okt  5 17:53 ais-lxc-setup.sh\n",
      "7740871 -rw-rw-r-- 1 vagrant vagrant  17K Okt  5 17:55 Erste_Schritte_LXC.ipynb\n",
      "7741148 drwxr-xr-x 2 vagrant vagrant 4,0K Okt  5 17:22 .ipynb_checkpoints\n",
      "7741162 -rw-r--r-- 1 vagrant vagrant   10 Okt  5 17:53 setup-lxc.retry\n",
      "7740873 -rw-rw-r-- 1 vagrant vagrant  372 Okt  5 17:32 setup-lxc.yml\n"
     ]
    }
   ],
   "source": [
    "ls -lachi"
   ]
  },
  {
   "cell_type": "markdown",
   "metadata": {
    "slideshow": {
     "slide_type": "slide"
    }
   },
   "source": [
    "Der Inhalt der Datei ais-lxc-setup.sh"
   ]
  },
  {
   "cell_type": "code",
   "execution_count": 11,
   "metadata": {
    "slideshow": {
     "slide_type": "subslide"
    }
   },
   "outputs": [
    {
     "name": "stdout",
     "output_type": "stream",
     "text": [
      "#!/bin/bash\n",
      "\n",
      "set -uxe\n",
      "\n",
      "# Path for prepare playbook\n",
      "PREPARE=~/rdf/ais/hands-on-ansible/02-playbooks/00-simple-playbook-examples/prepare_ansible_target.yml\n",
      "# Create ssh-key with empty passphrase (ONLY FOR TESTING)\n",
      "MAKE_SSH_KEY=\"ssh-keygen -b 2048 -t rsa -f ~/.ssh/id_rsa -q -N \\\"\\\"\"\n",
      "\n",
      "# Create containers\n",
      "# The login user is ubuntu with password ubuntu\n",
      "for i in ais-bashy web1 web2 db playbooks; do\n",
      "\tsudo lxc-create -n ${i} -t ubuntu && \\\n",
      "\t# Remove legacy configuration keys \\\n",
      "\tsudo lxc-update-config -c /var/lib/lxc/${i}/config && \\\n",
      "\t# Start container \\ \n",
      "\tsudo lxc-start -n ${i} && \\\n",
      "\t# Prepare ais-bashy \\\n",
      "\tif [[ ${i} == \"ais-bashy\" ]]; then\n",
      "\t\techo \"Wait for comming up\"\n",
      "\t\tsleep 5\n",
      "\t\t# Get ip\n",
      "\t\tip=$(sudo lxc-ls --fancy | grep ${i} | cut -d '-' -f 3 | tr -d ' ')\n",
      "\t\t# Remove host key for ip\n",
      "\t\tssh-keygen -R ${ip}\n",
      "\t\t# Add ip into known_hosts\n",
      "\t\tssh-keyscan -H ${ip} >> ~/.ssh/known_hosts\n",
      "\t\t# Setup ssh-key for user\n",
      "\t\tls ~/.ssh/id_rsa || ansible -i localhost, -m shell -a \"${MAKE_SSH_KEY}\" --connection=local localhost\n",
      "\t\t# Run prepare playbook\n",
      "\t\tansible-playbook -i ${ip}, -u ubuntu --ask-pass --ask-become-pass ${PREPARE}\n",
      "\tfi\n",
      "done\n",
      "sleep 5\n",
      "sudo lxc-ls --fancy\n"
     ]
    }
   ],
   "source": [
    "cat ais-lxc-setup.sh"
   ]
  },
  {
   "cell_type": "markdown",
   "metadata": {
    "slideshow": {
     "slide_type": "subslide"
    }
   },
   "source": [
    "Dieses Skript ist interaktiv, es frägt nach dem Loginpasswort `ubuntu` und suod-Passwort `ubuntu`.\n",
    "\n",
    "Mit `expect` bzw. mit dem python-Modul pexpect können diese Fragen per Skript beantwortet werden.\n",
    "\n",
    "https://www.clug.de/vortraege/expect/expect.html\n",
    "\n",
    "Für `expect` gibt es das gleichnamige ansible-Modul. Die Dokumentation findet man hier:\n",
    "\n",
    "http://docs.ansible.com/ansible/latest/expect_module.html#requirements-on-host-that-executes-module\n",
    "\n",
    "Es werden die Abhängigkeiten installiert:"
   ]
  },
  {
   "cell_type": "code",
   "execution_count": 12,
   "metadata": {
    "slideshow": {
     "slide_type": "skip"
    }
   },
   "outputs": [
    {
     "name": "stdout",
     "output_type": "stream",
     "text": [
      "Ign:1 http://repo.mongodb.org/apt/ubuntu xenial/mongodb-org/3.4 InRelease\n",
      "Ign:2 http://dl.google.com/linux/chrome/deb stable InRelease                   \n",
      "OK:3 http://repo.mongodb.org/apt/ubuntu xenial/mongodb-org/3.4 Release         \n",
      "Holen:4 http://security.ubuntu.com/ubuntu xenial-security InRelease [102 kB]   \n",
      "OK:5 http://dl.google.com/linux/chrome/deb stable Release                      \n",
      "OK:6 http://us.archive.ubuntu.com/ubuntu xenial InRelease                      \n",
      "OK:9 http://us.archive.ubuntu.com/ubuntu xenial-updates InRelease              \n",
      "OK:10 https://download.docker.com/linux/ubuntu xenial InRelease              \n",
      "OK:12 https://deb.nodesource.com/node_6.x xenial InRelease                   \n",
      "Holen:13 http://us.archive.ubuntu.com/ubuntu xenial-backports InRelease [102 kB]\n",
      "OK:14 http://ppa.launchpad.net/ansible/ansible/ubuntu xenial InRelease         \n",
      "OK:15 http://ppa.launchpad.net/git-core/ppa/ubuntu xenial InRelease            \n",
      "OK:16 http://ppa.launchpad.net/gnome-terminator/ppa/ubuntu xenial InRelease    \n",
      "OK:17 http://ppa.launchpad.net/webupd8team/atom/ubuntu xenial InRelease        \n",
      "OK:8 https://packages.cloud.google.com/apt kubernetes-xenial InRelease         \n",
      "Es wurden 204 kB in 1 s geholt (134 kB/s).\n",
      "Paketlisten werden gelesen... Fertig\n",
      "Paketlisten werden gelesen... Fertig\n",
      "Abhängigkeitsbaum wird aufgebaut.       \n",
      "Statusinformationen werden eingelesen.... Fertig\n",
      "»python3-pexpect« ist bereits die neuste Version (4.0.1-1).\n",
      "»python-pexpect« ist bereits die neuste Version (4.0.1-1).\n",
      "0 aktualisiert, 0 neu installiert, 0 zu entfernen und 3 nicht aktualisiert.\n"
     ]
    }
   ],
   "source": [
    "sudo apt-get update && sudo apt-get install --yes python-pexpect python3-pexpect"
   ]
  },
  {
   "cell_type": "markdown",
   "metadata": {
    "slideshow": {
     "slide_type": "fragment"
    }
   },
   "source": [
    "Somit kann das ansible-Module `expect` verwendet werden."
   ]
  },
  {
   "cell_type": "code",
   "execution_count": 13,
   "metadata": {
    "slideshow": {
     "slide_type": "subslide"
    }
   },
   "outputs": [
    {
     "name": "stdout",
     "output_type": "stream",
     "text": [
      "---\n",
      "- hosts: all\n",
      "  connection: local\n",
      "  gather_facts: no\n",
      "\n",
      "  tasks:\n",
      "  - name: Update apt\n",
      "    apt:\n",
      "      update_cache: yes\n",
      "      cache_valid_time: 3600\n",
      "      \n",
      "  - name: Init AIS lxc containers\n",
      "    expect:\n",
      "      command: /home/vagrant/rdf/ais/hands-on-ansible/00-home-base/ais-lxc-setup.sh\n",
      "      responses:\n",
      "        (?i)password: \"ubuntu\"\n",
      "      creates: /var/lib/lxc/ais-bashy\n"
     ]
    }
   ],
   "source": [
    "cat setup-lxc.yml"
   ]
  },
  {
   "cell_type": "markdown",
   "metadata": {
    "slideshow": {
     "slide_type": "fragment"
    }
   },
   "source": [
    "Unser Skript wird aufgerufen und falls der String `password` (case insensitive) erscheint, wird `ubuntu` als Passwort eingegeben."
   ]
  },
  {
   "cell_type": "code",
   "execution_count": 15,
   "metadata": {
    "slideshow": {
     "slide_type": "subslide"
    }
   },
   "outputs": [
    {
     "name": "stdout",
     "output_type": "stream",
     "text": [
      " ____________\n",
      "< PLAY [all] >\n",
      " ------------\n",
      "        \\   ^__^\n",
      "         \\  (oo)\\_______\n",
      "            (__)\\       )\\/\\\n",
      "                ||----w |\n",
      "                ||     ||\n",
      "\n",
      " ___________________\n",
      "< TASK [Update apt] >\n",
      " -------------------\n",
      "        \\   ^__^\n",
      "         \\  (oo)\\_______\n",
      "            (__)\\       )\\/\\\n",
      "                ||----w |\n",
      "                ||     ||\n",
      "\n",
      "ok: [localhost]\n",
      " ________________________________\n",
      "< TASK [Init AIS lxc containers] >\n",
      " --------------------------------\n",
      "        \\   ^__^\n",
      "         \\  (oo)\\_______\n",
      "            (__)\\       )\\/\\\n",
      "                ||----w |\n",
      "                ||     ||\n",
      "\n",
      "ok: [localhost]\n",
      " ____________\n",
      "< PLAY RECAP >\n",
      " ------------\n",
      "        \\   ^__^\n",
      "         \\  (oo)\\_______\n",
      "            (__)\\       )\\/\\\n",
      "                ||----w |\n",
      "                ||     ||\n",
      "\n",
      "localhost                  : ok=2    changed=0    unreachable=0    failed=0   \n",
      "\n"
     ]
    }
   ],
   "source": [
    "ansible-playbook -i localhost, setup-lxc.yml"
   ]
  },
  {
   "cell_type": "markdown",
   "metadata": {
    "slideshow": {
     "slide_type": "slide"
    }
   },
   "source": [
    "Wir können nun die Container anzeigen lassen."
   ]
  },
  {
   "cell_type": "code",
   "execution_count": 16,
   "metadata": {
    "slideshow": {
     "slide_type": "subslide"
    }
   },
   "outputs": [
    {
     "name": "stdout",
     "output_type": "stream",
     "text": [
      "ais-bashy db        playbooks web1      web2      \n"
     ]
    }
   ],
   "source": [
    "sudo lxc-ls"
   ]
  },
  {
   "cell_type": "code",
   "execution_count": 17,
   "metadata": {
    "slideshow": {
     "slide_type": "subslide"
    }
   },
   "outputs": [
    {
     "name": "stdout",
     "output_type": "stream",
     "text": [
      "Usage: lxc-ls \n",
      "[-P lxcpath] [--active] [--running] [--frozen] [--stopped] [--nesting] [-g groups] [--filter regex]\n",
      "[-1] [-P lxcpath] [--active] [--running] [--frozen] [--stopped] [--nesting] [-g groups] [--filter regex]\n",
      "[-f] [-P lxcpath] [--active] [--running] [--frozen] [--stopped] [--nesting] [-g groups] [--filter regex]\n",
      "\n",
      "lxc-ls list containers\n",
      "\n",
      "Options :\n",
      "  -1, --line         show one entry per line\n",
      "  -f, --fancy        use a fancy, column-based output\n",
      "  -F, --fancy-format comma separated list of columns to show in the fancy output\n",
      "                     valid columns are: NAME, STATE, PID, RAM, SWAP, AUTOSTART,\n",
      "                     GROUPS, INTERFACE, IPV4 and IPV6\n",
      "  --active           list only active containers\n",
      "  --running          list only running containers\n",
      "  --frozen           list only frozen containers\n",
      "  --stopped          list only stopped containers\n",
      "  --defined          list only defined containers\n",
      "  --nesting=NUM      list nested containers up to NUM (default is 5) levels of nesting\n",
      "  --filter=REGEX     filter container names by regular expression\n",
      "  -g --groups        comma separated list of groups a container must have to be displayed\n",
      "\n",
      "Common options :\n",
      "  -o, --logfile=FILE               Output log to FILE instead of stderr\n",
      "  -l, --logpriority=LEVEL          Set log priority to LEVEL\n",
      "  -q, --quiet                      Don't produce any output\n",
      "  -P, --lxcpath=PATH               Use specified container path\n",
      "  -?, --help                       Give this help list\n",
      "      --usage                      Give a short usage message\n",
      "      --version                    Print the version number\n",
      "\n",
      "Mandatory or optional arguments to long options are also mandatory or optional\n",
      "for any corresponding short options.\n",
      "\n",
      "See the lxc-ls man page for further information.\n",
      "\n"
     ]
    }
   ],
   "source": [
    "sudo lxc-ls --help"
   ]
  },
  {
   "cell_type": "code",
   "execution_count": 18,
   "metadata": {
    "slideshow": {
     "slide_type": "subslide"
    }
   },
   "outputs": [
    {
     "name": "stdout",
     "output_type": "stream",
     "text": [
      "NAME      STATE   AUTOSTART GROUPS IPV4       IPV6 \n",
      "ais-bashy RUNNING 0         -      10.0.3.33  -    \n",
      "db        RUNNING 0         -      10.0.3.222 -    \n",
      "playbooks RUNNING 0         -      10.0.3.231 -    \n",
      "web1      RUNNING 0         -      10.0.3.153 -    \n",
      "web2      RUNNING 0         -      10.0.3.53  -    \n"
     ]
    }
   ],
   "source": [
    "sudo lxc-ls --fancy"
   ]
  },
  {
   "cell_type": "markdown",
   "metadata": {
    "slideshow": {
     "slide_type": "slide"
    }
   },
   "source": [
    "Nur für unseren ais-bashy lautet das Kommando:"
   ]
  },
  {
   "cell_type": "code",
   "execution_count": 19,
   "metadata": {
    "slideshow": {
     "slide_type": "subslide"
    }
   },
   "outputs": [
    {
     "name": "stdout",
     "output_type": "stream",
     "text": [
      "NAME      STATE   AUTOSTART GROUPS IPV4      IPV6 \n",
      "ais-bashy RUNNING 0         -      10.0.3.33 -    \n"
     ]
    }
   ],
   "source": [
    "sudo lxc-ls ais-bashy --fancy"
   ]
  },
  {
   "cell_type": "code",
   "execution_count": 20,
   "metadata": {
    "slideshow": {
     "slide_type": "fragment"
    }
   },
   "outputs": [
    {
     "name": "stdout",
     "output_type": "stream",
     "text": [
      "NAME\n",
      "ais-bashy\n"
     ]
    }
   ],
   "source": [
    "sudo lxc-ls ais-bashy --fancy | awk '{ print $1 }'"
   ]
  },
  {
   "cell_type": "code",
   "execution_count": 21,
   "metadata": {
    "slideshow": {
     "slide_type": "fragment"
    }
   },
   "outputs": [
    {
     "name": "stdout",
     "output_type": "stream",
     "text": [
      "STATE\n",
      "RUNNING\n"
     ]
    }
   ],
   "source": [
    "sudo lxc-ls ais-bashy --fancy | awk '{ print $2 }'"
   ]
  },
  {
   "cell_type": "code",
   "execution_count": 22,
   "metadata": {
    "slideshow": {
     "slide_type": "fragment"
    }
   },
   "outputs": [
    {
     "name": "stdout",
     "output_type": "stream",
     "text": [
      "AUTOSTART\n",
      "0\n"
     ]
    }
   ],
   "source": [
    "sudo lxc-ls ais-bashy --fancy | awk '{ print $3 }'"
   ]
  },
  {
   "cell_type": "code",
   "execution_count": 23,
   "metadata": {
    "slideshow": {
     "slide_type": "fragment"
    }
   },
   "outputs": [
    {
     "name": "stdout",
     "output_type": "stream",
     "text": [
      "GROUPS\n",
      "-\n"
     ]
    }
   ],
   "source": [
    "sudo lxc-ls ais-bashy --fancy | awk '{ print $4 }'"
   ]
  },
  {
   "cell_type": "code",
   "execution_count": 24,
   "metadata": {
    "slideshow": {
     "slide_type": "fragment"
    }
   },
   "outputs": [
    {
     "name": "stdout",
     "output_type": "stream",
     "text": [
      "IPV4\n",
      "10.0.3.33\n"
     ]
    }
   ],
   "source": [
    "sudo lxc-ls ais-bashy --fancy | awk '{ print $5 }'"
   ]
  },
  {
   "cell_type": "code",
   "execution_count": 25,
   "metadata": {
    "slideshow": {
     "slide_type": "subslide"
    }
   },
   "outputs": [
    {
     "name": "stdout",
     "output_type": "stream",
     "text": [
      "10.0.3.33\n"
     ]
    }
   ],
   "source": [
    "sudo lxc-ls ais-bashy --fancy | awk '{ print $5 }' | grep '.\\.'"
   ]
  },
  {
   "cell_type": "code",
   "execution_count": 26,
   "metadata": {
    "slideshow": {
     "slide_type": "subslide"
    }
   },
   "outputs": [
    {
     "name": "stdout",
     "output_type": "stream",
     "text": [
      "10.0.3.33\n"
     ]
    }
   ],
   "source": [
    "export AIS_BASHY_IP=$(sudo lxc-ls ais-bashy --fancy | awk '{ print $5 }' | grep '.\\.')\n",
    "echo $AIS_BASHY_IP"
   ]
  },
  {
   "cell_type": "markdown",
   "metadata": {
    "slideshow": {
     "slide_type": "slide"
    }
   },
   "source": [
    "## Uptime via ssh und ansible erfragen"
   ]
  },
  {
   "cell_type": "code",
   "execution_count": 27,
   "metadata": {
    "slideshow": {
     "slide_type": "fragment"
    }
   },
   "outputs": [
    {
     "name": "stdout",
     "output_type": "stream",
     "text": [
      " 17:55:41 up  3:31,  0 users,  load average: 0,89, 0,61, 0,44\n"
     ]
    }
   ],
   "source": [
    "ssh root@${AIS_BASHY_IP} uptime"
   ]
  },
  {
   "cell_type": "code",
   "execution_count": 28,
   "metadata": {
    "slideshow": {
     "slide_type": "skip"
    }
   },
   "outputs": [
    {
     "name": "stdout",
     "output_type": "stream",
     "text": [
      "authorized_keys  id_rsa  id_rsa.pub  known_hosts\n"
     ]
    }
   ],
   "source": [
    "ls ~/.ssh"
   ]
  },
  {
   "cell_type": "code",
   "execution_count": 29,
   "metadata": {
    "slideshow": {
     "slide_type": "skip"
    }
   },
   "outputs": [
    {
     "name": "stdout",
     "output_type": "stream",
     "text": [
      "echo ist eine von der Shell mitgelieferte Funktion.\n"
     ]
    }
   ],
   "source": [
    "type echo"
   ]
  },
  {
   "cell_type": "code",
   "execution_count": 30,
   "metadata": {
    "slideshow": {
     "slide_type": "skip"
    }
   },
   "outputs": [
    {
     "name": "stdout",
     "output_type": "stream",
     "text": [
      "echo: echo [-neE] [Argument ...]\n",
      "    Ausgabe der Argumente auf die Standardausgabe.\n",
      "    \n",
      "    Zeigt die Argumente auf der Standardausgabe gefolgt von einem\n",
      "    Zeilenumbruch an.\n",
      "    \n",
      "    Optionen:\n",
      "      -n\tKeinen Zeilenumbruch anfügen\n",
      "      -e\tInterpretation der folgenden Escape-Sequenzen zulassen\n",
      "      -E\tKeine Interpretation der Escape-Sequenzen.\n",
      "    \n",
      "    »echo« interpretiert die folgenden Escape-Sequenzen:\n",
      "      \\a\tAlarm (Glocke)\n",
      "      \\b\tRücktaste (Backspace)\n",
      "      \\c\tweitere Ausgabe unterdrücken\n",
      "      \\e\tEscape-Zeichen\n",
      "      \\E        Escape Zeichen\n",
      "      \\f\tSeitenvorschub\n",
      "      \\n\tZeilenvorschub\n",
      "      \\r\tWagenrücklauf\n",
      "      \\t\tHorizontaler Tabulator\n",
      "      \\v\tVertikaler Tabulator\n",
      "      \\\\        umgekehrter Schrägstrich (Backslash)\n",
      "      \\0nnn\tZeichen mit dem ASCII-Code »NNN« (oktal). »NNN« kann null\n",
      "    \t\tbis drei oktale Ziffern haben.\n",
      "      \\xHH\tAcht-Bit-Zeichen mit dem Wert »HH« (hexadezimal). »HH«\n",
      "    \t\tkann ein oder zwei hexadezimale Ziffern haben.\n",
      "    \n",
      "    Rückgabewert:\n",
      "    Gibt »Erfolg« zurück, außer ein Ausgabefehler tritt auf.\n"
     ]
    }
   ],
   "source": [
    "help echo"
   ]
  },
  {
   "cell_type": "markdown",
   "metadata": {
    "slideshow": {
     "slide_type": "skip"
    }
   },
   "source": [
    "Achtung dies überschreibt eine bestehende ssh-config Datei."
   ]
  },
  {
   "cell_type": "code",
   "execution_count": 31,
   "metadata": {
    "slideshow": {
     "slide_type": "fragment"
    }
   },
   "outputs": [],
   "source": [
    "echo -e \"HOST AIS-BASHY\\n\\tHostName\\t${AIS_BASHY_IP}\\n\\tUser\\troot\" > ~/.ssh/config"
   ]
  },
  {
   "cell_type": "code",
   "execution_count": 32,
   "metadata": {
    "slideshow": {
     "slide_type": "fragment"
    }
   },
   "outputs": [
    {
     "name": "stdout",
     "output_type": "stream",
     "text": [
      "HOST AIS-BASHY\n",
      "\tHostName\t10.0.3.33\n",
      "\tUser\troot\n"
     ]
    }
   ],
   "source": [
    "cat ~/.ssh/config"
   ]
  },
  {
   "cell_type": "code",
   "execution_count": 33,
   "metadata": {
    "slideshow": {
     "slide_type": "subslide"
    }
   },
   "outputs": [
    {
     "name": "stdout",
     "output_type": "stream",
     "text": [
      " 17:55:43 up  3:31,  0 users,  load average: 0,89, 0,61, 0,44\n"
     ]
    }
   ],
   "source": [
    "ssh AIS-BASHY uptime"
   ]
  },
  {
   "cell_type": "code",
   "execution_count": 34,
   "metadata": {
    "slideshow": {
     "slide_type": "slide"
    }
   },
   "outputs": [
    {
     "name": "stdout",
     "output_type": "stream",
     "text": [
      "10.0.3.33 | SUCCESS | rc=0 >>\n",
      " 17:55:46 up  3:31,  1 user,  load average: 0,90, 0,62, 0,44\n"
     ]
    }
   ],
   "source": [
    "ansible -a uptime -i ${AIS_BASHY_IP}, ${AIS_BASHY_IP} -u root"
   ]
  },
  {
   "cell_type": "markdown",
   "metadata": {
    "slideshow": {
     "slide_type": "skip"
    }
   },
   "source": [
    "## Aufräumen\n",
    "\n",
    "Achtung dies löscht alle Container ohne wenn und aber."
   ]
  },
  {
   "cell_type": "code",
   "execution_count": 35,
   "metadata": {
    "slideshow": {
     "slide_type": "skip"
    }
   },
   "outputs": [
    {
     "name": "stdout",
     "output_type": "stream",
     "text": [
      "Destroyed container ais-bashy\n",
      "Destroyed container db\n",
      "Destroyed container web1\n",
      "Destroyed container web2\n",
      "Destroyed container playbooks\n"
     ]
    }
   ],
   "source": [
    "for i in ais-bashy db web1 web2 playbooks; do\n",
    "    sudo lxc-destroy --force --name ${i}\n",
    "done"
   ]
  },
  {
   "cell_type": "code",
   "execution_count": 36,
   "metadata": {
    "slideshow": {
     "slide_type": "skip"
    }
   },
   "outputs": [],
   "source": [
    "sudo lxc-ls --fancy"
   ]
  },
  {
   "cell_type": "code",
   "execution_count": null,
   "metadata": {},
   "outputs": [],
   "source": []
  }
 ],
 "metadata": {
  "celltoolbar": "Slideshow",
  "kernelspec": {
   "display_name": "Bash",
   "language": "bash",
   "name": "bash"
  },
  "language_info": {
   "codemirror_mode": "shell",
   "file_extension": ".sh",
   "mimetype": "text/x-sh",
   "name": "bash"
  }
 },
 "nbformat": 4,
 "nbformat_minor": 2
}
